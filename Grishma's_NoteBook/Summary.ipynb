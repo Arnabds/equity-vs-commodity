{
 "cells": [
  {
   "cell_type": "markdown",
   "metadata": {},
   "source": [
    "## Predicting Stock Prices of Ford Using SVM Models\n",
    "This project explores the application of Support Vector Machines (SVMs) to predict stock prices of Ford Motor Company, employing both Support Vector Regression (SVR) and Support Vector Classification (SVC). The goal is to forecast future stock prices using regression techniques and to classify stock price movements (up or down) using classification techniques. Below is a step-by-step breakdown of the methodology and key differentiating factors between SVR and SVC."
   ]
  },
  {
   "cell_type": "markdown",
   "metadata": {},
   "source": [
    "## 1. Data Preparation\n",
    "Summary: Historical stock price data was collected and preprocessed. Key features like moving averages, relative strength index (RSI), and volume data were extracted. Missing values were imputed, and data was scaled for consistency using z-score normalization.\n",
    "\n",
    "SVR Use Case: The scaled features and target variable (actual stock prices) were prepared for regression tasks.\n",
    "\n",
    "SVC Use Case: A new binary target variable (Price_Change) was created, indicating whether the stock price would go up (1) or stay the same/go down (0) the next day.\n",
    "\n",
    "Analysis: Preprocessing is critical for both SVR and SVC since SVMs are sensitive to feature scaling. Creating a binary classification target for SVC allows the method to focus on directional movement instead of exact price values."
   ]
  },
  {
   "cell_type": "markdown",
   "metadata": {},
   "source": [
    "To predict Ford's stock prices, I implemented a Support Vector Regression (SVR) model on recent trading data. The dataset consisted of features such as currency rates, technical indicators, and statistical attributes, spanning the last two months of data. Preprocessing involved standardizing and transforming the features using StandardScaler and PowerTransformer to ensure the data was normalized and any skewness was addressed.\n",
    "\n",
    "For model training and validation, I reserved the last week of data as an unseen test set while the remaining data was used"
   ]
  },
  {
   "cell_type": "markdown",
   "metadata": {},
   "source": [
    "## 2. SVR: Predicting Stock Prices\n",
    "Methodology:\n",
    "\n",
    "The Support Vector Regression (SVR) model was trained to predict Ford's stock prices using a dataset of technical and financial indicators. The kernel functions tested include: Linear: Assumes a linear relationship between features and target, RBF (Radial Basis Function): Captures nonlinear relationships by mapping data to higher dimensions.\n",
    "Hyperparameters such as C (regularization), epsilon (tolerance). The features were preprocessed using standardization and power transformation to ensure optimal model performance. A linear kernel SVR model with tuned hyperparameters (C=1 and epsilon=0.01) was selected through time-series cross-validation and grid search, with the evaluation focusing on minimizing mean squared error (MSE). For testing, the last week of data was reserved as an unseen test set. The model achieved a mean squared error (MSE) of 0.0081, demonstrating its accuracy in predicting short-term stock trends. The SVR model effectively captures the nuances in Ford's stock movements, providing actionable insights for financial decision-making.\n",
    "\n",
    "Differentiation:\n",
    "\n",
    "SVR aims to minimize the prediction error while allowing some deviation (epsilon) from the true price.\n",
    "SVR solves a regression problem and focuses on finding a hyperplane that fits most data points within a margin of tolerance. SVR provides precise price predictions, useful for portfolio planning. It is sensitive to outliers and requires fine-tuned hyperparameters for optimal performance.\n",
    "\n",
    "\n"
   ]
  },
  {
   "cell_type": "markdown",
   "metadata": {},
   "source": [
    "## 3. SVC: Classifying Stock Price Movements\n",
    "Methodology:\n",
    "\n",
    "SVC was used to classify whether the stock price would increase (1) or not (0). The following steps were performed:\n",
    "Kernel Selection: Linear and RBF kernels were tested.\n",
    "Hyperparameter Tuning: GridSearchCV was used to find the optimal C and kernel parameters.\n",
    "Train-Test Split: Data was divided into training and testing sets, ensuring temporal order for time-series integrity.\n",
    "\n",
    "Differentiation:\n",
    "\n",
    "SVC is designed for classification tasks and finds a hyperplane that maximizes the margin between classes (price up vs. not up).\n",
    "Unlike SVR, which predicts continuous values, SVC predicts categorical outcomes, focusing on decision boundaries. Strength: Simplifies the problem by focusing on directional movement, reducing the complexity of price forecasting.\n",
    "Weakness: Does not provide exact price values, limiting its use in specific financial applications.\n",
    "\n",
    "Results:\n",
    "\n",
    "Evaluation Metrics: Accuracy, Precision, Recall, and F1 Score were used to assess performance.\n",
    "Findings: The RBF kernel outperformed the linear kernel, reflecting the complex relationships in the stock price movements."
   ]
  },
  {
   "cell_type": "markdown",
   "metadata": {},
   "source": [
    "## 5. Final Forecasting and Analysis\n",
    "The SVR model was used to forecast the next 7 days of stock prices, providing continuous predictions with confidence intervals.\n",
    "The SVC model was applied to predict whether the stock price would rise or not for the same period.\n",
    "\n",
    "Key Insights:\n",
    "\n",
    "The SVR model provided accurate forecasts for stock prices when nonlinear kernels were used, highlighting its suitability for regression tasks in financial markets.\n",
    "The SVC model offered valuable insights into price direction, helping traders make binary decisions (buy/sell)."
   ]
  },
  {
   "cell_type": "markdown",
   "metadata": {},
   "source": [
    "## Conclusion\n",
    "This project demonstrates the versatility of SVMs in stock market prediction, with SVR excelling in regression tasks and SVC effectively classifying price movements. While both approaches have their strengths, their combined use provides a comprehensive strategy for understanding and forecasting stock market behavior."
   ]
  },
  {
   "cell_type": "markdown",
   "metadata": {},
   "source": [
    "# Summary of SVM Regression Analysis for Ford's Stock Prediction\n",
    "The Support Vector Regression (SVR) model was trained to predict Ford's stock prices using a dataset of technical and financial indicators. The features were preprocessed using standardization and power transformation to ensure optimal model performance. A linear kernel SVR model with tuned hyperparameters (C=1 and epsilon=0.01) was selected through time-series cross-validation and grid search, with the evaluation focusing on minimizing mean squared error (MSE).\n",
    "\n",
    "For testing, the last week of data was reserved as an unseen test set. The model achieved a mean squared error (MSE) of 0.0081, demonstrating its accuracy in predicting short-term stock trends. The accompanying plot visually represents the model's predictions alongside the actual stock prices, including a 7-day forecast with confidence intervals. The SVR model effectively captures the nuances in Ford's stock movements, providing actionable insights for financial decision-making."
   ]
  },
  {
   "cell_type": "code",
   "execution_count": null,
   "metadata": {},
   "outputs": [],
   "source": []
  },
  {
   "cell_type": "code",
   "execution_count": null,
   "metadata": {},
   "outputs": [],
   "source": []
  }
 ],
 "metadata": {
  "kernelspec": {
   "display_name": "Python 3",
   "language": "python",
   "name": "python3"
  },
  "language_info": {
   "codemirror_mode": {
    "name": "ipython",
    "version": 3
   },
   "file_extension": ".py",
   "mimetype": "text/x-python",
   "name": "python",
   "nbconvert_exporter": "python",
   "pygments_lexer": "ipython3",
   "version": "3.12.6"
  }
 },
 "nbformat": 4,
 "nbformat_minor": 2
}

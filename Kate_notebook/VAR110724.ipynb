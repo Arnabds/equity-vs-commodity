{
 "cells": [
  {
   "cell_type": "markdown",
   "id": "b501097e-ccfc-4a11-a3fa-3f99e28efb16",
   "metadata": {},
   "source": [
    "# Vector Autoregressive "
   ]
  },
  {
   "cell_type": "code",
   "execution_count": 1,
   "id": "481c1a0a-29bd-4a70-b2ee-22970783d7d1",
   "metadata": {},
   "outputs": [],
   "source": [
    "import pandas as pd\n",
    "import numpy as np\n",
    "\n",
    "## Plotting\n",
    "import matplotlib.pyplot as plt\n",
    "import seaborn as sns\n",
    "\n",
    "from sklearn.metrics import mean_squared_error\n",
    "\n",
    "from statsmodels.tsa.api import VAR\n",
    "from statsmodels.tsa.stattools import acf, pacf, grangercausalitytests\n",
    "\n",
    "## Import TimeSeriesSplit\n",
    "from sklearn.model_selection import TimeSeriesSplit\n",
    "from sklearn.preprocessing import StandardScaler\n",
    "\n",
    "import yfinance as yf\n",
    "\n",
    "from statsmodels.tsa.stattools import adfuller\n",
    "from statsmodels.tsa.stattools import kpss"
   ]
  },
  {
   "cell_type": "markdown",
   "id": "678003e4-50c9-49f0-b0b1-a3b0df0b76f7",
   "metadata": {},
   "source": [
    "## Read the file"
   ]
  },
  {
   "cell_type": "code",
   "execution_count": 2,
   "id": "f2f10de0-dc77-443d-8721-39ece4d639cc",
   "metadata": {},
   "outputs": [],
   "source": [
    "df = pd.read_csv('../Data/dataset_others.csv')\n",
    "# Extract _change_in_price columns\n",
    "change_in_price_cols = [col for col in df.columns if '_change_in_price' in col]\n",
    "df_change = df[change_in_price_cols].copy()"
   ]
  },
  {
   "cell_type": "code",
   "execution_count": 3,
   "id": "76e5e9fa-15af-4cf6-8178-efb91067b9b5",
   "metadata": {},
   "outputs": [
    {
     "data": {
      "text/html": [
       "<div>\n",
       "<style scoped>\n",
       "    .dataframe tbody tr th:only-of-type {\n",
       "        vertical-align: middle;\n",
       "    }\n",
       "\n",
       "    .dataframe tbody tr th {\n",
       "        vertical-align: top;\n",
       "    }\n",
       "\n",
       "    .dataframe thead th {\n",
       "        text-align: right;\n",
       "    }\n",
       "</style>\n",
       "<table border=\"1\" class=\"dataframe\">\n",
       "  <thead>\n",
       "    <tr style=\"text-align: right;\">\n",
       "      <th></th>\n",
       "      <th>CADUSD=X_change_in_price</th>\n",
       "      <th>GM_change_in_price</th>\n",
       "      <th>JCI_change_in_price</th>\n",
       "      <th>TM_change_in_price</th>\n",
       "      <th>TRYUSD=X_change_in_price</th>\n",
       "      <th>^IXIC_change_in_price</th>\n",
       "      <th>F_change_in_price</th>\n",
       "    </tr>\n",
       "  </thead>\n",
       "  <tbody>\n",
       "    <tr>\n",
       "      <th>0</th>\n",
       "      <td>-0.000418</td>\n",
       "      <td>0.099998</td>\n",
       "      <td>0.330002</td>\n",
       "      <td>-0.569992</td>\n",
       "      <td>-0.000812</td>\n",
       "      <td>15.439453</td>\n",
       "      <td>0.010000</td>\n",
       "    </tr>\n",
       "    <tr>\n",
       "      <th>1</th>\n",
       "      <td>0.001932</td>\n",
       "      <td>0.230000</td>\n",
       "      <td>0.160000</td>\n",
       "      <td>-0.309998</td>\n",
       "      <td>-0.000532</td>\n",
       "      <td>57.250000</td>\n",
       "      <td>0.090000</td>\n",
       "    </tr>\n",
       "    <tr>\n",
       "      <th>2</th>\n",
       "      <td>-0.000607</td>\n",
       "      <td>-0.139999</td>\n",
       "      <td>-0.279999</td>\n",
       "      <td>-1.449997</td>\n",
       "      <td>0.000039</td>\n",
       "      <td>-39.709961</td>\n",
       "      <td>-0.040000</td>\n",
       "    </tr>\n",
       "    <tr>\n",
       "      <th>3</th>\n",
       "      <td>-0.000238</td>\n",
       "      <td>-0.119999</td>\n",
       "      <td>-0.560001</td>\n",
       "      <td>0.059998</td>\n",
       "      <td>0.000314</td>\n",
       "      <td>-97.479492</td>\n",
       "      <td>-0.050000</td>\n",
       "    </tr>\n",
       "    <tr>\n",
       "      <th>4</th>\n",
       "      <td>-0.001081</td>\n",
       "      <td>-0.350002</td>\n",
       "      <td>-0.480000</td>\n",
       "      <td>0.459991</td>\n",
       "      <td>0.000223</td>\n",
       "      <td>-47.350586</td>\n",
       "      <td>-0.120000</td>\n",
       "    </tr>\n",
       "    <tr>\n",
       "      <th>...</th>\n",
       "      <td>...</td>\n",
       "      <td>...</td>\n",
       "      <td>...</td>\n",
       "      <td>...</td>\n",
       "      <td>...</td>\n",
       "      <td>...</td>\n",
       "      <td>...</td>\n",
       "    </tr>\n",
       "    <tr>\n",
       "      <th>1232</th>\n",
       "      <td>-0.001776</td>\n",
       "      <td>4.799999</td>\n",
       "      <td>-0.529999</td>\n",
       "      <td>0.759995</td>\n",
       "      <td>0.000026</td>\n",
       "      <td>39.759766</td>\n",
       "      <td>0.230000</td>\n",
       "    </tr>\n",
       "    <tr>\n",
       "      <th>1233</th>\n",
       "      <td>0.000905</td>\n",
       "      <td>-0.810001</td>\n",
       "      <td>-0.159996</td>\n",
       "      <td>1.400009</td>\n",
       "      <td>-0.000006</td>\n",
       "      <td>-303.119141</td>\n",
       "      <td>-0.049999</td>\n",
       "    </tr>\n",
       "    <tr>\n",
       "      <th>1234</th>\n",
       "      <td>-0.001072</td>\n",
       "      <td>-0.199997</td>\n",
       "      <td>0.379997</td>\n",
       "      <td>-0.900009</td>\n",
       "      <td>-0.000013</td>\n",
       "      <td>138.839844</td>\n",
       "      <td>0.179999</td>\n",
       "    </tr>\n",
       "    <tr>\n",
       "      <th>1235</th>\n",
       "      <td>-0.000866</td>\n",
       "      <td>-0.650002</td>\n",
       "      <td>-0.120003</td>\n",
       "      <td>1.570007</td>\n",
       "      <td>-0.000016</td>\n",
       "      <td>103.119141</td>\n",
       "      <td>-0.170000</td>\n",
       "    </tr>\n",
       "    <tr>\n",
       "      <th>1236</th>\n",
       "      <td>-0.002197</td>\n",
       "      <td>0.660000</td>\n",
       "      <td>0.990005</td>\n",
       "      <td>4.630005</td>\n",
       "      <td>0.000004</td>\n",
       "      <td>48.580078</td>\n",
       "      <td>0.300000</td>\n",
       "    </tr>\n",
       "  </tbody>\n",
       "</table>\n",
       "<p>1237 rows × 7 columns</p>\n",
       "</div>"
      ],
      "text/plain": [
       "      CADUSD=X_change_in_price  GM_change_in_price  JCI_change_in_price  \\\n",
       "0                    -0.000418            0.099998             0.330002   \n",
       "1                     0.001932            0.230000             0.160000   \n",
       "2                    -0.000607           -0.139999            -0.279999   \n",
       "3                    -0.000238           -0.119999            -0.560001   \n",
       "4                    -0.001081           -0.350002            -0.480000   \n",
       "...                        ...                 ...                  ...   \n",
       "1232                 -0.001776            4.799999            -0.529999   \n",
       "1233                  0.000905           -0.810001            -0.159996   \n",
       "1234                 -0.001072           -0.199997             0.379997   \n",
       "1235                 -0.000866           -0.650002            -0.120003   \n",
       "1236                 -0.002197            0.660000             0.990005   \n",
       "\n",
       "      TM_change_in_price  TRYUSD=X_change_in_price  ^IXIC_change_in_price  \\\n",
       "0              -0.569992                 -0.000812              15.439453   \n",
       "1              -0.309998                 -0.000532              57.250000   \n",
       "2              -1.449997                  0.000039             -39.709961   \n",
       "3               0.059998                  0.000314             -97.479492   \n",
       "4               0.459991                  0.000223             -47.350586   \n",
       "...                  ...                       ...                    ...   \n",
       "1232            0.759995                  0.000026              39.759766   \n",
       "1233            1.400009                 -0.000006            -303.119141   \n",
       "1234           -0.900009                 -0.000013             138.839844   \n",
       "1235            1.570007                 -0.000016             103.119141   \n",
       "1236            4.630005                  0.000004              48.580078   \n",
       "\n",
       "      F_change_in_price  \n",
       "0              0.010000  \n",
       "1              0.090000  \n",
       "2             -0.040000  \n",
       "3             -0.050000  \n",
       "4             -0.120000  \n",
       "...                 ...  \n",
       "1232           0.230000  \n",
       "1233          -0.049999  \n",
       "1234           0.179999  \n",
       "1235          -0.170000  \n",
       "1236           0.300000  \n",
       "\n",
       "[1237 rows x 7 columns]"
      ]
     },
     "execution_count": 3,
     "metadata": {},
     "output_type": "execute_result"
    }
   ],
   "source": [
    "df_change"
   ]
  },
  {
   "cell_type": "markdown",
   "id": "96c4679e-fbbd-4750-9c0b-5b6e6be45358",
   "metadata": {},
   "source": [
    "## Tickers list"
   ]
  },
  {
   "cell_type": "code",
   "execution_count": 4,
   "id": "65ffc6b6-d4ed-40a9-82a8-a0a8423843bf",
   "metadata": {},
   "outputs": [
    {
     "data": {
      "text/plain": [
       "'F'"
      ]
     },
     "execution_count": 4,
     "metadata": {},
     "output_type": "execute_result"
    }
   ],
   "source": [
    "tickers = []\n",
    "for col in df.columns:\n",
    "    if '_RSI' in col:\n",
    "        tickers.append(col.split('_')[0])\n",
    "\n",
    "tickers.pop()"
   ]
  },
  {
   "cell_type": "markdown",
   "id": "4812dc1e-97ab-401d-9c50-baed9ca3db34",
   "metadata": {},
   "source": [
    "## Train - test set"
   ]
  },
  {
   "cell_type": "code",
   "execution_count": 5,
   "id": "828dc84d-4e8b-48d8-a0d5-8fa63749e206",
   "metadata": {},
   "outputs": [],
   "source": [
    "# Train set for cross-validation\n",
    "train = df_change.iloc[:-5].copy()\n",
    "# Test set is saved for the best model\n",
    "test = df_change.iloc[-5:].copy()"
   ]
  },
  {
   "cell_type": "markdown",
   "id": "847137da-8913-493b-b485-1d20c69a64af",
   "metadata": {},
   "source": [
    "## Cross validation for each ticker model"
   ]
  },
  {
   "cell_type": "code",
   "execution_count": 6,
   "id": "8b74a11d-eca7-4518-8dbe-6bbdd70f4dc0",
   "metadata": {},
   "outputs": [],
   "source": [
    "## Test\n",
    "df_test = df_change[['F_change_in_price', 'GM_change_in_price']]\n",
    "\n",
    "# Train set for cross-validation\n",
    "train_test = df_test.iloc[:-5].copy()\n",
    "# Test set is saved for the best model\n",
    "test_test = df_test.iloc[-5:].copy()\n",
    "\n",
    "cv = TimeSeriesSplit(10, test_size=5)\n",
    "MSE = np.zeros(40) # Smallest order should be 1\n",
    "\n",
    "scaler_train = StandardScaler().fit_transform(df_test.values)\n",
    "scaled_train_set = pd.DataFrame(scaler_train, columns = df_test.columns)"
   ]
  },
  {
   "cell_type": "code",
   "execution_count": 7,
   "id": "a79fd118-013e-40bb-ae5a-8ea4f9fd70cb",
   "metadata": {},
   "outputs": [
    {
     "data": {
      "image/png": "[encoded data removed]",
      "text/plain": [
       "<Figure size 640x480 with 1 Axes>"
      ]
     },
     "metadata": {},
     "output_type": "display_data"
    }
   ],
   "source": [
    "bins = np.linspace(-5, 5, 20)\n",
    "plt.figure()\n",
    "plt.hist(df_test['F_change_in_price'], bins, label = 'F')\n",
    "plt.hist(df_test['GM_change_in_price'], bins, label = 'GM', alpha = 0.5)\n",
    "plt.legend()\n",
    "plt.show()"
   ]
  },
  {
   "cell_type": "code",
   "execution_count": 8,
   "id": "7814c9f4-6d3e-469b-b233-96d0c0fa37a3",
   "metadata": {},
   "outputs": [
    {
     "data": {
      "text/html": [
       "<div>\n",
       "<style scoped>\n",
       "    .dataframe tbody tr th:only-of-type {\n",
       "        vertical-align: middle;\n",
       "    }\n",
       "\n",
       "    .dataframe tbody tr th {\n",
       "        vertical-align: top;\n",
       "    }\n",
       "\n",
       "    .dataframe thead th {\n",
       "        text-align: right;\n",
       "    }\n",
       "</style>\n",
       "<table border=\"1\" class=\"dataframe\">\n",
       "  <thead>\n",
       "    <tr style=\"text-align: right;\">\n",
       "      <th></th>\n",
       "      <th>F_change_in_price</th>\n",
       "      <th>GM_change_in_price</th>\n",
       "    </tr>\n",
       "  </thead>\n",
       "  <tbody>\n",
       "    <tr>\n",
       "      <th>0</th>\n",
       "      <td>0.023636</td>\n",
       "      <td>0.083366</td>\n",
       "    </tr>\n",
       "    <tr>\n",
       "      <th>1</th>\n",
       "      <td>0.257527</td>\n",
       "      <td>0.208917</td>\n",
       "    </tr>\n",
       "    <tr>\n",
       "      <th>2</th>\n",
       "      <td>-0.122547</td>\n",
       "      <td>-0.148418</td>\n",
       "    </tr>\n",
       "    <tr>\n",
       "      <th>3</th>\n",
       "      <td>-0.151784</td>\n",
       "      <td>-0.129102</td>\n",
       "    </tr>\n",
       "    <tr>\n",
       "      <th>4</th>\n",
       "      <td>-0.356439</td>\n",
       "      <td>-0.351233</td>\n",
       "    </tr>\n",
       "    <tr>\n",
       "      <th>...</th>\n",
       "      <td>...</td>\n",
       "      <td>...</td>\n",
       "    </tr>\n",
       "    <tr>\n",
       "      <th>1232</th>\n",
       "      <td>0.666836</td>\n",
       "      <td>4.622498</td>\n",
       "    </tr>\n",
       "    <tr>\n",
       "      <th>1233</th>\n",
       "      <td>-0.151782</td>\n",
       "      <td>-0.795487</td>\n",
       "    </tr>\n",
       "    <tr>\n",
       "      <th>1234</th>\n",
       "      <td>0.520653</td>\n",
       "      <td>-0.206362</td>\n",
       "    </tr>\n",
       "    <tr>\n",
       "      <th>1235</th>\n",
       "      <td>-0.502622</td>\n",
       "      <td>-0.640964</td>\n",
       "    </tr>\n",
       "    <tr>\n",
       "      <th>1236</th>\n",
       "      <td>0.871494</td>\n",
       "      <td>0.624200</td>\n",
       "    </tr>\n",
       "  </tbody>\n",
       "</table>\n",
       "<p>1237 rows × 2 columns</p>\n",
       "</div>"
      ],
      "text/plain": [
       "      F_change_in_price  GM_change_in_price\n",
       "0              0.023636            0.083366\n",
       "1              0.257527            0.208917\n",
       "2             -0.122547           -0.148418\n",
       "3             -0.151784           -0.129102\n",
       "4             -0.356439           -0.351233\n",
       "...                 ...                 ...\n",
       "1232           0.666836            4.622498\n",
       "1233          -0.151782           -0.795487\n",
       "1234           0.520653           -0.206362\n",
       "1235          -0.502622           -0.640964\n",
       "1236           0.871494            0.624200\n",
       "\n",
       "[1237 rows x 2 columns]"
      ]
     },
     "execution_count": 8,
     "metadata": {},
     "output_type": "execute_result"
    }
   ],
   "source": [
    "scaled_train_set"
   ]
  },
  {
   "cell_type": "code",
   "execution_count": 9,
   "id": "bac0e940-4398-4fa9-a8b5-1b68da4cc0ca",
   "metadata": {},
   "outputs": [
    {
     "data": {
      "image/png": "[encoded data removed]",
      "text/plain": [
       "<Figure size 640x480 with 1 Axes>"
      ]
     },
     "metadata": {},
     "output_type": "display_data"
    }
   ],
   "source": [
    "plt.figure()\n",
    "plt.hist(scaled_train_set['F_change_in_price'], bins, label = 'F')\n",
    "plt.hist(scaled_train_set['GM_change_in_price'], bins, label = 'GM', alpha = 0.5)\n",
    "plt.legend()\n",
    "plt.show()"
   ]
  },
  {
   "cell_type": "code",
   "execution_count": 10,
   "id": "fc9e95de-1be8-43fd-bdca-e831a701cef6",
   "metadata": {},
   "outputs": [
    {
     "data": {
      "text/html": [
       "<div>\n",
       "<style scoped>\n",
       "    .dataframe tbody tr th:only-of-type {\n",
       "        vertical-align: middle;\n",
       "    }\n",
       "\n",
       "    .dataframe tbody tr th {\n",
       "        vertical-align: top;\n",
       "    }\n",
       "\n",
       "    .dataframe thead th {\n",
       "        text-align: right;\n",
       "    }\n",
       "</style>\n",
       "<table border=\"1\" class=\"dataframe\">\n",
       "  <thead>\n",
       "    <tr style=\"text-align: right;\">\n",
       "      <th></th>\n",
       "      <th>F_change_in_price</th>\n",
       "      <th>GM_change_in_price</th>\n",
       "    </tr>\n",
       "  </thead>\n",
       "  <tbody>\n",
       "    <tr>\n",
       "      <th>0</th>\n",
       "      <td>0.010000</td>\n",
       "      <td>0.099998</td>\n",
       "    </tr>\n",
       "    <tr>\n",
       "      <th>1</th>\n",
       "      <td>0.090000</td>\n",
       "      <td>0.230000</td>\n",
       "    </tr>\n",
       "    <tr>\n",
       "      <th>2</th>\n",
       "      <td>-0.040000</td>\n",
       "      <td>-0.139999</td>\n",
       "    </tr>\n",
       "    <tr>\n",
       "      <th>3</th>\n",
       "      <td>-0.050000</td>\n",
       "      <td>-0.119999</td>\n",
       "    </tr>\n",
       "    <tr>\n",
       "      <th>4</th>\n",
       "      <td>-0.120000</td>\n",
       "      <td>-0.350002</td>\n",
       "    </tr>\n",
       "    <tr>\n",
       "      <th>...</th>\n",
       "      <td>...</td>\n",
       "      <td>...</td>\n",
       "    </tr>\n",
       "    <tr>\n",
       "      <th>1232</th>\n",
       "      <td>0.230000</td>\n",
       "      <td>4.799999</td>\n",
       "    </tr>\n",
       "    <tr>\n",
       "      <th>1233</th>\n",
       "      <td>-0.049999</td>\n",
       "      <td>-0.810001</td>\n",
       "    </tr>\n",
       "    <tr>\n",
       "      <th>1234</th>\n",
       "      <td>0.179999</td>\n",
       "      <td>-0.199997</td>\n",
       "    </tr>\n",
       "    <tr>\n",
       "      <th>1235</th>\n",
       "      <td>-0.170000</td>\n",
       "      <td>-0.650002</td>\n",
       "    </tr>\n",
       "    <tr>\n",
       "      <th>1236</th>\n",
       "      <td>0.300000</td>\n",
       "      <td>0.660000</td>\n",
       "    </tr>\n",
       "  </tbody>\n",
       "</table>\n",
       "<p>1237 rows × 2 columns</p>\n",
       "</div>"
      ],
      "text/plain": [
       "      F_change_in_price  GM_change_in_price\n",
       "0              0.010000            0.099998\n",
       "1              0.090000            0.230000\n",
       "2             -0.040000           -0.139999\n",
       "3             -0.050000           -0.119999\n",
       "4             -0.120000           -0.350002\n",
       "...                 ...                 ...\n",
       "1232           0.230000            4.799999\n",
       "1233          -0.049999           -0.810001\n",
       "1234           0.179999           -0.199997\n",
       "1235          -0.170000           -0.650002\n",
       "1236           0.300000            0.660000\n",
       "\n",
       "[1237 rows x 2 columns]"
      ]
     },
     "execution_count": 10,
     "metadata": {},
     "output_type": "execute_result"
    }
   ],
   "source": [
    "df_test"
   ]
  },
  {
   "cell_type": "code",
   "execution_count": 11,
   "id": "4feffaf3-42e5-4807-8356-a7540ee16bd1",
   "metadata": {},
   "outputs": [],
   "source": [
    "for train_index, test_index in cv.split(train_test):\n",
    "    t_tt = scaled_train_set.iloc[train_index]\n",
    "    t_ho = scaled_train_set.iloc[test_index]\n",
    "    model = VAR(t_tt)\n",
    "    for i in range(1, 41):\n",
    "        var_model = model.fit(i)\n",
    "        pred = var_model.forecast(t_tt[-i:].values, steps=5)\n",
    "        MSE[i - 1] = np.sqrt(mean_squared_error(t_ho['F_change_in_price'].values, pred[:, 0]))\n",
    "\n",
    "order_optimal = np.argmin(MSE) + 1"
   ]
  },
  {
   "cell_type": "code",
   "execution_count": 12,
   "id": "b0231248-d084-40ef-b0ed-7255056e0fa2",
   "metadata": {},
   "outputs": [
    {
     "data": {
      "text/plain": [
       "array([0.40168972, 0.39348367, 0.39078385, 0.37017006, 0.37458259,\n",
       "       0.37873048, 0.37162988, 0.35502299, 0.35642495, 0.35138878,\n",
       "       0.34710617, 0.33863862, 0.3420581 , 0.35739344, 0.34166384,\n",
       "       0.34278878, 0.40251861, 0.40228331, 0.35175515, 0.36722614,\n",
       "       0.3682092 , 0.36433572, 0.39938735, 0.4045513 , 0.42011427,\n",
       "       0.4175955 , 0.41864811, 0.40390726, 0.40544406, 0.38529411,\n",
       "       0.39901401, 0.39670461, 0.38584308, 0.38453138, 0.38096829,\n",
       "       0.34904735, 0.41067498, 0.42494962, 0.46919882, 0.46819781])"
      ]
     },
     "execution_count": 12,
     "metadata": {},
     "output_type": "execute_result"
    }
   ],
   "source": [
    "MSE"
   ]
  },
  {
   "cell_type": "code",
   "execution_count": 13,
   "id": "e2106390-a558-4b4b-9969-dc2d59a8d6a3",
   "metadata": {},
   "outputs": [
    {
     "data": {
      "text/plain": [
       "np.int64(12)"
      ]
     },
     "execution_count": 13,
     "metadata": {},
     "output_type": "execute_result"
    }
   ],
   "source": [
    "order_optimal"
   ]
  },
  {
   "cell_type": "code",
   "execution_count": 14,
   "id": "78ca8e32-0fec-48c6-899b-fc9a4a22b3c5",
   "metadata": {},
   "outputs": [],
   "source": [
    "def best_VAR(train, forecast_length = 5):\n",
    "    cv = TimeSeriesSplit(10, test_size=forecast_length)\n",
    "    MSE = np.zeros(40) # Smallest order should be 1\n",
    "\n",
    "    for train_index, test_index in cv.split(train):\n",
    "        t_tt = train.iloc[train_index]\n",
    "        t_ho = train.iloc[test_index]\n",
    "        model = VAR(t_tt)\n",
    "        for i in range(1, 41):\n",
    "            var_model = model.fit(i)\n",
    "            pred = var_model.forecast(t_tt[-i:].values, steps=forecast_length)\n",
    "            MSE[i - 1] = np.sqrt(mean_squared_error(t_ho['F_change_in_price'].values, pred[:, 0]))\n",
    "    \n",
    "    order_optimal = np.argmin(MSE) + 1\n",
    "    return order_optimal"
   ]
  },
  {
   "cell_type": "code",
   "execution_count": 15,
   "id": "e3077360-39b9-4f16-9c16-9beb8aa0a23a",
   "metadata": {},
   "outputs": [
    {
     "data": {
      "text/html": [
       "<div>\n",
       "<style scoped>\n",
       "    .dataframe tbody tr th:only-of-type {\n",
       "        vertical-align: middle;\n",
       "    }\n",
       "\n",
       "    .dataframe tbody tr th {\n",
       "        vertical-align: top;\n",
       "    }\n",
       "\n",
       "    .dataframe thead th {\n",
       "        text-align: right;\n",
       "    }\n",
       "</style>\n",
       "<table border=\"1\" class=\"dataframe\">\n",
       "  <thead>\n",
       "    <tr style=\"text-align: right;\">\n",
       "      <th></th>\n",
       "      <th>CADUSD=X_change_in_price</th>\n",
       "      <th>GM_change_in_price</th>\n",
       "      <th>JCI_change_in_price</th>\n",
       "      <th>TM_change_in_price</th>\n",
       "      <th>TRYUSD=X_change_in_price</th>\n",
       "      <th>^IXIC_change_in_price</th>\n",
       "      <th>F_change_in_price</th>\n",
       "    </tr>\n",
       "  </thead>\n",
       "  <tbody>\n",
       "    <tr>\n",
       "      <th>0</th>\n",
       "      <td>-0.000418</td>\n",
       "      <td>0.099998</td>\n",
       "      <td>0.330002</td>\n",
       "      <td>-0.569992</td>\n",
       "      <td>-0.000812</td>\n",
       "      <td>15.439453</td>\n",
       "      <td>0.010000</td>\n",
       "    </tr>\n",
       "    <tr>\n",
       "      <th>1</th>\n",
       "      <td>0.001932</td>\n",
       "      <td>0.230000</td>\n",
       "      <td>0.160000</td>\n",
       "      <td>-0.309998</td>\n",
       "      <td>-0.000532</td>\n",
       "      <td>57.250000</td>\n",
       "      <td>0.090000</td>\n",
       "    </tr>\n",
       "    <tr>\n",
       "      <th>2</th>\n",
       "      <td>-0.000607</td>\n",
       "      <td>-0.139999</td>\n",
       "      <td>-0.279999</td>\n",
       "      <td>-1.449997</td>\n",
       "      <td>0.000039</td>\n",
       "      <td>-39.709961</td>\n",
       "      <td>-0.040000</td>\n",
       "    </tr>\n",
       "    <tr>\n",
       "      <th>3</th>\n",
       "      <td>-0.000238</td>\n",
       "      <td>-0.119999</td>\n",
       "      <td>-0.560001</td>\n",
       "      <td>0.059998</td>\n",
       "      <td>0.000314</td>\n",
       "      <td>-97.479492</td>\n",
       "      <td>-0.050000</td>\n",
       "    </tr>\n",
       "    <tr>\n",
       "      <th>4</th>\n",
       "      <td>-0.001081</td>\n",
       "      <td>-0.350002</td>\n",
       "      <td>-0.480000</td>\n",
       "      <td>0.459991</td>\n",
       "      <td>0.000223</td>\n",
       "      <td>-47.350586</td>\n",
       "      <td>-0.120000</td>\n",
       "    </tr>\n",
       "    <tr>\n",
       "      <th>...</th>\n",
       "      <td>...</td>\n",
       "      <td>...</td>\n",
       "      <td>...</td>\n",
       "      <td>...</td>\n",
       "      <td>...</td>\n",
       "      <td>...</td>\n",
       "      <td>...</td>\n",
       "    </tr>\n",
       "    <tr>\n",
       "      <th>1227</th>\n",
       "      <td>-0.001141</td>\n",
       "      <td>-0.780003</td>\n",
       "      <td>-1.080002</td>\n",
       "      <td>-5.550003</td>\n",
       "      <td>0.000020</td>\n",
       "      <td>-187.099609</td>\n",
       "      <td>-0.080000</td>\n",
       "    </tr>\n",
       "    <tr>\n",
       "      <th>1228</th>\n",
       "      <td>0.001146</td>\n",
       "      <td>1.160000</td>\n",
       "      <td>-0.209999</td>\n",
       "      <td>1.949997</td>\n",
       "      <td>0.000049</td>\n",
       "      <td>51.490234</td>\n",
       "      <td>0.190000</td>\n",
       "    </tr>\n",
       "    <tr>\n",
       "      <th>1229</th>\n",
       "      <td>0.001377</td>\n",
       "      <td>0.370003</td>\n",
       "      <td>0.860001</td>\n",
       "      <td>-0.300003</td>\n",
       "      <td>0.000026</td>\n",
       "      <td>6.529297</td>\n",
       "      <td>0.040000</td>\n",
       "    </tr>\n",
       "    <tr>\n",
       "      <th>1230</th>\n",
       "      <td>-0.002145</td>\n",
       "      <td>-0.200001</td>\n",
       "      <td>0.190002</td>\n",
       "      <td>0.330002</td>\n",
       "      <td>-0.000024</td>\n",
       "      <td>115.941406</td>\n",
       "      <td>0.030001</td>\n",
       "    </tr>\n",
       "    <tr>\n",
       "      <th>1231</th>\n",
       "      <td>-0.000205</td>\n",
       "      <td>-0.250000</td>\n",
       "      <td>-0.270004</td>\n",
       "      <td>-2.360001</td>\n",
       "      <td>-0.000072</td>\n",
       "      <td>50.458984</td>\n",
       "      <td>-0.220000</td>\n",
       "    </tr>\n",
       "  </tbody>\n",
       "</table>\n",
       "<p>1232 rows × 7 columns</p>\n",
       "</div>"
      ],
      "text/plain": [
       "      CADUSD=X_change_in_price  GM_change_in_price  JCI_change_in_price  \\\n",
       "0                    -0.000418            0.099998             0.330002   \n",
       "1                     0.001932            0.230000             0.160000   \n",
       "2                    -0.000607           -0.139999            -0.279999   \n",
       "3                    -0.000238           -0.119999            -0.560001   \n",
       "4                    -0.001081           -0.350002            -0.480000   \n",
       "...                        ...                 ...                  ...   \n",
       "1227                 -0.001141           -0.780003            -1.080002   \n",
       "1228                  0.001146            1.160000            -0.209999   \n",
       "1229                  0.001377            0.370003             0.860001   \n",
       "1230                 -0.002145           -0.200001             0.190002   \n",
       "1231                 -0.000205           -0.250000            -0.270004   \n",
       "\n",
       "      TM_change_in_price  TRYUSD=X_change_in_price  ^IXIC_change_in_price  \\\n",
       "0              -0.569992                 -0.000812              15.439453   \n",
       "1              -0.309998                 -0.000532              57.250000   \n",
       "2              -1.449997                  0.000039             -39.709961   \n",
       "3               0.059998                  0.000314             -97.479492   \n",
       "4               0.459991                  0.000223             -47.350586   \n",
       "...                  ...                       ...                    ...   \n",
       "1227           -5.550003                  0.000020            -187.099609   \n",
       "1228            1.949997                  0.000049              51.490234   \n",
       "1229           -0.300003                  0.000026               6.529297   \n",
       "1230            0.330002                 -0.000024             115.941406   \n",
       "1231           -2.360001                 -0.000072              50.458984   \n",
       "\n",
       "      F_change_in_price  \n",
       "0              0.010000  \n",
       "1              0.090000  \n",
       "2             -0.040000  \n",
       "3             -0.050000  \n",
       "4             -0.120000  \n",
       "...                 ...  \n",
       "1227          -0.080000  \n",
       "1228           0.190000  \n",
       "1229           0.040000  \n",
       "1230           0.030001  \n",
       "1231          -0.220000  \n",
       "\n",
       "[1232 rows x 7 columns]"
      ]
     },
     "execution_count": 15,
     "metadata": {},
     "output_type": "execute_result"
    }
   ],
   "source": [
    "train"
   ]
  },
  {
   "cell_type": "code",
   "execution_count": 16,
   "id": "c1526da1-b90a-468b-a3ce-d21611b43120",
   "metadata": {},
   "outputs": [
    {
     "data": {
      "text/plain": [
       "array([0., 0., 0., 0., 0., 0.])"
      ]
     },
     "execution_count": 16,
     "metadata": {},
     "output_type": "execute_result"
    }
   ],
   "source": [
    "order_optimal = np.zeros(len(tickers))\n",
    "order_optimal"
   ]
  },
  {
   "cell_type": "code",
   "execution_count": 17,
   "id": "8e6278e8-4386-4dff-97e6-8f6bdf24d049",
   "metadata": {},
   "outputs": [
    {
     "data": {
      "text/plain": [
       "array([0., 0., 0., 0., 0., 0.])"
      ]
     },
     "execution_count": 17,
     "metadata": {},
     "output_type": "execute_result"
    }
   ],
   "source": [
    "order_optimal"
   ]
  },
  {
   "cell_type": "markdown",
   "id": "0ceaec3d-3e4d-457c-b176-a9b28d184699",
   "metadata": {},
   "source": [
    "## Histogram of each feature"
   ]
  },
  {
   "cell_type": "code",
   "execution_count": 18,
   "id": "5eec50ac-5865-48f4-a0c5-2c86615f646f",
   "metadata": {},
   "outputs": [
    {
     "data": {
      "image/png": "[encoded data removed]",
      "text/plain": [
       "<Figure size 640x480 with 1 Axes>"
      ]
     },
     "metadata": {},
     "output_type": "display_data"
    }
   ],
   "source": [
    "plt.figure()\n",
    "plt.hist(df_test['F_change_in_price'], bins, label = 'F')\n",
    "plt.hist(df_test['GM_change_in_price'], bins, label = 'GM', alpha = 0.5)\n",
    "plt.legend()\n",
    "plt.show()"
   ]
  },
  {
   "cell_type": "code",
   "execution_count": 21,
   "id": "20cd8cc6-a9a2-4339-bdac-1c2006ca358b",
   "metadata": {},
   "outputs": [
    {
     "data": {
      "image/png": "[encoded data removed]",
      "text/plain": [
       "<Figure size 1000x500 with 2 Axes>"
      ]
     },
     "metadata": {},
     "output_type": "display_data"
    },
    {
     "data": {
      "image/png": "[encoded data removed]",
      "text/plain": [
       "<Figure size 1000x500 with 2 Axes>"
      ]
     },
     "metadata": {},
     "output_type": "display_data"
    },
    {
     "data": {
      "image/png": "[encoded data removed]",
      "text/plain": [
       "<Figure size 1000x500 with 2 Axes>"
      ]
     },
     "metadata": {},
     "output_type": "display_data"
    },
    {
     "data": {
      "image/png": "[encoded data removed]",
      "text/plain": [
       "<Figure size 1000x500 with 2 Axes>"
      ]
     },
     "metadata": {},
     "output_type": "display_data"
    },
    {
     "data": {
      "image/png": "[encoded data removed]",
      "text/plain": [
       "<Figure size 1000x500 with 2 Axes>"
      ]
     },
     "metadata": {},
     "output_type": "display_data"
    },
    {
     "data": {
      "image/png": "[encoded data removed]",
      "text/plain": [
       "<Figure size 1000x500 with 2 Axes>"
      ]
     },
     "metadata": {},
     "output_type": "display_data"
    }
   ],
   "source": [
    "for i in range(6):\n",
    "    t = prediction_cols[i]\n",
    "    train_fit = train[[change_in_price_cols[-1], change_in_price_cols[i]]].copy()\n",
    "    scaler = StandardScaler()\n",
    "    scaler_train = scaler.fit_transform(train_fit.values)\n",
    "    #scaler_train = StandardScaler().fit_transform(train_fit.values)\n",
    "    scaled_train_set = pd.DataFrame(scaler_train, columns = train_fit.columns)\n",
    "\n",
    "    fig, axes = plt.subplots(1, 2, figsize=(10, 5))\n",
    "    axes[0].hist(train_fit[change_in_price_cols[-1]], bins, label = change_in_price_cols[-1])\n",
    "    axes[0].hist(train_fit[change_in_price_cols[i]], bins, label = change_in_price_cols[i], alpha = 0.5)\n",
    "    axes[1].hist(scaled_train_set[change_in_price_cols[-1]], bins, label = change_in_price_cols[-1])\n",
    "    axes[1].hist(scaled_train_set[change_in_price_cols[i]], bins, label = change_in_price_cols[i], alpha = 0.5)\n",
    "    plt.legend()"
   ]
  },
  {
   "cell_type": "markdown",
   "id": "35c3f76e-808f-4639-8df7-386fe1c896e2",
   "metadata": {},
   "source": [
    "## Compute optimal lag"
   ]
  },
  {
   "cell_type": "code",
   "execution_count": 22,
   "id": "e6a449f5-1d23-4cf1-8eff-974bbfdf9c7c",
   "metadata": {},
   "outputs": [
    {
     "data": {
      "text/html": [
       "<div>\n",
       "<style scoped>\n",
       "    .dataframe tbody tr th:only-of-type {\n",
       "        vertical-align: middle;\n",
       "    }\n",
       "\n",
       "    .dataframe tbody tr th {\n",
       "        vertical-align: top;\n",
       "    }\n",
       "\n",
       "    .dataframe thead th {\n",
       "        text-align: right;\n",
       "    }\n",
       "</style>\n",
       "<table border=\"1\" class=\"dataframe\">\n",
       "  <thead>\n",
       "    <tr style=\"text-align: right;\">\n",
       "      <th></th>\n",
       "      <th>Ticker</th>\n",
       "      <th>Optimal order</th>\n",
       "      <th>Accuracy</th>\n",
       "    </tr>\n",
       "  </thead>\n",
       "  <tbody>\n",
       "  </tbody>\n",
       "</table>\n",
       "</div>"
      ],
      "text/plain": [
       "Empty DataFrame\n",
       "Columns: [Ticker, Optimal order, Accuracy]\n",
       "Index: []"
      ]
     },
     "execution_count": 22,
     "metadata": {},
     "output_type": "execute_result"
    }
   ],
   "source": [
    "c = ['Ticker', 'Optimal order', 'Accuracy']\n",
    "accuracy = pd.DataFrame(columns=c)\n",
    "accuracy"
   ]
  },
  {
   "cell_type": "code",
   "execution_count": 23,
   "id": "0cdac5ef-8ecf-4a47-956d-30779f403185",
   "metadata": {
    "scrolled": true
   },
   "outputs": [
    {
     "data": {
      "text/html": [
       "<div>\n",
       "<style scoped>\n",
       "    .dataframe tbody tr th:only-of-type {\n",
       "        vertical-align: middle;\n",
       "    }\n",
       "\n",
       "    .dataframe tbody tr th {\n",
       "        vertical-align: top;\n",
       "    }\n",
       "\n",
       "    .dataframe thead th {\n",
       "        text-align: right;\n",
       "    }\n",
       "</style>\n",
       "<table border=\"1\" class=\"dataframe\">\n",
       "  <thead>\n",
       "    <tr style=\"text-align: right;\">\n",
       "      <th></th>\n",
       "      <th>Ticker</th>\n",
       "      <th>Optimal order</th>\n",
       "      <th>Accuracy</th>\n",
       "    </tr>\n",
       "  </thead>\n",
       "  <tbody>\n",
       "    <tr>\n",
       "      <th>0</th>\n",
       "      <td>CADUSD=X</td>\n",
       "      <td>NaN</td>\n",
       "      <td>NaN</td>\n",
       "    </tr>\n",
       "    <tr>\n",
       "      <th>1</th>\n",
       "      <td>GM</td>\n",
       "      <td>NaN</td>\n",
       "      <td>NaN</td>\n",
       "    </tr>\n",
       "    <tr>\n",
       "      <th>2</th>\n",
       "      <td>JCI</td>\n",
       "      <td>NaN</td>\n",
       "      <td>NaN</td>\n",
       "    </tr>\n",
       "    <tr>\n",
       "      <th>3</th>\n",
       "      <td>TM</td>\n",
       "      <td>NaN</td>\n",
       "      <td>NaN</td>\n",
       "    </tr>\n",
       "    <tr>\n",
       "      <th>4</th>\n",
       "      <td>TRYUSD=X</td>\n",
       "      <td>NaN</td>\n",
       "      <td>NaN</td>\n",
       "    </tr>\n",
       "    <tr>\n",
       "      <th>5</th>\n",
       "      <td>^IXIC</td>\n",
       "      <td>NaN</td>\n",
       "      <td>NaN</td>\n",
       "    </tr>\n",
       "  </tbody>\n",
       "</table>\n",
       "</div>"
      ],
      "text/plain": [
       "     Ticker Optimal order Accuracy\n",
       "0  CADUSD=X           NaN      NaN\n",
       "1        GM           NaN      NaN\n",
       "2       JCI           NaN      NaN\n",
       "3        TM           NaN      NaN\n",
       "4  TRYUSD=X           NaN      NaN\n",
       "5     ^IXIC           NaN      NaN"
      ]
     },
     "execution_count": 23,
     "metadata": {},
     "output_type": "execute_result"
    }
   ],
   "source": [
    "for i, t in enumerate(tickers):\n",
    "    accuracy.loc[i, 'Ticker'] = t.split('_')[0]\n",
    "\n",
    "accuracy"
   ]
  },
  {
   "cell_type": "code",
   "execution_count": null,
   "id": "05820391-8320-47fd-8e23-121cd4f149ca",
   "metadata": {},
   "outputs": [],
   "source": [
    "for i in range(len(change_in_price_cols) - 1):\n",
    "    tr_set = train[[change_in_price_cols[-1], change_in_price_cols[i]]]\n",
    "    accuracy.loc[i, 'Optimal order'] = best_VAR(tr_set, 5)"
   ]
  },
  {
   "cell_type": "code",
   "execution_count": null,
   "id": "b1d6c69d-2c84-4d42-abf3-5d78fd2ea98e",
   "metadata": {},
   "outputs": [],
   "source": [
    "accuracy"
   ]
  },
  {
   "cell_type": "markdown",
   "id": "2ae8f511-a413-4283-9326-97abdd26a2c8",
   "metadata": {},
   "source": [
    "## Compute VAR predictions"
   ]
  },
  {
   "cell_type": "code",
   "execution_count": 20,
   "id": "02908fb1-ce67-434f-ad5e-433b62c54e3d",
   "metadata": {},
   "outputs": [
    {
     "data": {
      "text/plain": [
       "['CADUSD=X_VAR', 'GM_VAR', 'JCI_VAR', 'TM_VAR', 'TRYUSD=X_VAR', '^IXIC_VAR']"
      ]
     },
     "execution_count": 20,
     "metadata": {},
     "output_type": "execute_result"
    }
   ],
   "source": [
    "prediction_cols = []\n",
    "for t in tickers:\n",
    "    prediction_cols.append(t + '_VAR')\n",
    "\n",
    "prediction_cols"
   ]
  },
  {
   "cell_type": "code",
   "execution_count": null,
   "id": "add67a4b-373f-4277-9ec7-2695e976e277",
   "metadata": {},
   "outputs": [],
   "source": [
    "predictions = pd.DataFrame(columns=prediction_cols, index=test.index)"
   ]
  },
  {
   "cell_type": "code",
   "execution_count": null,
   "id": "3f8e8aa6-de43-4329-94e2-ff5636f17c87",
   "metadata": {},
   "outputs": [],
   "source": [
    "predictions"
   ]
  },
  {
   "cell_type": "code",
   "execution_count": null,
   "id": "58303985-df8c-41cf-a8d8-3e00bf375326",
   "metadata": {},
   "outputs": [],
   "source": [
    "tickers"
   ]
  },
  {
   "cell_type": "code",
   "execution_count": null,
   "id": "f5756ec7-6ccc-4c95-81ec-03422047b08d",
   "metadata": {},
   "outputs": [],
   "source": [
    "accuracy.loc[i, 'Optimal order']"
   ]
  },
  {
   "cell_type": "code",
   "execution_count": null,
   "id": "0c567077-53bb-439e-ab9e-7e99e0561e6e",
   "metadata": {},
   "outputs": [],
   "source": [
    "train_fit = {}\n",
    "scaler_train = {} \n",
    "for i in range(6):\n",
    "    t = prediction_cols[i]\n",
    "    train_fit[t] = train[[change_in_price_cols[-1], change_in_price_cols[i]]].copy()\n",
    "    scaler = StandardScaler()\n",
    "    # Scaled the train set\n",
    "    scaler_train[t] = scaler.fit_transform(train_fit.values)\n",
    "    scaled_train_set = pd.DataFrame(scaler_train[t], columns = train_fit[t].columns)\n",
    "    model = VAR(scaled_train_set)\n",
    "    k = accuracy.loc[i, 'Optimal order']\n",
    "    results = model.fit(k)\n",
    "    # Inverse scale\n",
    "    #predictions.loc[:, t] = scaler.inverse_transform(results.forecast(train_fit.values[-k:], steps=5)[:, 0])\n",
    "    pred = scaler.inverse_transform(results.forecast(train_fit.values[-k:], steps=5))\n",
    "    #print(pred)\n",
    "    predictions.loc[:, t] = pred[:, 0]"
   ]
  },
  {
   "cell_type": "code",
   "execution_count": null,
   "id": "cfd20004-dcad-4419-93e6-7676a9caf255",
   "metadata": {},
   "outputs": [],
   "source": [
    "predictions"
   ]
  },
  {
   "cell_type": "code",
   "execution_count": null,
   "id": "576c1cde-536b-40a5-bd91-cebd2c09a423",
   "metadata": {},
   "outputs": [],
   "source": [
    "pred[:, 0]"
   ]
  },
  {
   "cell_type": "code",
   "execution_count": null,
   "id": "e39965e9-548f-4373-a81e-840fb7ee8963",
   "metadata": {},
   "outputs": [],
   "source": [
    "scaler.inverse_transform(pred)"
   ]
  },
  {
   "cell_type": "code",
   "execution_count": null,
   "id": "58027c70-900d-4658-9b2b-a710ae25c88a",
   "metadata": {},
   "outputs": [],
   "source": [
    "predictions"
   ]
  },
  {
   "cell_type": "code",
   "execution_count": null,
   "id": "073ed126-8045-4d43-bd3b-bb9b4fcf2647",
   "metadata": {},
   "outputs": [],
   "source": [
    "test['F_change_in_price']"
   ]
  },
  {
   "cell_type": "code",
   "execution_count": null,
   "id": "8ab172a5-e934-4c52-aac7-c4336632d5e7",
   "metadata": {},
   "outputs": [],
   "source": [
    "VAR_change_in_price = predictions.copy()"
   ]
  },
  {
   "cell_type": "code",
   "execution_count": null,
   "id": "742bb125-a0ab-4e8a-bee5-ce8d3a38a691",
   "metadata": {},
   "outputs": [],
   "source": [
    "predictions = pd.concat([predictions, test['F_change_in_price']], axis=1)"
   ]
  },
  {
   "cell_type": "code",
   "execution_count": null,
   "id": "3f8c2af6-aa25-44b4-9b41-b13cdc4dd1e7",
   "metadata": {},
   "outputs": [],
   "source": [
    "predictions"
   ]
  },
  {
   "cell_type": "markdown",
   "id": "3a009627-6e33-4007-8eec-1cec06a140e4",
   "metadata": {},
   "source": [
    "## Compute F_close from VAR predictions change_in_price"
   ]
  },
  {
   "cell_type": "code",
   "execution_count": null,
   "id": "cb2b4ca1-9734-4687-98c1-2212e3dce02c",
   "metadata": {},
   "outputs": [],
   "source": [
    "df_close = df[['F_Close_pred']].copy()\n",
    "#df_close['VAR'] = df[['F_Close_pred']].copy()\n",
    "df_close[-5:] "
   ]
  },
  {
   "cell_type": "code",
   "execution_count": null,
   "id": "0d584286-f230-46b1-ad99-15445f503535",
   "metadata": {},
   "outputs": [],
   "source": [
    "len(df_close)"
   ]
  },
  {
   "cell_type": "code",
   "execution_count": null,
   "id": "716e5110-7b89-4358-bc33-6d36f39fba9d",
   "metadata": {},
   "outputs": [],
   "source": [
    "VAR_change_in_price"
   ]
  },
  {
   "cell_type": "code",
   "execution_count": null,
   "id": "16cf234c-ebc1-40a3-b9b0-b1fd315d209b",
   "metadata": {},
   "outputs": [],
   "source": [
    "n = len(df_close)\n",
    "for t in VAR_change_in_price.columns:\n",
    "    VAR_change_in_price.loc[n - 5, t] += df_close.loc[n - 1, 'F_Close_pred'] "
   ]
  },
  {
   "cell_type": "code",
   "execution_count": null,
   "id": "33cb55b8-cb72-44da-9a43-1e5e0f774902",
   "metadata": {},
   "outputs": [],
   "source": [
    "VAR_change_in_price"
   ]
  },
  {
   "cell_type": "code",
   "execution_count": null,
   "id": "66d78b45-1a31-4e92-aa8e-016006f16890",
   "metadata": {},
   "outputs": [],
   "source": [
    "VAR_change_in_price.index"
   ]
  },
  {
   "cell_type": "code",
   "execution_count": null,
   "id": "dcabb252-60d2-44df-8483-75cab445fd40",
   "metadata": {},
   "outputs": [],
   "source": [
    "for t in VAR_change_in_price.columns:\n",
    "    for i in range(n - 4, n):\n",
    "        VAR_change_in_price.loc[i, t] += VAR_change_in_price.loc[i - 1, t]"
   ]
  },
  {
   "cell_type": "code",
   "execution_count": null,
   "id": "aa489306-ad14-4485-8f6f-d12215ef0a93",
   "metadata": {},
   "outputs": [],
   "source": [
    "VAR_change_in_price"
   ]
  },
  {
   "cell_type": "code",
   "execution_count": null,
   "id": "9f19355b-ca3f-47e5-8ba7-b9833042e184",
   "metadata": {},
   "outputs": [],
   "source": [
    "df_close[-5:]"
   ]
  },
  {
   "cell_type": "markdown",
   "id": "6169f9d2-b164-40d7-a63d-7cdb9387dd33",
   "metadata": {},
   "source": [
    "## Plotting"
   ]
  },
  {
   "cell_type": "code",
   "execution_count": null,
   "id": "190e2391-0420-48dd-a95f-443ecb5be580",
   "metadata": {},
   "outputs": [],
   "source": [
    "plt.figure(figsize=(15, 5))\n",
    "#plt.plot(df_close)\n",
    "for t in VAR_change_in_price.columns:\n",
    "    plt.plot(VAR_change_in_price[t], label = t)\n",
    "plt.plot(df_close[-5:], color='k', label = 'F')\n",
    "plt.legend()\n",
    "plt.plot()\n",
    "#plt.set_xlim(1000, 1236)"
   ]
  },
  {
   "cell_type": "markdown",
   "id": "5a13f6a6-3f85-453d-8d1a-56d93eca4189",
   "metadata": {},
   "source": [
    "## Compute accuracy"
   ]
  },
  {
   "cell_type": "code",
   "execution_count": null,
   "id": "f19b226f-63b7-4332-9c49-cbbac2a9138b",
   "metadata": {},
   "outputs": [],
   "source": [
    "accuracy"
   ]
  },
  {
   "cell_type": "code",
   "execution_count": null,
   "id": "1f1b4c98-d24f-4eff-856b-8035de6f6cd9",
   "metadata": {},
   "outputs": [],
   "source": [
    "predictions"
   ]
  },
  {
   "cell_type": "code",
   "execution_count": null,
   "id": "6b71f177-8a32-488e-b7b8-f13cd7cb5b62",
   "metadata": {},
   "outputs": [],
   "source": [
    "sum(predictions['CADUSD=X_VAR']*predictions['F_change_in_price'] > 0)"
   ]
  },
  {
   "cell_type": "code",
   "execution_count": null,
   "id": "6e4f6db0-e9a1-459f-b5cc-1cdddfbf8578",
   "metadata": {},
   "outputs": [],
   "source": [
    "for i in range(6):\n",
    "    t = accuracy.loc[i, 'Ticker'] + '_VAR'\n",
    "    accuracy.loc[i, 'Accuracy'] = sum(predictions[t]*predictions['F_change_in_price'] > 0)/5"
   ]
  },
  {
   "cell_type": "code",
   "execution_count": null,
   "id": "a8ba7a71-3f35-4a5b-a1aa-9e37e906cadc",
   "metadata": {},
   "outputs": [],
   "source": [
    "accuracy"
   ]
  },
  {
   "cell_type": "markdown",
   "id": "d4efa570-8c7e-4f86-b0ca-98867b4ade23",
   "metadata": {},
   "source": [
    "We concluded that TM yields "
   ]
  }
 ],
 "metadata": {
  "kernelspec": {
   "display_name": "equity_vs_commodity",
   "language": "python",
   "name": "equity_vs_commodity"
  },
  "language_info": {
   "codemirror_mode": {
    "name": "ipython",
    "version": 3
   },
   "file_extension": ".py",
   "mimetype": "text/x-python",
   "name": "python",
   "nbconvert_exporter": "python",
   "pygments_lexer": "ipython3",
   "version": "3.12.6"
  }
 },
 "nbformat": 4,
 "nbformat_minor": 5
}

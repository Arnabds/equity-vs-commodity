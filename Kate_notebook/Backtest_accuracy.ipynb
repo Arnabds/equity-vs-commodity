{
 "cells": [
  {
   "cell_type": "markdown",
   "id": "9f4982b0-3282-4fab-b41d-d63b046a5c66",
   "metadata": {},
   "source": [
    "# Backtest accuracy"
   ]
  },
  {
   "cell_type": "code",
   "execution_count": 4,
   "id": "b0e86d25-7048-43e9-87c8-5e8789724bde",
   "metadata": {},
   "outputs": [],
   "source": [
    "import pandas as pd\n",
    "import numpy as np\n",
    "\n",
    "## Plotting\n",
    "import matplotlib.pyplot as plt\n",
    "import seaborn as sns"
   ]
  },
  {
   "cell_type": "markdown",
   "id": "620611d9-cbf0-46a2-8d91-8fd66e470299",
   "metadata": {},
   "source": [
    "## Yongchan: LSTM"
   ]
  },
  {
   "cell_type": "code",
   "execution_count": 2,
   "id": "6c254907-ff92-43db-8c66-d4977af190c4",
   "metadata": {},
   "outputs": [],
   "source": [
    "# 1 day forecast\n",
    "LSTM_acc_1 = [0.0, 0.0, 0.0, 0.0, 0.0, 0.0, 1.0, 0.0, 1.0, 1.0]\n",
    "# 2 days forecast\n",
    "LSTM_acc_2 = [1.0, 0.5, 0.5, 1.0, 0.5, 0.5, 1.0, 0.5, 1.0, 1.0]\n",
    "# 3 days forecast\n",
    "LSTM_acc_3 = [1.0, 0.67, 1.0, 0.67, 0.67, 0.33, 0.33, 0.67, 0.67, 1.0]\n",
    "# 4 days forecast\n",
    "LSTM_acc_4 = [0.5, 0.5, 0.75, 0.25, 0.5, 0.5, 0.5, 0.75, 0.75, 0.75]\n",
    "# 5 days forecast\n",
    "LSTM_acc_5 = [0.8, 0.6, 0.8, 0.6, 0.6, 0.8, 0.6, 0.8, 1.0, 0.4]"
   ]
  },
  {
   "cell_type": "markdown",
   "id": "7f65876c-ccb1-4c97-9aef-6485ec5ec6b5",
   "metadata": {},
   "source": [
    "## Minh: KNN"
   ]
  },
  {
   "cell_type": "code",
   "execution_count": 6,
   "id": "28e997c7-c32a-4bcd-b402-45f9fb3034b8",
   "metadata": {},
   "outputs": [],
   "source": [
    "# 1 day forecast\n",
    "KNN_acc_1 = [1.0, 1.0, 1.0, 1.0, 0.0, 0.0, 0.0, 1.0, 0.0, 1.0]\n",
    "# 2 days forecast\n",
    "KNN_acc_2 = [1.0, 0.5, 0.5, 1.0, 0.5, 0.5, 0.5, 0.5, 0.5, 1.0]\n",
    "# 3 days forecast\n",
    "KNN_acc_3 = [0.666667, 0.666667, 0.666667, 1.0, 0.333333, 0.333333, 0.333333, 0.666667, 0.333333, 1.0]\n",
    "# 4 days forecast\n",
    "KNN_acc_4 = [0.75, 0.5, 0.5, 0.75, 0.25, 0.25, 0.25, 0.75, 0.5, 1.0]\n",
    "# 5 days forecast\n",
    "KNN_acc_5 = [0.6, 0.4, 0.6, 0.8, 0.4, 0.4, 0.2, 0.8, 0.4, 1.0]"
   ]
  },
  {
   "cell_type": "code",
   "execution_count": null,
   "id": "7cf655cf-814b-43fa-ad71-5d779f7a8a50",
   "metadata": {},
   "outputs": [],
   "source": []
  }
 ],
 "metadata": {
  "kernelspec": {
   "display_name": "equity_vs_commodity",
   "language": "python",
   "name": "equity_vs_commodity"
  },
  "language_info": {
   "codemirror_mode": {
    "name": "ipython",
    "version": 3
   },
   "file_extension": ".py",
   "mimetype": "text/x-python",
   "name": "python",
   "nbconvert_exporter": "python",
   "pygments_lexer": "ipython3",
   "version": "3.12.6"
  }
 },
 "nbformat": 4,
 "nbformat_minor": 5
}

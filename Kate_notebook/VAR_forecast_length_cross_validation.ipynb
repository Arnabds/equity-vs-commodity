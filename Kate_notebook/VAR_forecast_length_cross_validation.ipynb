{
 "cells": [
  {
   "cell_type": "markdown",
   "id": "7028ce41-4663-4cde-96c1-b1da9f672e0c",
   "metadata": {},
   "source": [
    "# Compare VAR model accuracy with respect to forecast length"
   ]
  },
  {
   "cell_type": "code",
   "execution_count": 1,
   "id": "f6ca768b-3e07-4f45-819e-a5caee5ba34b",
   "metadata": {},
   "outputs": [],
   "source": [
    "import pandas as pd\n",
    "import numpy as np\n",
    "\n",
    "## Plotting\n",
    "import matplotlib.pyplot as plt\n",
    "import seaborn as sns\n",
    "\n",
    "from datetime import datetime\n",
    "from sklearn.metrics import mean_squared_error\n",
    "\n",
    "from statsmodels.tsa.api import VAR\n",
    "from statsmodels.tsa.stattools import acf, pacf, grangercausalitytests\n",
    "from statsmodels.tsa.statespace.varmax import VARMAX\n",
    "\n",
    "## Import TimeSeriesSplit\n",
    "from sklearn.model_selection import TimeSeriesSplit\n",
    "\n",
    "import yfinance as yf\n",
    "\n",
    "from statsmodels.tsa.stattools import adfuller\n",
    "from statsmodels.tsa.stattools import kpss"
   ]
  },
  {
   "cell_type": "markdown",
   "id": "67a1468a-0617-4566-9a88-92a24d9a9cdf",
   "metadata": {},
   "source": [
    "## Read the file"
   ]
  },
  {
   "cell_type": "code",
   "execution_count": 2,
   "id": "4de35dab-2679-489c-a79b-5e6618891bd8",
   "metadata": {},
   "outputs": [],
   "source": [
    "df = pd.read_csv('../Data/dataset_others.csv')\n",
    "# Extract _change_in_price columns\n",
    "change_in_price_cols = [col for col in df.columns if '_change_in_price' in col]\n",
    "df_change = df[change_in_price_cols].copy()"
   ]
  },
  {
   "cell_type": "code",
   "execution_count": 3,
   "id": "e7bf5936-ffea-4b50-9192-36451c309dc2",
   "metadata": {},
   "outputs": [],
   "source": [
    "df = df.rename(columns={'F_Close_pred':'F_Close'})"
   ]
  },
  {
   "cell_type": "code",
   "execution_count": 4,
   "id": "bdc0318c-b26f-47de-b0cc-5b4c913f438b",
   "metadata": {},
   "outputs": [
    {
     "data": {
      "text/plain": [
       "['CADUSD=X', 'GM', 'JCI', 'TM', 'TRYUSD=X', '^IXIC']"
      ]
     },
     "execution_count": 4,
     "metadata": {},
     "output_type": "execute_result"
    }
   ],
   "source": [
    "tickers = []\n",
    "for col in df.columns:\n",
    "    if '_RSI' in col:\n",
    "        tickers.append(col.split('_')[0])\n",
    "\n",
    "tickers.pop()\n",
    "tickers"
   ]
  },
  {
   "cell_type": "code",
   "execution_count": 5,
   "id": "abf9f70f-ddab-4567-921c-84f77e311836",
   "metadata": {},
   "outputs": [
    {
     "data": {
      "text/plain": [
       "['F_Open',\n",
       " 'F_Close',\n",
       " 'F_High',\n",
       " 'F_Low',\n",
       " 'F_Volume',\n",
       " 'F_Change',\n",
       " 'F_Gain',\n",
       " 'F_Loss',\n",
       " 'F_Avg_Gain',\n",
       " 'F_Avg_Loss',\n",
       " 'F_SMA',\n",
       " 'F_EMA',\n",
       " 'F_change_in_price',\n",
       " 'F_RSI',\n",
       " 'F_k_percent',\n",
       " 'F_r_percent',\n",
       " 'F_MACD',\n",
       " 'F_MACD_EMA',\n",
       " 'F_ROC',\n",
       " 'F_PVT',\n",
       " 'F_Bollinger_Upper',\n",
       " 'F_Bollinger_Lower']"
      ]
     },
     "execution_count": 5,
     "metadata": {},
     "output_type": "execute_result"
    }
   ],
   "source": [
    "[col for col in df.columns if 'F_' in col]"
   ]
  },
  {
   "cell_type": "code",
   "execution_count": 6,
   "id": "93878091-5c60-4918-bf25-ab2fc758b55d",
   "metadata": {},
   "outputs": [],
   "source": [
    "#df[['Date','F_Close_pred']]"
   ]
  },
  {
   "cell_type": "code",
   "execution_count": 7,
   "id": "aa345f24-d047-41bb-9621-fe201f8fca73",
   "metadata": {},
   "outputs": [],
   "source": [
    "#data = yf.download('F', start='2019-11-26', end='2024-10-28')\n",
    "#data"
   ]
  },
  {
   "cell_type": "code",
   "execution_count": 8,
   "id": "96751fd5-a125-4847-b579-1b7bd4feacd1",
   "metadata": {},
   "outputs": [
    {
     "data": {
      "text/plain": [
       "['CADUSD=X_change_in_price',\n",
       " 'GM_change_in_price',\n",
       " 'JCI_change_in_price',\n",
       " 'TM_change_in_price',\n",
       " 'TRYUSD=X_change_in_price',\n",
       " '^IXIC_change_in_price',\n",
       " 'F_change_in_price']"
      ]
     },
     "execution_count": 8,
     "metadata": {},
     "output_type": "execute_result"
    }
   ],
   "source": [
    "change_in_price_cols"
   ]
  },
  {
   "cell_type": "code",
   "execution_count": 9,
   "id": "9688aa88-d8ed-4d88-9968-853a892b5eeb",
   "metadata": {},
   "outputs": [
    {
     "data": {
      "text/plain": [
       "'F_change_in_price'"
      ]
     },
     "execution_count": 9,
     "metadata": {},
     "output_type": "execute_result"
    }
   ],
   "source": [
    "change_in_price_cols.pop()"
   ]
  },
  {
   "cell_type": "code",
   "execution_count": 10,
   "id": "0eab84f1-6952-4090-b9ee-ed0b8bf9be97",
   "metadata": {},
   "outputs": [
    {
     "data": {
      "text/plain": [
       "['CADUSD=X_change_in_price',\n",
       " 'GM_change_in_price',\n",
       " 'JCI_change_in_price',\n",
       " 'TM_change_in_price',\n",
       " 'TRYUSD=X_change_in_price',\n",
       " '^IXIC_change_in_price']"
      ]
     },
     "execution_count": 10,
     "metadata": {},
     "output_type": "execute_result"
    }
   ],
   "source": [
    "change_in_price_cols"
   ]
  },
  {
   "cell_type": "code",
   "execution_count": 11,
   "id": "2c1aaade-19b3-4ebf-b34c-ab58a0ff560c",
   "metadata": {},
   "outputs": [],
   "source": [
    "train = df.iloc[:-5].copy()\n",
    "test = df.iloc[-5:].copy()"
   ]
  },
  {
   "cell_type": "code",
   "execution_count": 12,
   "id": "ab99abbb-5ae1-4e53-a0f6-e0e1b4f51f97",
   "metadata": {},
   "outputs": [
    {
     "data": {
      "text/html": [
       "<div>\n",
       "<style scoped>\n",
       "    .dataframe tbody tr th:only-of-type {\n",
       "        vertical-align: middle;\n",
       "    }\n",
       "\n",
       "    .dataframe tbody tr th {\n",
       "        vertical-align: top;\n",
       "    }\n",
       "\n",
       "    .dataframe thead th {\n",
       "        text-align: right;\n",
       "    }\n",
       "</style>\n",
       "<table border=\"1\" class=\"dataframe\">\n",
       "  <thead>\n",
       "    <tr style=\"text-align: right;\">\n",
       "      <th></th>\n",
       "      <th>Date</th>\n",
       "      <th>CADUSD=X_Open</th>\n",
       "      <th>CADUSD=X_Close</th>\n",
       "      <th>CADUSD=X_High</th>\n",
       "      <th>CADUSD=X_Low</th>\n",
       "      <th>CADUSD=X_Volume</th>\n",
       "      <th>CADUSD=X_Change</th>\n",
       "      <th>CADUSD=X_Gain</th>\n",
       "      <th>CADUSD=X_Loss</th>\n",
       "      <th>CADUSD=X_Avg_Gain</th>\n",
       "      <th>...</th>\n",
       "      <th>F_change_in_price</th>\n",
       "      <th>F_RSI</th>\n",
       "      <th>F_k_percent</th>\n",
       "      <th>F_r_percent</th>\n",
       "      <th>F_MACD</th>\n",
       "      <th>F_MACD_EMA</th>\n",
       "      <th>F_ROC</th>\n",
       "      <th>F_PVT</th>\n",
       "      <th>F_Bollinger_Upper</th>\n",
       "      <th>F_Bollinger_Lower</th>\n",
       "    </tr>\n",
       "  </thead>\n",
       "  <tbody>\n",
       "    <tr>\n",
       "      <th>1227</th>\n",
       "      <td>2024-10-15 00:00:00+00:00</td>\n",
       "      <td>0.724485</td>\n",
       "      <td>0.724485</td>\n",
       "      <td>0.724953</td>\n",
       "      <td>0.722674</td>\n",
       "      <td>0.0</td>\n",
       "      <td>-0.001141</td>\n",
       "      <td>0.000000</td>\n",
       "      <td>0.001141</td>\n",
       "      <td>0.000580</td>\n",
       "      <td>...</td>\n",
       "      <td>-0.080000</td>\n",
       "      <td>58.398467</td>\n",
       "      <td>74.285699</td>\n",
       "      <td>-25.714301</td>\n",
       "      <td>-0.025965</td>\n",
       "      <td>-0.065261</td>\n",
       "      <td>1.498126</td>\n",
       "      <td>6.648763e+07</td>\n",
       "      <td>11.081637</td>\n",
       "      <td>10.360363</td>\n",
       "    </tr>\n",
       "    <tr>\n",
       "      <th>1228</th>\n",
       "      <td>2024-10-16 00:00:00+00:00</td>\n",
       "      <td>0.725631</td>\n",
       "      <td>0.725631</td>\n",
       "      <td>0.726322</td>\n",
       "      <td>0.725026</td>\n",
       "      <td>0.0</td>\n",
       "      <td>0.001146</td>\n",
       "      <td>0.001146</td>\n",
       "      <td>0.000000</td>\n",
       "      <td>0.000235</td>\n",
       "      <td>...</td>\n",
       "      <td>0.190000</td>\n",
       "      <td>66.421900</td>\n",
       "      <td>82.352882</td>\n",
       "      <td>-17.647118</td>\n",
       "      <td>0.001547</td>\n",
       "      <td>-0.051900</td>\n",
       "      <td>2.319110</td>\n",
       "      <td>6.731136e+07</td>\n",
       "      <td>11.105966</td>\n",
       "      <td>10.349034</td>\n",
       "    </tr>\n",
       "    <tr>\n",
       "      <th>1229</th>\n",
       "      <td>2024-10-17 00:00:00+00:00</td>\n",
       "      <td>0.727008</td>\n",
       "      <td>0.727008</td>\n",
       "      <td>0.727405</td>\n",
       "      <td>0.725084</td>\n",
       "      <td>0.0</td>\n",
       "      <td>0.001377</td>\n",
       "      <td>0.001377</td>\n",
       "      <td>0.000000</td>\n",
       "      <td>0.000333</td>\n",
       "      <td>...</td>\n",
       "      <td>0.040000</td>\n",
       "      <td>67.924619</td>\n",
       "      <td>87.058758</td>\n",
       "      <td>-12.941242</td>\n",
       "      <td>0.026275</td>\n",
       "      <td>-0.036265</td>\n",
       "      <td>4.829538</td>\n",
       "      <td>6.744778e+07</td>\n",
       "      <td>11.124970</td>\n",
       "      <td>10.339030</td>\n",
       "    </tr>\n",
       "    <tr>\n",
       "      <th>1230</th>\n",
       "      <td>2024-10-18 00:00:00+00:00</td>\n",
       "      <td>0.724864</td>\n",
       "      <td>0.724864</td>\n",
       "      <td>0.725426</td>\n",
       "      <td>0.724171</td>\n",
       "      <td>0.0</td>\n",
       "      <td>-0.002145</td>\n",
       "      <td>0.000000</td>\n",
       "      <td>0.002145</td>\n",
       "      <td>0.000308</td>\n",
       "      <td>...</td>\n",
       "      <td>0.030001</td>\n",
       "      <td>69.120561</td>\n",
       "      <td>90.588248</td>\n",
       "      <td>-9.411752</td>\n",
       "      <td>0.047743</td>\n",
       "      <td>-0.019463</td>\n",
       "      <td>3.255818</td>\n",
       "      <td>6.751845e+07</td>\n",
       "      <td>11.159514</td>\n",
       "      <td>10.322486</td>\n",
       "    </tr>\n",
       "    <tr>\n",
       "      <th>1231</th>\n",
       "      <td>2024-10-21 00:00:00+00:00</td>\n",
       "      <td>0.724659</td>\n",
       "      <td>0.724659</td>\n",
       "      <td>0.724638</td>\n",
       "      <td>0.722084</td>\n",
       "      <td>0.0</td>\n",
       "      <td>-0.000205</td>\n",
       "      <td>0.000000</td>\n",
       "      <td>0.000205</td>\n",
       "      <td>0.000308</td>\n",
       "      <td>...</td>\n",
       "      <td>-0.220000</td>\n",
       "      <td>52.543792</td>\n",
       "      <td>64.705876</td>\n",
       "      <td>-35.294124</td>\n",
       "      <td>0.046468</td>\n",
       "      <td>-0.006277</td>\n",
       "      <td>3.816800</td>\n",
       "      <td>6.670566e+07</td>\n",
       "      <td>11.159514</td>\n",
       "      <td>10.322486</td>\n",
       "    </tr>\n",
       "  </tbody>\n",
       "</table>\n",
       "<p>5 rows × 155 columns</p>\n",
       "</div>"
      ],
      "text/plain": [
       "                           Date  CADUSD=X_Open  CADUSD=X_Close  CADUSD=X_High  \\\n",
       "1227  2024-10-15 00:00:00+00:00       0.724485        0.724485       0.724953   \n",
       "1228  2024-10-16 00:00:00+00:00       0.725631        0.725631       0.726322   \n",
       "1229  2024-10-17 00:00:00+00:00       0.727008        0.727008       0.727405   \n",
       "1230  2024-10-18 00:00:00+00:00       0.724864        0.724864       0.725426   \n",
       "1231  2024-10-21 00:00:00+00:00       0.724659        0.724659       0.724638   \n",
       "\n",
       "      CADUSD=X_Low  CADUSD=X_Volume  CADUSD=X_Change  CADUSD=X_Gain  \\\n",
       "1227      0.722674              0.0        -0.001141       0.000000   \n",
       "1228      0.725026              0.0         0.001146       0.001146   \n",
       "1229      0.725084              0.0         0.001377       0.001377   \n",
       "1230      0.724171              0.0        -0.002145       0.000000   \n",
       "1231      0.722084              0.0        -0.000205       0.000000   \n",
       "\n",
       "      CADUSD=X_Loss  CADUSD=X_Avg_Gain  ...  F_change_in_price      F_RSI  \\\n",
       "1227       0.001141           0.000580  ...          -0.080000  58.398467   \n",
       "1228       0.000000           0.000235  ...           0.190000  66.421900   \n",
       "1229       0.000000           0.000333  ...           0.040000  67.924619   \n",
       "1230       0.002145           0.000308  ...           0.030001  69.120561   \n",
       "1231       0.000205           0.000308  ...          -0.220000  52.543792   \n",
       "\n",
       "      F_k_percent  F_r_percent    F_MACD  F_MACD_EMA     F_ROC         F_PVT  \\\n",
       "1227    74.285699   -25.714301 -0.025965   -0.065261  1.498126  6.648763e+07   \n",
       "1228    82.352882   -17.647118  0.001547   -0.051900  2.319110  6.731136e+07   \n",
       "1229    87.058758   -12.941242  0.026275   -0.036265  4.829538  6.744778e+07   \n",
       "1230    90.588248    -9.411752  0.047743   -0.019463  3.255818  6.751845e+07   \n",
       "1231    64.705876   -35.294124  0.046468   -0.006277  3.816800  6.670566e+07   \n",
       "\n",
       "      F_Bollinger_Upper  F_Bollinger_Lower  \n",
       "1227          11.081637          10.360363  \n",
       "1228          11.105966          10.349034  \n",
       "1229          11.124970          10.339030  \n",
       "1230          11.159514          10.322486  \n",
       "1231          11.159514          10.322486  \n",
       "\n",
       "[5 rows x 155 columns]"
      ]
     },
     "execution_count": 12,
     "metadata": {},
     "output_type": "execute_result"
    }
   ],
   "source": [
    "train.tail()"
   ]
  },
  {
   "cell_type": "code",
   "execution_count": 13,
   "id": "5b5c67e6-007e-4685-9279-5f63d9b44013",
   "metadata": {},
   "outputs": [
    {
     "data": {
      "text/html": [
       "<div>\n",
       "<style scoped>\n",
       "    .dataframe tbody tr th:only-of-type {\n",
       "        vertical-align: middle;\n",
       "    }\n",
       "\n",
       "    .dataframe tbody tr th {\n",
       "        vertical-align: top;\n",
       "    }\n",
       "\n",
       "    .dataframe thead th {\n",
       "        text-align: right;\n",
       "    }\n",
       "</style>\n",
       "<table border=\"1\" class=\"dataframe\">\n",
       "  <thead>\n",
       "    <tr style=\"text-align: right;\">\n",
       "      <th></th>\n",
       "      <th>Date</th>\n",
       "      <th>CADUSD=X_Open</th>\n",
       "      <th>CADUSD=X_Close</th>\n",
       "      <th>CADUSD=X_High</th>\n",
       "      <th>CADUSD=X_Low</th>\n",
       "      <th>CADUSD=X_Volume</th>\n",
       "      <th>CADUSD=X_Change</th>\n",
       "      <th>CADUSD=X_Gain</th>\n",
       "      <th>CADUSD=X_Loss</th>\n",
       "      <th>CADUSD=X_Avg_Gain</th>\n",
       "      <th>...</th>\n",
       "      <th>F_change_in_price</th>\n",
       "      <th>F_RSI</th>\n",
       "      <th>F_k_percent</th>\n",
       "      <th>F_r_percent</th>\n",
       "      <th>F_MACD</th>\n",
       "      <th>F_MACD_EMA</th>\n",
       "      <th>F_ROC</th>\n",
       "      <th>F_PVT</th>\n",
       "      <th>F_Bollinger_Upper</th>\n",
       "      <th>F_Bollinger_Lower</th>\n",
       "    </tr>\n",
       "  </thead>\n",
       "  <tbody>\n",
       "    <tr>\n",
       "      <th>1232</th>\n",
       "      <td>2024-10-22 00:00:00+00:00</td>\n",
       "      <td>0.722883</td>\n",
       "      <td>0.722883</td>\n",
       "      <td>0.723877</td>\n",
       "      <td>0.722684</td>\n",
       "      <td>0.0</td>\n",
       "      <td>-0.001776</td>\n",
       "      <td>0.000000</td>\n",
       "      <td>0.001776</td>\n",
       "      <td>0.000308</td>\n",
       "      <td>...</td>\n",
       "      <td>0.230000</td>\n",
       "      <td>63.192190</td>\n",
       "      <td>91.764633</td>\n",
       "      <td>-8.235367</td>\n",
       "      <td>0.063288</td>\n",
       "      <td>0.007636</td>\n",
       "      <td>6.315788</td>\n",
       "      <td>6.779642e+07</td>\n",
       "      <td>11.195281</td>\n",
       "      <td>10.306719</td>\n",
       "    </tr>\n",
       "    <tr>\n",
       "      <th>1233</th>\n",
       "      <td>2024-10-23 00:00:00+00:00</td>\n",
       "      <td>0.723788</td>\n",
       "      <td>0.723788</td>\n",
       "      <td>0.723809</td>\n",
       "      <td>0.721433</td>\n",
       "      <td>0.0</td>\n",
       "      <td>0.000905</td>\n",
       "      <td>0.000905</td>\n",
       "      <td>0.000000</td>\n",
       "      <td>0.000245</td>\n",
       "      <td>...</td>\n",
       "      <td>-0.049999</td>\n",
       "      <td>59.825069</td>\n",
       "      <td>80.219848</td>\n",
       "      <td>-19.780152</td>\n",
       "      <td>0.071755</td>\n",
       "      <td>0.020460</td>\n",
       "      <td>4.635769</td>\n",
       "      <td>6.762839e+07</td>\n",
       "      <td>11.223237</td>\n",
       "      <td>10.297763</td>\n",
       "    </tr>\n",
       "    <tr>\n",
       "      <th>1234</th>\n",
       "      <td>2024-10-24 00:00:00+00:00</td>\n",
       "      <td>0.722716</td>\n",
       "      <td>0.722716</td>\n",
       "      <td>0.724008</td>\n",
       "      <td>0.721480</td>\n",
       "      <td>0.0</td>\n",
       "      <td>-0.001072</td>\n",
       "      <td>0.000000</td>\n",
       "      <td>0.001072</td>\n",
       "      <td>0.000245</td>\n",
       "      <td>...</td>\n",
       "      <td>0.179999</td>\n",
       "      <td>67.105734</td>\n",
       "      <td>98.850548</td>\n",
       "      <td>-1.149452</td>\n",
       "      <td>0.091931</td>\n",
       "      <td>0.034754</td>\n",
       "      <td>7.149667</td>\n",
       "      <td>6.835647e+07</td>\n",
       "      <td>11.282170</td>\n",
       "      <td>10.320830</td>\n",
       "    </tr>\n",
       "    <tr>\n",
       "      <th>1235</th>\n",
       "      <td>2024-10-25 00:00:00+00:00</td>\n",
       "      <td>0.721850</td>\n",
       "      <td>0.721850</td>\n",
       "      <td>0.722648</td>\n",
       "      <td>0.720170</td>\n",
       "      <td>0.0</td>\n",
       "      <td>-0.000866</td>\n",
       "      <td>0.000000</td>\n",
       "      <td>0.000866</td>\n",
       "      <td>0.000245</td>\n",
       "      <td>...</td>\n",
       "      <td>-0.170000</td>\n",
       "      <td>56.038726</td>\n",
       "      <td>72.631549</td>\n",
       "      <td>-27.368451</td>\n",
       "      <td>0.093129</td>\n",
       "      <td>0.046429</td>\n",
       "      <td>4.237286</td>\n",
       "      <td>6.776479e+07</td>\n",
       "      <td>11.312438</td>\n",
       "      <td>10.329562</td>\n",
       "    </tr>\n",
       "    <tr>\n",
       "      <th>1236</th>\n",
       "      <td>2024-10-28 00:00:00+00:00</td>\n",
       "      <td>0.719652</td>\n",
       "      <td>0.719652</td>\n",
       "      <td>0.720326</td>\n",
       "      <td>0.719031</td>\n",
       "      <td>0.0</td>\n",
       "      <td>-0.002197</td>\n",
       "      <td>0.000000</td>\n",
       "      <td>0.002197</td>\n",
       "      <td>0.000245</td>\n",
       "      <td>...</td>\n",
       "      <td>0.300000</td>\n",
       "      <td>67.090123</td>\n",
       "      <td>97.894690</td>\n",
       "      <td>-2.105310</td>\n",
       "      <td>0.116938</td>\n",
       "      <td>0.060531</td>\n",
       "      <td>6.460670</td>\n",
       "      <td>7.041972e+07</td>\n",
       "      <td>11.399086</td>\n",
       "      <td>10.301914</td>\n",
       "    </tr>\n",
       "  </tbody>\n",
       "</table>\n",
       "<p>5 rows × 155 columns</p>\n",
       "</div>"
      ],
      "text/plain": [
       "                           Date  CADUSD=X_Open  CADUSD=X_Close  CADUSD=X_High  \\\n",
       "1232  2024-10-22 00:00:00+00:00       0.722883        0.722883       0.723877   \n",
       "1233  2024-10-23 00:00:00+00:00       0.723788        0.723788       0.723809   \n",
       "1234  2024-10-24 00:00:00+00:00       0.722716        0.722716       0.724008   \n",
       "1235  2024-10-25 00:00:00+00:00       0.721850        0.721850       0.722648   \n",
       "1236  2024-10-28 00:00:00+00:00       0.719652        0.719652       0.720326   \n",
       "\n",
       "      CADUSD=X_Low  CADUSD=X_Volume  CADUSD=X_Change  CADUSD=X_Gain  \\\n",
       "1232      0.722684              0.0        -0.001776       0.000000   \n",
       "1233      0.721433              0.0         0.000905       0.000905   \n",
       "1234      0.721480              0.0        -0.001072       0.000000   \n",
       "1235      0.720170              0.0        -0.000866       0.000000   \n",
       "1236      0.719031              0.0        -0.002197       0.000000   \n",
       "\n",
       "      CADUSD=X_Loss  CADUSD=X_Avg_Gain  ...  F_change_in_price      F_RSI  \\\n",
       "1232       0.001776           0.000308  ...           0.230000  63.192190   \n",
       "1233       0.000000           0.000245  ...          -0.049999  59.825069   \n",
       "1234       0.001072           0.000245  ...           0.179999  67.105734   \n",
       "1235       0.000866           0.000245  ...          -0.170000  56.038726   \n",
       "1236       0.002197           0.000245  ...           0.300000  67.090123   \n",
       "\n",
       "      F_k_percent  F_r_percent    F_MACD  F_MACD_EMA     F_ROC         F_PVT  \\\n",
       "1232    91.764633    -8.235367  0.063288    0.007636  6.315788  6.779642e+07   \n",
       "1233    80.219848   -19.780152  0.071755    0.020460  4.635769  6.762839e+07   \n",
       "1234    98.850548    -1.149452  0.091931    0.034754  7.149667  6.835647e+07   \n",
       "1235    72.631549   -27.368451  0.093129    0.046429  4.237286  6.776479e+07   \n",
       "1236    97.894690    -2.105310  0.116938    0.060531  6.460670  7.041972e+07   \n",
       "\n",
       "      F_Bollinger_Upper  F_Bollinger_Lower  \n",
       "1232          11.195281          10.306719  \n",
       "1233          11.223237          10.297763  \n",
       "1234          11.282170          10.320830  \n",
       "1235          11.312438          10.329562  \n",
       "1236          11.399086          10.301914  \n",
       "\n",
       "[5 rows x 155 columns]"
      ]
     },
     "execution_count": 13,
     "metadata": {},
     "output_type": "execute_result"
    }
   ],
   "source": [
    "test"
   ]
  },
  {
   "cell_type": "code",
   "execution_count": 14,
   "id": "17f9fbc5-3713-4f96-a083-5e0d208dbfc7",
   "metadata": {},
   "outputs": [
    {
     "name": "stdout",
     "output_type": "stream",
     "text": [
      "Train index\n",
      "[   0    1    2 ... 1179 1180 1181]\n",
      "--------\n",
      "Test index\n",
      "[1182 1183 1184 1185 1186]\n",
      "--------\n",
      "Train index\n",
      "[   0    1    2 ... 1184 1185 1186]\n",
      "--------\n",
      "Test index\n",
      "[1187 1188 1189 1190 1191]\n",
      "--------\n",
      "Train index\n",
      "[   0    1    2 ... 1189 1190 1191]\n",
      "--------\n",
      "Test index\n",
      "[1192 1193 1194 1195 1196]\n",
      "--------\n",
      "Train index\n",
      "[   0    1    2 ... 1194 1195 1196]\n",
      "--------\n",
      "Test index\n",
      "[1197 1198 1199 1200 1201]\n",
      "--------\n",
      "Train index\n",
      "[   0    1    2 ... 1199 1200 1201]\n",
      "--------\n",
      "Test index\n",
      "[1202 1203 1204 1205 1206]\n",
      "--------\n",
      "Train index\n",
      "[   0    1    2 ... 1204 1205 1206]\n",
      "--------\n",
      "Test index\n",
      "[1207 1208 1209 1210 1211]\n",
      "--------\n",
      "Train index\n",
      "[   0    1    2 ... 1209 1210 1211]\n",
      "--------\n",
      "Test index\n",
      "[1212 1213 1214 1215 1216]\n",
      "--------\n",
      "Train index\n",
      "[   0    1    2 ... 1214 1215 1216]\n",
      "--------\n",
      "Test index\n",
      "[1217 1218 1219 1220 1221]\n",
      "--------\n",
      "Train index\n",
      "[   0    1    2 ... 1219 1220 1221]\n",
      "--------\n",
      "Test index\n",
      "[1222 1223 1224 1225 1226]\n",
      "--------\n",
      "Train index\n",
      "[   0    1    2 ... 1224 1225 1226]\n",
      "--------\n",
      "Test index\n",
      "[1227 1228 1229 1230 1231]\n",
      "--------\n"
     ]
    }
   ],
   "source": [
    "cv = TimeSeriesSplit(10, test_size=5)\n",
    "MSE = np.zeros(9)\n",
    "\n",
    "\n",
    "for train_index, test_index in cv.split(train):\n",
    "    #t_tt = train.iloc[train_index]\n",
    "    #t_ho = train.iloc[test_index]\n",
    "    print('Train index')\n",
    "    print(train_index)\n",
    "    print('--------')\n",
    "    print('Test index')\n",
    "    print(test_index)\n",
    "    print('--------')"
   ]
  },
  {
   "cell_type": "code",
   "execution_count": 15,
   "id": "3d2fb03f-d6dc-447f-b75e-ac672577f16c",
   "metadata": {},
   "outputs": [],
   "source": [
    "#forecast_length = [5, 10, 15, 20, 25, 30, 35, 40]\n",
    "#forecast_length = [1, 3, 5, 10, 15] #, 30, 35, 40]\n",
    "forecast_length = [5]"
   ]
  },
  {
   "cell_type": "code",
   "execution_count": 27,
   "id": "a59ee00d-5c35-4b91-9773-4f2bbfc5818e",
   "metadata": {},
   "outputs": [],
   "source": [
    "cols = ['Ticker', 'Optimal order', 'Accuracy']\n",
    "'''for i in range(len(forecast_length)):\n",
    "    cols.append('n = '+ str(forecast_length[i]))\n",
    "cols\n",
    "'''\n",
    "accuracy = pd.DataFrame(columns=cols)\n",
    "#results_adf['Company'] = ['Apple','Google','Microsoft','NVIDIA','Amazon','Meta','TSMC']"
   ]
  },
  {
   "cell_type": "code",
   "execution_count": 28,
   "id": "a0346f00-5cfa-403f-8be9-dd27f79cd5d9",
   "metadata": {},
   "outputs": [
    {
     "data": {
      "text/html": [
       "<div>\n",
       "<style scoped>\n",
       "    .dataframe tbody tr th:only-of-type {\n",
       "        vertical-align: middle;\n",
       "    }\n",
       "\n",
       "    .dataframe tbody tr th {\n",
       "        vertical-align: top;\n",
       "    }\n",
       "\n",
       "    .dataframe thead th {\n",
       "        text-align: right;\n",
       "    }\n",
       "</style>\n",
       "<table border=\"1\" class=\"dataframe\">\n",
       "  <thead>\n",
       "    <tr style=\"text-align: right;\">\n",
       "      <th></th>\n",
       "      <th>Ticker</th>\n",
       "      <th>Optimal order</th>\n",
       "      <th>Accuracy</th>\n",
       "    </tr>\n",
       "  </thead>\n",
       "  <tbody>\n",
       "  </tbody>\n",
       "</table>\n",
       "</div>"
      ],
      "text/plain": [
       "Empty DataFrame\n",
       "Columns: [Ticker, Optimal order, Accuracy]\n",
       "Index: []"
      ]
     },
     "execution_count": 28,
     "metadata": {},
     "output_type": "execute_result"
    }
   ],
   "source": [
    "accuracy"
   ]
  },
  {
   "cell_type": "code",
   "execution_count": 18,
   "id": "335e043e-bbf7-4f01-8182-9d825f862ce1",
   "metadata": {},
   "outputs": [
    {
     "data": {
      "text/plain": [
       "['ALV', 'change', 'in', 'price']"
      ]
     },
     "execution_count": 18,
     "metadata": {},
     "output_type": "execute_result"
    }
   ],
   "source": [
    "s = 'ALV_change_in_price'\n",
    "s.split('_')"
   ]
  },
  {
   "cell_type": "code",
   "execution_count": 29,
   "id": "df3adf4b-d804-414a-9ab8-05cc0b91ba06",
   "metadata": {},
   "outputs": [],
   "source": [
    "for i, t in enumerate(change_in_price_cols):\n",
    "    accuracy.loc[i, 'Ticker'] = t.split('_')[0]"
   ]
  },
  {
   "cell_type": "code",
   "execution_count": 30,
   "id": "71094764-cd54-41f7-9a30-a6c391af34d9",
   "metadata": {},
   "outputs": [
    {
     "data": {
      "text/html": [
       "<div>\n",
       "<style scoped>\n",
       "    .dataframe tbody tr th:only-of-type {\n",
       "        vertical-align: middle;\n",
       "    }\n",
       "\n",
       "    .dataframe tbody tr th {\n",
       "        vertical-align: top;\n",
       "    }\n",
       "\n",
       "    .dataframe thead th {\n",
       "        text-align: right;\n",
       "    }\n",
       "</style>\n",
       "<table border=\"1\" class=\"dataframe\">\n",
       "  <thead>\n",
       "    <tr style=\"text-align: right;\">\n",
       "      <th></th>\n",
       "      <th>Ticker</th>\n",
       "      <th>Optimal order</th>\n",
       "      <th>Accuracy</th>\n",
       "    </tr>\n",
       "  </thead>\n",
       "  <tbody>\n",
       "    <tr>\n",
       "      <th>0</th>\n",
       "      <td>CADUSD=X</td>\n",
       "      <td>NaN</td>\n",
       "      <td>NaN</td>\n",
       "    </tr>\n",
       "    <tr>\n",
       "      <th>1</th>\n",
       "      <td>GM</td>\n",
       "      <td>NaN</td>\n",
       "      <td>NaN</td>\n",
       "    </tr>\n",
       "    <tr>\n",
       "      <th>2</th>\n",
       "      <td>JCI</td>\n",
       "      <td>NaN</td>\n",
       "      <td>NaN</td>\n",
       "    </tr>\n",
       "    <tr>\n",
       "      <th>3</th>\n",
       "      <td>TM</td>\n",
       "      <td>NaN</td>\n",
       "      <td>NaN</td>\n",
       "    </tr>\n",
       "    <tr>\n",
       "      <th>4</th>\n",
       "      <td>TRYUSD=X</td>\n",
       "      <td>NaN</td>\n",
       "      <td>NaN</td>\n",
       "    </tr>\n",
       "    <tr>\n",
       "      <th>5</th>\n",
       "      <td>^IXIC</td>\n",
       "      <td>NaN</td>\n",
       "      <td>NaN</td>\n",
       "    </tr>\n",
       "  </tbody>\n",
       "</table>\n",
       "</div>"
      ],
      "text/plain": [
       "     Ticker Optimal order Accuracy\n",
       "0  CADUSD=X           NaN      NaN\n",
       "1        GM           NaN      NaN\n",
       "2       JCI           NaN      NaN\n",
       "3        TM           NaN      NaN\n",
       "4  TRYUSD=X           NaN      NaN\n",
       "5     ^IXIC           NaN      NaN"
      ]
     },
     "execution_count": 30,
     "metadata": {},
     "output_type": "execute_result"
    }
   ],
   "source": [
    "accuracy"
   ]
  },
  {
   "cell_type": "markdown",
   "id": "cb2794b0-3879-447e-aedd-2e03960b721b",
   "metadata": {},
   "source": [
    "## Best VAR model"
   ]
  },
  {
   "cell_type": "code",
   "execution_count": 21,
   "id": "54cab352-038a-46a7-be63-4ecce0366d67",
   "metadata": {},
   "outputs": [],
   "source": [
    "def best_VAR(train, forecast_length):\n",
    "    #train = df.iloc[:-forecast_length].copy()\n",
    "    #test = df.iloc[-forecast_length:].copy()\n",
    "    cv = TimeSeriesSplit(10, test_size=forecast_length)\n",
    "    MSE = np.zeros(9)\n",
    "\n",
    "    for train_index, test_index in cv.split(train):\n",
    "        t_tt = train.iloc[train_index]\n",
    "        t_ho = train.iloc[test_index]\n",
    "        model = VAR(t_tt)\n",
    "        for i in range(1, 10):\n",
    "            var_model = model.fit(i)\n",
    "            pred = var_model.forecast(t_tt.values, steps=forecast_length)\n",
    "            MSE[i - 1] = np.sqrt(mean_squared_error(t_ho['F_change_in_price'].values, pred[:, 0]))\n",
    "    \n",
    "    order_optimal = np.argmin(MSE) + 1\n",
    "    return order_optimal"
   ]
  },
  {
   "cell_type": "markdown",
   "id": "7f9fc03d-1fd5-4875-af9e-97c847ad32da",
   "metadata": {},
   "source": [
    "## VAR model for each ticker and each forecast length"
   ]
  },
  {
   "cell_type": "code",
   "execution_count": 22,
   "id": "42fd276e-1ebb-4099-bd69-56149617bcd1",
   "metadata": {},
   "outputs": [
    {
     "data": {
      "text/html": [
       "<div>\n",
       "<style scoped>\n",
       "    .dataframe tbody tr th:only-of-type {\n",
       "        vertical-align: middle;\n",
       "    }\n",
       "\n",
       "    .dataframe tbody tr th {\n",
       "        vertical-align: top;\n",
       "    }\n",
       "\n",
       "    .dataframe thead th {\n",
       "        text-align: right;\n",
       "    }\n",
       "</style>\n",
       "<table border=\"1\" class=\"dataframe\">\n",
       "  <thead>\n",
       "    <tr style=\"text-align: right;\">\n",
       "      <th></th>\n",
       "      <th>Ticker</th>\n",
       "      <th>n = 5</th>\n",
       "    </tr>\n",
       "  </thead>\n",
       "  <tbody>\n",
       "    <tr>\n",
       "      <th>0</th>\n",
       "      <td>CADUSD=X</td>\n",
       "      <td>NaN</td>\n",
       "    </tr>\n",
       "    <tr>\n",
       "      <th>1</th>\n",
       "      <td>GM</td>\n",
       "      <td>NaN</td>\n",
       "    </tr>\n",
       "    <tr>\n",
       "      <th>2</th>\n",
       "      <td>JCI</td>\n",
       "      <td>NaN</td>\n",
       "    </tr>\n",
       "    <tr>\n",
       "      <th>3</th>\n",
       "      <td>TM</td>\n",
       "      <td>NaN</td>\n",
       "    </tr>\n",
       "    <tr>\n",
       "      <th>4</th>\n",
       "      <td>TRYUSD=X</td>\n",
       "      <td>NaN</td>\n",
       "    </tr>\n",
       "    <tr>\n",
       "      <th>5</th>\n",
       "      <td>^IXIC</td>\n",
       "      <td>NaN</td>\n",
       "    </tr>\n",
       "  </tbody>\n",
       "</table>\n",
       "</div>"
      ],
      "text/plain": [
       "     Ticker n = 5\n",
       "0  CADUSD=X   NaN\n",
       "1        GM   NaN\n",
       "2       JCI   NaN\n",
       "3        TM   NaN\n",
       "4  TRYUSD=X   NaN\n",
       "5     ^IXIC   NaN"
      ]
     },
     "execution_count": 22,
     "metadata": {},
     "output_type": "execute_result"
    }
   ],
   "source": [
    "order_optimal = accuracy.copy()\n",
    "order_optimal"
   ]
  },
  {
   "cell_type": "code",
   "execution_count": 31,
   "id": "371531d3-5c23-410d-a0fc-b5ae8235ba66",
   "metadata": {},
   "outputs": [],
   "source": [
    "for i in range(len(forecast_length)):\n",
    "    for j in range(len(change_in_price_cols)):\n",
    "        df_temp = df_change[['F_change_in_price', change_in_price_cols[j]]].copy()\n",
    "        train = df_temp.iloc[:-forecast_length[i]].copy()\n",
    "        test = df_temp.iloc[-forecast_length[i]:].copy()\n",
    "        order_optimal.iloc[j, i + 1] = best_VAR(train, forecast_length[i])\n",
    "        accuracy.iloc[j, i + 1] = best_VAR(train, forecast_length[i])\n",
    "        #print(order_optimal)\n",
    "        model_best = VAR(train)\n",
    "        var_model_best = model_best.fit(order_optimal.iloc[j, i + 1])\n",
    "        pred_best = var_model_best.forecast(train.values[-var_model_best.k_ar:], steps=forecast_length[i])\n",
    "        pred_best\n",
    "        accuracy.iloc[j, i + 1] = sum(pred_best[:, 0]*test.loc[:,'F_change_in_price'] > 0)/forecast_length[i]"
   ]
  },
  {
   "cell_type": "code",
   "execution_count": 32,
   "id": "941a5be1-4e2c-49c3-9582-59c554b04473",
   "metadata": {},
   "outputs": [
    {
     "data": {
      "text/plain": [
       "\"order_optimal = zeros(len(change_in_price_cols))\\nfor j in range(len(change_in_price_cols)):\\n    df_temp = df_change[['F_change_in_price', change_in_price_cols[j]]].copy()\\n    train = df_temp.iloc[:-5].copy()\\n    test = df_temp.iloc[-5:].copy()\\n    order_optimal.iloc[j] = best_VAR(train, 5)\\n    #model_best = VAR(train)\\n    #var_model_best = model_best.fit(order_optimal.iloc[j, i + 1])\\n    #pred_best = var_model_best.forecast(train.values[-var_model_best.k_ar:], steps=forecast_length[i])\\n    #pred_best\\n    #accuracy.iloc[j, i + 1] = sum(pred_best[:, 0]*test.loc[:,'F_change_in_price'] > 0)/forecast_length[i]\\n    \""
      ]
     },
     "execution_count": 32,
     "metadata": {},
     "output_type": "execute_result"
    }
   ],
   "source": [
    "'''order_optimal = zeros(len(change_in_price_cols))\n",
    "for j in range(len(change_in_price_cols)):\n",
    "    df_temp = df_change[['F_change_in_price', change_in_price_cols[j]]].copy()\n",
    "    train = df_temp.iloc[:-5].copy()\n",
    "    test = df_temp.iloc[-5:].copy()\n",
    "    order_optimal.iloc[j] = best_VAR(train, 5)\n",
    "    #model_best = VAR(train)\n",
    "    #var_model_best = model_best.fit(order_optimal.iloc[j, i + 1])\n",
    "    #pred_best = var_model_best.forecast(train.values[-var_model_best.k_ar:], steps=forecast_length[i])\n",
    "    #pred_best\n",
    "    #accuracy.iloc[j, i + 1] = sum(pred_best[:, 0]*test.loc[:,'F_change_in_price'] > 0)/forecast_length[i]\n",
    "    '''"
   ]
  },
  {
   "cell_type": "code",
   "execution_count": 26,
   "id": "d71913c6-5e06-4bba-b722-71372ea99667",
   "metadata": {},
   "outputs": [
    {
     "data": {
      "text/html": [
       "<div>\n",
       "<style scoped>\n",
       "    .dataframe tbody tr th:only-of-type {\n",
       "        vertical-align: middle;\n",
       "    }\n",
       "\n",
       "    .dataframe tbody tr th {\n",
       "        vertical-align: top;\n",
       "    }\n",
       "\n",
       "    .dataframe thead th {\n",
       "        text-align: right;\n",
       "    }\n",
       "</style>\n",
       "<table border=\"1\" class=\"dataframe\">\n",
       "  <thead>\n",
       "    <tr style=\"text-align: right;\">\n",
       "      <th></th>\n",
       "      <th>Ticker</th>\n",
       "      <th>n = 5</th>\n",
       "    </tr>\n",
       "  </thead>\n",
       "  <tbody>\n",
       "    <tr>\n",
       "      <th>0</th>\n",
       "      <td>CADUSD=X</td>\n",
       "      <td>3</td>\n",
       "    </tr>\n",
       "    <tr>\n",
       "      <th>1</th>\n",
       "      <td>GM</td>\n",
       "      <td>8</td>\n",
       "    </tr>\n",
       "    <tr>\n",
       "      <th>2</th>\n",
       "      <td>JCI</td>\n",
       "      <td>8</td>\n",
       "    </tr>\n",
       "    <tr>\n",
       "      <th>3</th>\n",
       "      <td>TM</td>\n",
       "      <td>9</td>\n",
       "    </tr>\n",
       "    <tr>\n",
       "      <th>4</th>\n",
       "      <td>TRYUSD=X</td>\n",
       "      <td>2</td>\n",
       "    </tr>\n",
       "    <tr>\n",
       "      <th>5</th>\n",
       "      <td>^IXIC</td>\n",
       "      <td>9</td>\n",
       "    </tr>\n",
       "  </tbody>\n",
       "</table>\n",
       "</div>"
      ],
      "text/plain": [
       "     Ticker n = 5\n",
       "0  CADUSD=X     3\n",
       "1        GM     8\n",
       "2       JCI     8\n",
       "3        TM     9\n",
       "4  TRYUSD=X     2\n",
       "5     ^IXIC     9"
      ]
     },
     "execution_count": 26,
     "metadata": {},
     "output_type": "execute_result"
    }
   ],
   "source": [
    "order_optimal"
   ]
  },
  {
   "cell_type": "code",
   "execution_count": null,
   "id": "8318c842-7b61-4d89-b79a-e2a0383419f5",
   "metadata": {},
   "outputs": [],
   "source": []
  },
  {
   "cell_type": "code",
   "execution_count": 33,
   "id": "e3b30b6b-79c4-4804-93d8-014af03be143",
   "metadata": {},
   "outputs": [
    {
     "data": {
      "text/html": [
       "<div>\n",
       "<style scoped>\n",
       "    .dataframe tbody tr th:only-of-type {\n",
       "        vertical-align: middle;\n",
       "    }\n",
       "\n",
       "    .dataframe tbody tr th {\n",
       "        vertical-align: top;\n",
       "    }\n",
       "\n",
       "    .dataframe thead th {\n",
       "        text-align: right;\n",
       "    }\n",
       "</style>\n",
       "<table border=\"1\" class=\"dataframe\">\n",
       "  <thead>\n",
       "    <tr style=\"text-align: right;\">\n",
       "      <th></th>\n",
       "      <th>Ticker</th>\n",
       "      <th>Optimal order</th>\n",
       "      <th>Accuracy</th>\n",
       "    </tr>\n",
       "  </thead>\n",
       "  <tbody>\n",
       "    <tr>\n",
       "      <th>0</th>\n",
       "      <td>CADUSD=X</td>\n",
       "      <td>0.4</td>\n",
       "      <td>NaN</td>\n",
       "    </tr>\n",
       "    <tr>\n",
       "      <th>1</th>\n",
       "      <td>GM</td>\n",
       "      <td>0.0</td>\n",
       "      <td>NaN</td>\n",
       "    </tr>\n",
       "    <tr>\n",
       "      <th>2</th>\n",
       "      <td>JCI</td>\n",
       "      <td>0.6</td>\n",
       "      <td>NaN</td>\n",
       "    </tr>\n",
       "    <tr>\n",
       "      <th>3</th>\n",
       "      <td>TM</td>\n",
       "      <td>0.0</td>\n",
       "      <td>NaN</td>\n",
       "    </tr>\n",
       "    <tr>\n",
       "      <th>4</th>\n",
       "      <td>TRYUSD=X</td>\n",
       "      <td>0.6</td>\n",
       "      <td>NaN</td>\n",
       "    </tr>\n",
       "    <tr>\n",
       "      <th>5</th>\n",
       "      <td>^IXIC</td>\n",
       "      <td>0.2</td>\n",
       "      <td>NaN</td>\n",
       "    </tr>\n",
       "  </tbody>\n",
       "</table>\n",
       "</div>"
      ],
      "text/plain": [
       "     Ticker Optimal order Accuracy\n",
       "0  CADUSD=X           0.4      NaN\n",
       "1        GM           0.0      NaN\n",
       "2       JCI           0.6      NaN\n",
       "3        TM           0.0      NaN\n",
       "4  TRYUSD=X           0.6      NaN\n",
       "5     ^IXIC           0.2      NaN"
      ]
     },
     "execution_count": 33,
     "metadata": {},
     "output_type": "execute_result"
    }
   ],
   "source": [
    "accuracy"
   ]
  },
  {
   "cell_type": "code",
   "execution_count": null,
   "id": "b5ce9d6a-e31b-4759-aed3-b2e5203a8491",
   "metadata": {},
   "outputs": [],
   "source": [
    "c = ['Ticker', 'Optimal Lag', 'Accuracy']\n",
    "accuracy = pd.DataFrame(columns=c)"
   ]
  },
  {
   "cell_type": "code",
   "execution_count": null,
   "id": "8131a599-ec9e-4dae-ac79-02322ccfe69f",
   "metadata": {},
   "outputs": [],
   "source": [
    "accuracy"
   ]
  },
  {
   "cell_type": "code",
   "execution_count": null,
   "id": "e7f8343e-d258-4ece-bdb8-db76447c7258",
   "metadata": {},
   "outputs": [],
   "source": [
    "for i, t in enumerate(tickers):\n",
    "    accuracy.loc[i, 'Ticker'] = t"
   ]
  },
  {
   "cell_type": "code",
   "execution_count": null,
   "id": "d56aef38-8f79-4cff-9db7-9084453826c2",
   "metadata": {},
   "outputs": [],
   "source": [
    "accuracy"
   ]
  },
  {
   "cell_type": "code",
   "execution_count": null,
   "id": "9d502992-0665-4658-8dbb-74194621a6dc",
   "metadata": {},
   "outputs": [],
   "source": [
    "order_optimal"
   ]
  },
  {
   "cell_type": "code",
   "execution_count": null,
   "id": "9d89e7ff-6b85-4a6f-8e31-3d5a15284ec6",
   "metadata": {},
   "outputs": [],
   "source": [
    "plt.figure(figsize=(15, 5))\n",
    "for i in range(6):\n",
    "    plt.plot(accuracy.iloc[i, 1:], label=accuracy.loc[i,'Ticker'])\n",
    "plt.legend()\n",
    "plt.ylabel('Accuracy')\n",
    "plt.xlabel('Forecast Length')\n",
    "plt.show()"
   ]
  },
  {
   "cell_type": "code",
   "execution_count": null,
   "id": "18e10412-9157-4eb2-b4c5-6d1c5e4703c6",
   "metadata": {},
   "outputs": [],
   "source": [
    "df"
   ]
  },
  {
   "cell_type": "markdown",
   "id": "f026d28c-42ef-4492-929b-02132ac1c842",
   "metadata": {},
   "source": [
    "## Timeseries forecast"
   ]
  },
  {
   "cell_type": "code",
   "execution_count": null,
   "id": "b625dcb8-b870-4a4e-a25a-8c8e4a33c61f",
   "metadata": {},
   "outputs": [],
   "source": [
    "# Plot F time series\n",
    "plt.figure(figsize=(15, 5))\n",
    "plt.plot(df['F_Close'])\n",
    "plt.show()"
   ]
  },
  {
   "cell_type": "code",
   "execution_count": null,
   "id": "bf609183-8936-4225-b444-ff30d6394580",
   "metadata": {},
   "outputs": [],
   "source": [
    "plt.figure(figsize=(15, 5))\n",
    "plt.plot(train)\n",
    "plt.show()"
   ]
  },
  {
   "cell_type": "code",
   "execution_count": null,
   "id": "4e29ba92-dedb-4f10-a2c7-8089d076ed96",
   "metadata": {},
   "outputs": [],
   "source": []
  }
 ],
 "metadata": {
  "kernelspec": {
   "display_name": "equity_vs_commodity",
   "language": "python",
   "name": "equity_vs_commodity"
  },
  "language_info": {
   "codemirror_mode": {
    "name": "ipython",
    "version": 3
   },
   "file_extension": ".py",
   "mimetype": "text/x-python",
   "name": "python",
   "nbconvert_exporter": "python",
   "pygments_lexer": "ipython3",
   "version": "3.12.6"
  }
 },
 "nbformat": 4,
 "nbformat_minor": 5
}

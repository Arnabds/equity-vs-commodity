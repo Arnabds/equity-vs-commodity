{
 "cells": [
  {
   "cell_type": "markdown",
   "id": "b501097e-ccfc-4a11-a3fa-3f99e28efb16",
   "metadata": {},
   "source": [
    "# Vector Autoregressive "
   ]
  },
  {
   "cell_type": "code",
   "execution_count": 1,
   "id": "481c1a0a-29bd-4a70-b2ee-22970783d7d1",
   "metadata": {},
   "outputs": [],
   "source": [
    "import pandas as pd\n",
    "import numpy as np\n",
    "\n",
    "## Plotting\n",
    "import matplotlib.pyplot as plt\n",
    "import seaborn as sns\n",
    "\n",
    "from sklearn.metrics import mean_squared_error\n",
    "\n",
    "from statsmodels.tsa.api import VAR\n",
    "from statsmodels.tsa.stattools import acf, pacf, grangercausalitytests\n",
    "\n",
    "## Import TimeSeriesSplit\n",
    "from sklearn.model_selection import TimeSeriesSplit\n",
    "\n",
    "import yfinance as yf\n",
    "\n",
    "from statsmodels.tsa.stattools import adfuller\n",
    "from statsmodels.tsa.stattools import kpss"
   ]
  },
  {
   "cell_type": "markdown",
   "id": "678003e4-50c9-49f0-b0b1-a3b0df0b76f7",
   "metadata": {},
   "source": [
    "## Read the file"
   ]
  },
  {
   "cell_type": "code",
   "execution_count": 2,
   "id": "f2f10de0-dc77-443d-8721-39ece4d639cc",
   "metadata": {},
   "outputs": [],
   "source": [
    "df = pd.read_csv('../Data/dataset_others.csv')\n",
    "# Extract _change_in_price columns\n",
    "change_in_price_cols = [col for col in df.columns if '_change_in_price' in col]\n",
    "df_change = df[change_in_price_cols].copy()"
   ]
  },
  {
   "cell_type": "code",
   "execution_count": 3,
   "id": "76e5e9fa-15af-4cf6-8178-efb91067b9b5",
   "metadata": {},
   "outputs": [
    {
     "data": {
      "text/html": [
       "<div>\n",
       "<style scoped>\n",
       "    .dataframe tbody tr th:only-of-type {\n",
       "        vertical-align: middle;\n",
       "    }\n",
       "\n",
       "    .dataframe tbody tr th {\n",
       "        vertical-align: top;\n",
       "    }\n",
       "\n",
       "    .dataframe thead th {\n",
       "        text-align: right;\n",
       "    }\n",
       "</style>\n",
       "<table border=\"1\" class=\"dataframe\">\n",
       "  <thead>\n",
       "    <tr style=\"text-align: right;\">\n",
       "      <th></th>\n",
       "      <th>CADUSD=X_change_in_price</th>\n",
       "      <th>GM_change_in_price</th>\n",
       "      <th>JCI_change_in_price</th>\n",
       "      <th>TM_change_in_price</th>\n",
       "      <th>TRYUSD=X_change_in_price</th>\n",
       "      <th>^IXIC_change_in_price</th>\n",
       "      <th>F_change_in_price</th>\n",
       "    </tr>\n",
       "  </thead>\n",
       "  <tbody>\n",
       "    <tr>\n",
       "      <th>0</th>\n",
       "      <td>-0.000418</td>\n",
       "      <td>0.099998</td>\n",
       "      <td>0.330002</td>\n",
       "      <td>-0.569992</td>\n",
       "      <td>-0.000812</td>\n",
       "      <td>15.439453</td>\n",
       "      <td>0.010000</td>\n",
       "    </tr>\n",
       "    <tr>\n",
       "      <th>1</th>\n",
       "      <td>0.001932</td>\n",
       "      <td>0.230000</td>\n",
       "      <td>0.160000</td>\n",
       "      <td>-0.309998</td>\n",
       "      <td>-0.000532</td>\n",
       "      <td>57.250000</td>\n",
       "      <td>0.090000</td>\n",
       "    </tr>\n",
       "    <tr>\n",
       "      <th>2</th>\n",
       "      <td>-0.000607</td>\n",
       "      <td>-0.139999</td>\n",
       "      <td>-0.279999</td>\n",
       "      <td>-1.449997</td>\n",
       "      <td>0.000039</td>\n",
       "      <td>-39.709961</td>\n",
       "      <td>-0.040000</td>\n",
       "    </tr>\n",
       "    <tr>\n",
       "      <th>3</th>\n",
       "      <td>-0.000238</td>\n",
       "      <td>-0.119999</td>\n",
       "      <td>-0.560001</td>\n",
       "      <td>0.059998</td>\n",
       "      <td>0.000314</td>\n",
       "      <td>-97.479492</td>\n",
       "      <td>-0.050000</td>\n",
       "    </tr>\n",
       "    <tr>\n",
       "      <th>4</th>\n",
       "      <td>-0.001081</td>\n",
       "      <td>-0.350002</td>\n",
       "      <td>-0.480000</td>\n",
       "      <td>0.459991</td>\n",
       "      <td>0.000223</td>\n",
       "      <td>-47.350586</td>\n",
       "      <td>-0.120000</td>\n",
       "    </tr>\n",
       "    <tr>\n",
       "      <th>...</th>\n",
       "      <td>...</td>\n",
       "      <td>...</td>\n",
       "      <td>...</td>\n",
       "      <td>...</td>\n",
       "      <td>...</td>\n",
       "      <td>...</td>\n",
       "      <td>...</td>\n",
       "    </tr>\n",
       "    <tr>\n",
       "      <th>1232</th>\n",
       "      <td>-0.001776</td>\n",
       "      <td>4.799999</td>\n",
       "      <td>-0.529999</td>\n",
       "      <td>0.759995</td>\n",
       "      <td>0.000026</td>\n",
       "      <td>39.759766</td>\n",
       "      <td>0.230000</td>\n",
       "    </tr>\n",
       "    <tr>\n",
       "      <th>1233</th>\n",
       "      <td>0.000905</td>\n",
       "      <td>-0.810001</td>\n",
       "      <td>-0.159996</td>\n",
       "      <td>1.400009</td>\n",
       "      <td>-0.000006</td>\n",
       "      <td>-303.119141</td>\n",
       "      <td>-0.049999</td>\n",
       "    </tr>\n",
       "    <tr>\n",
       "      <th>1234</th>\n",
       "      <td>-0.001072</td>\n",
       "      <td>-0.199997</td>\n",
       "      <td>0.379997</td>\n",
       "      <td>-0.900009</td>\n",
       "      <td>-0.000013</td>\n",
       "      <td>138.839844</td>\n",
       "      <td>0.179999</td>\n",
       "    </tr>\n",
       "    <tr>\n",
       "      <th>1235</th>\n",
       "      <td>-0.000866</td>\n",
       "      <td>-0.650002</td>\n",
       "      <td>-0.120003</td>\n",
       "      <td>1.570007</td>\n",
       "      <td>-0.000016</td>\n",
       "      <td>103.119141</td>\n",
       "      <td>-0.170000</td>\n",
       "    </tr>\n",
       "    <tr>\n",
       "      <th>1236</th>\n",
       "      <td>-0.002197</td>\n",
       "      <td>0.660000</td>\n",
       "      <td>0.990005</td>\n",
       "      <td>4.630005</td>\n",
       "      <td>0.000004</td>\n",
       "      <td>48.580078</td>\n",
       "      <td>0.300000</td>\n",
       "    </tr>\n",
       "  </tbody>\n",
       "</table>\n",
       "<p>1237 rows × 7 columns</p>\n",
       "</div>"
      ],
      "text/plain": [
       "      CADUSD=X_change_in_price  GM_change_in_price  JCI_change_in_price  \\\n",
       "0                    -0.000418            0.099998             0.330002   \n",
       "1                     0.001932            0.230000             0.160000   \n",
       "2                    -0.000607           -0.139999            -0.279999   \n",
       "3                    -0.000238           -0.119999            -0.560001   \n",
       "4                    -0.001081           -0.350002            -0.480000   \n",
       "...                        ...                 ...                  ...   \n",
       "1232                 -0.001776            4.799999            -0.529999   \n",
       "1233                  0.000905           -0.810001            -0.159996   \n",
       "1234                 -0.001072           -0.199997             0.379997   \n",
       "1235                 -0.000866           -0.650002            -0.120003   \n",
       "1236                 -0.002197            0.660000             0.990005   \n",
       "\n",
       "      TM_change_in_price  TRYUSD=X_change_in_price  ^IXIC_change_in_price  \\\n",
       "0              -0.569992                 -0.000812              15.439453   \n",
       "1              -0.309998                 -0.000532              57.250000   \n",
       "2              -1.449997                  0.000039             -39.709961   \n",
       "3               0.059998                  0.000314             -97.479492   \n",
       "4               0.459991                  0.000223             -47.350586   \n",
       "...                  ...                       ...                    ...   \n",
       "1232            0.759995                  0.000026              39.759766   \n",
       "1233            1.400009                 -0.000006            -303.119141   \n",
       "1234           -0.900009                 -0.000013             138.839844   \n",
       "1235            1.570007                 -0.000016             103.119141   \n",
       "1236            4.630005                  0.000004              48.580078   \n",
       "\n",
       "      F_change_in_price  \n",
       "0              0.010000  \n",
       "1              0.090000  \n",
       "2             -0.040000  \n",
       "3             -0.050000  \n",
       "4             -0.120000  \n",
       "...                 ...  \n",
       "1232           0.230000  \n",
       "1233          -0.049999  \n",
       "1234           0.179999  \n",
       "1235          -0.170000  \n",
       "1236           0.300000  \n",
       "\n",
       "[1237 rows x 7 columns]"
      ]
     },
     "execution_count": 3,
     "metadata": {},
     "output_type": "execute_result"
    }
   ],
   "source": [
    "df_change"
   ]
  },
  {
   "cell_type": "markdown",
   "id": "96c4679e-fbbd-4750-9c0b-5b6e6be45358",
   "metadata": {},
   "source": [
    "## Tickers list"
   ]
  },
  {
   "cell_type": "code",
   "execution_count": 4,
   "id": "65ffc6b6-d4ed-40a9-82a8-a0a8423843bf",
   "metadata": {},
   "outputs": [
    {
     "data": {
      "text/plain": [
       "'F'"
      ]
     },
     "execution_count": 4,
     "metadata": {},
     "output_type": "execute_result"
    }
   ],
   "source": [
    "tickers = []\n",
    "for col in df.columns:\n",
    "    if '_RSI' in col:\n",
    "        tickers.append(col.split('_')[0])\n",
    "\n",
    "tickers.pop()"
   ]
  },
  {
   "cell_type": "markdown",
   "id": "4812dc1e-97ab-401d-9c50-baed9ca3db34",
   "metadata": {},
   "source": [
    "## Train - test set"
   ]
  },
  {
   "cell_type": "code",
   "execution_count": 5,
   "id": "828dc84d-4e8b-48d8-a0d5-8fa63749e206",
   "metadata": {},
   "outputs": [],
   "source": [
    "# Train set for cross-validation\n",
    "train = df_change.iloc[:-5].copy()\n",
    "# Test set is saved for the best model\n",
    "test = df_change.iloc[-5:].copy()"
   ]
  },
  {
   "cell_type": "markdown",
   "id": "847137da-8913-493b-b485-1d20c69a64af",
   "metadata": {},
   "source": [
    "## Cross validation for each ticker model"
   ]
  },
  {
   "cell_type": "code",
   "execution_count": 6,
   "id": "4feffaf3-42e5-4807-8356-a7540ee16bd1",
   "metadata": {},
   "outputs": [],
   "source": [
    "## Test\n",
    "df_test = df_change[['F_change_in_price', 'GM_change_in_price']]\n",
    "\n",
    "# Train set for cross-validation\n",
    "train_test = df_test.iloc[:-5].copy()\n",
    "# Test set is saved for the best model\n",
    "test_test = df_test.iloc[-5:].copy()\n",
    "\n",
    "cv = TimeSeriesSplit(10, test_size=5)\n",
    "MSE = np.zeros(40) # Smallest order should be 1\n",
    "\n",
    "for train_index, test_index in cv.split(train_test):\n",
    "    t_tt = train_test.iloc[train_index]\n",
    "    t_ho = train_test.iloc[test_index]\n",
    "    model = VAR(t_tt)\n",
    "    for i in range(1, 41):\n",
    "        var_model = model.fit(i)\n",
    "        pred = var_model.forecast(t_tt[-i:].values, steps=5)\n",
    "        MSE[i - 1] = np.sqrt(mean_squared_error(t_ho['F_change_in_price'].values, pred[:, 0]))\n",
    "\n",
    "order_optimal = np.argmin(MSE) + 1"
   ]
  },
  {
   "cell_type": "code",
   "execution_count": 7,
   "id": "b0231248-d084-40ef-b0ed-7255056e0fa2",
   "metadata": {},
   "outputs": [
    {
     "data": {
      "text/plain": [
       "array([0.13739331, 0.13458652, 0.13366308, 0.12661237, 0.12812163,\n",
       "       0.12954037, 0.12711169, 0.12143149, 0.12191102, 0.12018846,\n",
       "       0.11872364, 0.11582741, 0.116997  , 0.12224228, 0.11686215,\n",
       "       0.11724692, 0.13767682, 0.13759634, 0.12031377, 0.12560544,\n",
       "       0.12594169, 0.12461681, 0.13660581, 0.13837208, 0.14369521,\n",
       "       0.1428337 , 0.14319373, 0.13815179, 0.13867744, 0.13178538,\n",
       "       0.13647811, 0.13568821, 0.13197315, 0.1315245 , 0.13030578,\n",
       "       0.1193876 , 0.14046661, 0.14534909, 0.16048401, 0.16014163])"
      ]
     },
     "execution_count": 7,
     "metadata": {},
     "output_type": "execute_result"
    }
   ],
   "source": [
    "MSE"
   ]
  },
  {
   "cell_type": "code",
   "execution_count": 8,
   "id": "e2106390-a558-4b4b-9969-dc2d59a8d6a3",
   "metadata": {},
   "outputs": [
    {
     "data": {
      "text/plain": [
       "np.int64(12)"
      ]
     },
     "execution_count": 8,
     "metadata": {},
     "output_type": "execute_result"
    }
   ],
   "source": [
    "order_optimal"
   ]
  },
  {
   "cell_type": "code",
   "execution_count": 9,
   "id": "78ca8e32-0fec-48c6-899b-fc9a4a22b3c5",
   "metadata": {},
   "outputs": [],
   "source": [
    "def best_VAR(train, forecast_length = 5):\n",
    "    cv = TimeSeriesSplit(10, test_size=forecast_length)\n",
    "    MSE = np.zeros(40) # Smallest order should be 1\n",
    "\n",
    "    for train_index, test_index in cv.split(train):\n",
    "        t_tt = train.iloc[train_index]\n",
    "        t_ho = train.iloc[test_index]\n",
    "        model = VAR(t_tt)\n",
    "        for i in range(1, 41):\n",
    "            var_model = model.fit(i)\n",
    "            pred = var_model.forecast(t_tt[-i:].values, steps=forecast_length)\n",
    "            MSE[i - 1] = np.sqrt(mean_squared_error(t_ho['F_change_in_price'].values, pred[:, 0]))\n",
    "    \n",
    "    order_optimal = np.argmin(MSE) + 1\n",
    "    return order_optimal"
   ]
  },
  {
   "cell_type": "code",
   "execution_count": 10,
   "id": "e3077360-39b9-4f16-9c16-9beb8aa0a23a",
   "metadata": {},
   "outputs": [
    {
     "data": {
      "text/html": [
       "<div>\n",
       "<style scoped>\n",
       "    .dataframe tbody tr th:only-of-type {\n",
       "        vertical-align: middle;\n",
       "    }\n",
       "\n",
       "    .dataframe tbody tr th {\n",
       "        vertical-align: top;\n",
       "    }\n",
       "\n",
       "    .dataframe thead th {\n",
       "        text-align: right;\n",
       "    }\n",
       "</style>\n",
       "<table border=\"1\" class=\"dataframe\">\n",
       "  <thead>\n",
       "    <tr style=\"text-align: right;\">\n",
       "      <th></th>\n",
       "      <th>CADUSD=X_change_in_price</th>\n",
       "      <th>GM_change_in_price</th>\n",
       "      <th>JCI_change_in_price</th>\n",
       "      <th>TM_change_in_price</th>\n",
       "      <th>TRYUSD=X_change_in_price</th>\n",
       "      <th>^IXIC_change_in_price</th>\n",
       "      <th>F_change_in_price</th>\n",
       "    </tr>\n",
       "  </thead>\n",
       "  <tbody>\n",
       "    <tr>\n",
       "      <th>0</th>\n",
       "      <td>-0.000418</td>\n",
       "      <td>0.099998</td>\n",
       "      <td>0.330002</td>\n",
       "      <td>-0.569992</td>\n",
       "      <td>-0.000812</td>\n",
       "      <td>15.439453</td>\n",
       "      <td>0.010000</td>\n",
       "    </tr>\n",
       "    <tr>\n",
       "      <th>1</th>\n",
       "      <td>0.001932</td>\n",
       "      <td>0.230000</td>\n",
       "      <td>0.160000</td>\n",
       "      <td>-0.309998</td>\n",
       "      <td>-0.000532</td>\n",
       "      <td>57.250000</td>\n",
       "      <td>0.090000</td>\n",
       "    </tr>\n",
       "    <tr>\n",
       "      <th>2</th>\n",
       "      <td>-0.000607</td>\n",
       "      <td>-0.139999</td>\n",
       "      <td>-0.279999</td>\n",
       "      <td>-1.449997</td>\n",
       "      <td>0.000039</td>\n",
       "      <td>-39.709961</td>\n",
       "      <td>-0.040000</td>\n",
       "    </tr>\n",
       "    <tr>\n",
       "      <th>3</th>\n",
       "      <td>-0.000238</td>\n",
       "      <td>-0.119999</td>\n",
       "      <td>-0.560001</td>\n",
       "      <td>0.059998</td>\n",
       "      <td>0.000314</td>\n",
       "      <td>-97.479492</td>\n",
       "      <td>-0.050000</td>\n",
       "    </tr>\n",
       "    <tr>\n",
       "      <th>4</th>\n",
       "      <td>-0.001081</td>\n",
       "      <td>-0.350002</td>\n",
       "      <td>-0.480000</td>\n",
       "      <td>0.459991</td>\n",
       "      <td>0.000223</td>\n",
       "      <td>-47.350586</td>\n",
       "      <td>-0.120000</td>\n",
       "    </tr>\n",
       "    <tr>\n",
       "      <th>...</th>\n",
       "      <td>...</td>\n",
       "      <td>...</td>\n",
       "      <td>...</td>\n",
       "      <td>...</td>\n",
       "      <td>...</td>\n",
       "      <td>...</td>\n",
       "      <td>...</td>\n",
       "    </tr>\n",
       "    <tr>\n",
       "      <th>1227</th>\n",
       "      <td>-0.001141</td>\n",
       "      <td>-0.780003</td>\n",
       "      <td>-1.080002</td>\n",
       "      <td>-5.550003</td>\n",
       "      <td>0.000020</td>\n",
       "      <td>-187.099609</td>\n",
       "      <td>-0.080000</td>\n",
       "    </tr>\n",
       "    <tr>\n",
       "      <th>1228</th>\n",
       "      <td>0.001146</td>\n",
       "      <td>1.160000</td>\n",
       "      <td>-0.209999</td>\n",
       "      <td>1.949997</td>\n",
       "      <td>0.000049</td>\n",
       "      <td>51.490234</td>\n",
       "      <td>0.190000</td>\n",
       "    </tr>\n",
       "    <tr>\n",
       "      <th>1229</th>\n",
       "      <td>0.001377</td>\n",
       "      <td>0.370003</td>\n",
       "      <td>0.860001</td>\n",
       "      <td>-0.300003</td>\n",
       "      <td>0.000026</td>\n",
       "      <td>6.529297</td>\n",
       "      <td>0.040000</td>\n",
       "    </tr>\n",
       "    <tr>\n",
       "      <th>1230</th>\n",
       "      <td>-0.002145</td>\n",
       "      <td>-0.200001</td>\n",
       "      <td>0.190002</td>\n",
       "      <td>0.330002</td>\n",
       "      <td>-0.000024</td>\n",
       "      <td>115.941406</td>\n",
       "      <td>0.030001</td>\n",
       "    </tr>\n",
       "    <tr>\n",
       "      <th>1231</th>\n",
       "      <td>-0.000205</td>\n",
       "      <td>-0.250000</td>\n",
       "      <td>-0.270004</td>\n",
       "      <td>-2.360001</td>\n",
       "      <td>-0.000072</td>\n",
       "      <td>50.458984</td>\n",
       "      <td>-0.220000</td>\n",
       "    </tr>\n",
       "  </tbody>\n",
       "</table>\n",
       "<p>1232 rows × 7 columns</p>\n",
       "</div>"
      ],
      "text/plain": [
       "      CADUSD=X_change_in_price  GM_change_in_price  JCI_change_in_price  \\\n",
       "0                    -0.000418            0.099998             0.330002   \n",
       "1                     0.001932            0.230000             0.160000   \n",
       "2                    -0.000607           -0.139999            -0.279999   \n",
       "3                    -0.000238           -0.119999            -0.560001   \n",
       "4                    -0.001081           -0.350002            -0.480000   \n",
       "...                        ...                 ...                  ...   \n",
       "1227                 -0.001141           -0.780003            -1.080002   \n",
       "1228                  0.001146            1.160000            -0.209999   \n",
       "1229                  0.001377            0.370003             0.860001   \n",
       "1230                 -0.002145           -0.200001             0.190002   \n",
       "1231                 -0.000205           -0.250000            -0.270004   \n",
       "\n",
       "      TM_change_in_price  TRYUSD=X_change_in_price  ^IXIC_change_in_price  \\\n",
       "0              -0.569992                 -0.000812              15.439453   \n",
       "1              -0.309998                 -0.000532              57.250000   \n",
       "2              -1.449997                  0.000039             -39.709961   \n",
       "3               0.059998                  0.000314             -97.479492   \n",
       "4               0.459991                  0.000223             -47.350586   \n",
       "...                  ...                       ...                    ...   \n",
       "1227           -5.550003                  0.000020            -187.099609   \n",
       "1228            1.949997                  0.000049              51.490234   \n",
       "1229           -0.300003                  0.000026               6.529297   \n",
       "1230            0.330002                 -0.000024             115.941406   \n",
       "1231           -2.360001                 -0.000072              50.458984   \n",
       "\n",
       "      F_change_in_price  \n",
       "0              0.010000  \n",
       "1              0.090000  \n",
       "2             -0.040000  \n",
       "3             -0.050000  \n",
       "4             -0.120000  \n",
       "...                 ...  \n",
       "1227          -0.080000  \n",
       "1228           0.190000  \n",
       "1229           0.040000  \n",
       "1230           0.030001  \n",
       "1231          -0.220000  \n",
       "\n",
       "[1232 rows x 7 columns]"
      ]
     },
     "execution_count": 10,
     "metadata": {},
     "output_type": "execute_result"
    }
   ],
   "source": [
    "train"
   ]
  },
  {
   "cell_type": "code",
   "execution_count": 11,
   "id": "c1526da1-b90a-468b-a3ce-d21611b43120",
   "metadata": {},
   "outputs": [
    {
     "data": {
      "text/plain": [
       "array([0., 0., 0., 0., 0., 0.])"
      ]
     },
     "execution_count": 11,
     "metadata": {},
     "output_type": "execute_result"
    }
   ],
   "source": [
    "order_optimal = np.zeros(len(tickers))\n",
    "order_optimal"
   ]
  },
  {
   "cell_type": "code",
   "execution_count": 12,
   "id": "8e6278e8-4386-4dff-97e6-8f6bdf24d049",
   "metadata": {},
   "outputs": [
    {
     "data": {
      "text/plain": [
       "array([0., 0., 0., 0., 0., 0.])"
      ]
     },
     "execution_count": 12,
     "metadata": {},
     "output_type": "execute_result"
    }
   ],
   "source": [
    "order_optimal"
   ]
  },
  {
   "cell_type": "markdown",
   "id": "35c3f76e-808f-4639-8df7-386fe1c896e2",
   "metadata": {},
   "source": [
    "## Compute optimal lag"
   ]
  },
  {
   "cell_type": "code",
   "execution_count": 13,
   "id": "e6a449f5-1d23-4cf1-8eff-974bbfdf9c7c",
   "metadata": {},
   "outputs": [
    {
     "data": {
      "text/html": [
       "<div>\n",
       "<style scoped>\n",
       "    .dataframe tbody tr th:only-of-type {\n",
       "        vertical-align: middle;\n",
       "    }\n",
       "\n",
       "    .dataframe tbody tr th {\n",
       "        vertical-align: top;\n",
       "    }\n",
       "\n",
       "    .dataframe thead th {\n",
       "        text-align: right;\n",
       "    }\n",
       "</style>\n",
       "<table border=\"1\" class=\"dataframe\">\n",
       "  <thead>\n",
       "    <tr style=\"text-align: right;\">\n",
       "      <th></th>\n",
       "      <th>Ticker</th>\n",
       "      <th>Optimal order</th>\n",
       "      <th>Accuracy</th>\n",
       "    </tr>\n",
       "  </thead>\n",
       "  <tbody>\n",
       "  </tbody>\n",
       "</table>\n",
       "</div>"
      ],
      "text/plain": [
       "Empty DataFrame\n",
       "Columns: [Ticker, Optimal order, Accuracy]\n",
       "Index: []"
      ]
     },
     "execution_count": 13,
     "metadata": {},
     "output_type": "execute_result"
    }
   ],
   "source": [
    "c = ['Ticker', 'Optimal order', 'Accuracy']\n",
    "accuracy = pd.DataFrame(columns=c)\n",
    "accuracy"
   ]
  },
  {
   "cell_type": "code",
   "execution_count": 14,
   "id": "0cdac5ef-8ecf-4a47-956d-30779f403185",
   "metadata": {
    "scrolled": true
   },
   "outputs": [
    {
     "data": {
      "text/html": [
       "<div>\n",
       "<style scoped>\n",
       "    .dataframe tbody tr th:only-of-type {\n",
       "        vertical-align: middle;\n",
       "    }\n",
       "\n",
       "    .dataframe tbody tr th {\n",
       "        vertical-align: top;\n",
       "    }\n",
       "\n",
       "    .dataframe thead th {\n",
       "        text-align: right;\n",
       "    }\n",
       "</style>\n",
       "<table border=\"1\" class=\"dataframe\">\n",
       "  <thead>\n",
       "    <tr style=\"text-align: right;\">\n",
       "      <th></th>\n",
       "      <th>Ticker</th>\n",
       "      <th>Optimal order</th>\n",
       "      <th>Accuracy</th>\n",
       "    </tr>\n",
       "  </thead>\n",
       "  <tbody>\n",
       "    <tr>\n",
       "      <th>0</th>\n",
       "      <td>CADUSD=X</td>\n",
       "      <td>NaN</td>\n",
       "      <td>NaN</td>\n",
       "    </tr>\n",
       "    <tr>\n",
       "      <th>1</th>\n",
       "      <td>GM</td>\n",
       "      <td>NaN</td>\n",
       "      <td>NaN</td>\n",
       "    </tr>\n",
       "    <tr>\n",
       "      <th>2</th>\n",
       "      <td>JCI</td>\n",
       "      <td>NaN</td>\n",
       "      <td>NaN</td>\n",
       "    </tr>\n",
       "    <tr>\n",
       "      <th>3</th>\n",
       "      <td>TM</td>\n",
       "      <td>NaN</td>\n",
       "      <td>NaN</td>\n",
       "    </tr>\n",
       "    <tr>\n",
       "      <th>4</th>\n",
       "      <td>TRYUSD=X</td>\n",
       "      <td>NaN</td>\n",
       "      <td>NaN</td>\n",
       "    </tr>\n",
       "    <tr>\n",
       "      <th>5</th>\n",
       "      <td>^IXIC</td>\n",
       "      <td>NaN</td>\n",
       "      <td>NaN</td>\n",
       "    </tr>\n",
       "  </tbody>\n",
       "</table>\n",
       "</div>"
      ],
      "text/plain": [
       "     Ticker Optimal order Accuracy\n",
       "0  CADUSD=X           NaN      NaN\n",
       "1        GM           NaN      NaN\n",
       "2       JCI           NaN      NaN\n",
       "3        TM           NaN      NaN\n",
       "4  TRYUSD=X           NaN      NaN\n",
       "5     ^IXIC           NaN      NaN"
      ]
     },
     "execution_count": 14,
     "metadata": {},
     "output_type": "execute_result"
    }
   ],
   "source": [
    "for i, t in enumerate(tickers):\n",
    "    accuracy.loc[i, 'Ticker'] = t.split('_')[0]\n",
    "\n",
    "accuracy"
   ]
  },
  {
   "cell_type": "code",
   "execution_count": null,
   "id": "05820391-8320-47fd-8e23-121cd4f149ca",
   "metadata": {},
   "outputs": [],
   "source": [
    "for i in range(len(change_in_price_cols) - 1):\n",
    "    tr_set = train[[change_in_price_cols[-1], change_in_price_cols[i]]]\n",
    "    accuracy.loc[i, 'Optimal order'] = best_VAR(tr_set, 5)"
   ]
  },
  {
   "cell_type": "code",
   "execution_count": null,
   "id": "b1d6c69d-2c84-4d42-abf3-5d78fd2ea98e",
   "metadata": {},
   "outputs": [],
   "source": [
    "accuracy"
   ]
  },
  {
   "cell_type": "markdown",
   "id": "2ae8f511-a413-4283-9326-97abdd26a2c8",
   "metadata": {},
   "source": [
    "## Compute VAR predictions"
   ]
  },
  {
   "cell_type": "code",
   "execution_count": null,
   "id": "02908fb1-ce67-434f-ad5e-433b62c54e3d",
   "metadata": {},
   "outputs": [],
   "source": [
    "prediction_cols = []\n",
    "for t in tickers:\n",
    "    prediction_cols.append(t + '_VAR')\n",
    "\n",
    "prediction_cols"
   ]
  },
  {
   "cell_type": "code",
   "execution_count": null,
   "id": "add67a4b-373f-4277-9ec7-2695e976e277",
   "metadata": {},
   "outputs": [],
   "source": [
    "predictions = pd.DataFrame(columns=prediction_cols, index=test.index)"
   ]
  },
  {
   "cell_type": "code",
   "execution_count": null,
   "id": "3f8e8aa6-de43-4329-94e2-ff5636f17c87",
   "metadata": {},
   "outputs": [],
   "source": [
    "predictions"
   ]
  },
  {
   "cell_type": "code",
   "execution_count": null,
   "id": "bd79df0c-695e-4a96-adbb-f2469615b623",
   "metadata": {},
   "outputs": [],
   "source": [
    "VAR_change_in_price = predictions.copy()"
   ]
  },
  {
   "cell_type": "code",
   "execution_count": null,
   "id": "f87081ee-96b3-46c9-9db4-512dca1950f4",
   "metadata": {},
   "outputs": [],
   "source": [
    "for i in predictions.index:\n",
    "    print(i)"
   ]
  },
  {
   "cell_type": "code",
   "execution_count": null,
   "id": "58303985-df8c-41cf-a8d8-3e00bf375326",
   "metadata": {},
   "outputs": [],
   "source": [
    "tickers"
   ]
  },
  {
   "cell_type": "code",
   "execution_count": null,
   "id": "f5756ec7-6ccc-4c95-81ec-03422047b08d",
   "metadata": {},
   "outputs": [],
   "source": [
    "accuracy.loc[i, 'Optimal order']"
   ]
  },
  {
   "cell_type": "code",
   "execution_count": null,
   "id": "cc10300d-e187-40f6-8a91-e78e90d2b150",
   "metadata": {},
   "outputs": [],
   "source": [
    "train.iloc[-1, 0]"
   ]
  },
  {
   "cell_type": "code",
   "execution_count": null,
   "id": "0c567077-53bb-439e-ab9e-7e99e0561e6e",
   "metadata": {},
   "outputs": [],
   "source": [
    "for i in range(6):\n",
    "    t = prediction_cols[i]\n",
    "    train_fit = train[[change_in_price_cols[-1], change_in_price_cols[i]]].copy()\n",
    "    model = VAR(train_fit)\n",
    "    k = accuracy.loc[i, 'Optimal order']\n",
    "    results = model.fit(k)\n",
    "    predictions.loc[:, t] = results.forecast(train_fit.values[-k:], steps=5)[:, 0]\n",
    "    if i == 0:\n",
    "        VAR_change_in_price.loc[i, t] = train.loc[-1, t]"
   ]
  },
  {
   "cell_type": "code",
   "execution_count": null,
   "id": "58027c70-900d-4658-9b2b-a710ae25c88a",
   "metadata": {},
   "outputs": [],
   "source": [
    "predictions"
   ]
  },
  {
   "cell_type": "code",
   "execution_count": null,
   "id": "742bb125-a0ab-4e8a-bee5-ce8d3a38a691",
   "metadata": {},
   "outputs": [],
   "source": [
    "predictions = pd.concat([predictions, test['F_change_in_price']], axis=1)"
   ]
  },
  {
   "cell_type": "code",
   "execution_count": null,
   "id": "3f8c2af6-aa25-44b4-9b41-b13cdc4dd1e7",
   "metadata": {},
   "outputs": [],
   "source": [
    "predictions"
   ]
  },
  {
   "cell_type": "code",
   "execution_count": null,
   "id": "e07b9a57-bae2-41a4-832d-7bafed87ce09",
   "metadata": {},
   "outputs": [],
   "source": [
    "predictions"
   ]
  },
  {
   "cell_type": "code",
   "execution_count": null,
   "id": "be500425-96b5-457b-957c-fa92c3da5fee",
   "metadata": {},
   "outputs": [],
   "source": [
    "df.iloc[-5:]"
   ]
  },
  {
   "cell_type": "markdown",
   "id": "3a009627-6e33-4007-8eec-1cec06a140e4",
   "metadata": {},
   "source": [
    "## Compute F_close from VAR predictions change_in_price"
   ]
  },
  {
   "cell_type": "code",
   "execution_count": null,
   "id": "cb2b4ca1-9734-4687-98c1-2212e3dce02c",
   "metadata": {},
   "outputs": [],
   "source": [
    "df_close = df[['F_Close_pred']].copy()\n",
    "#df_close['VAR'] = df[['F_Close_pred']].copy()\n",
    "df_close[-5:] "
   ]
  },
  {
   "cell_type": "code",
   "execution_count": null,
   "id": "716e5110-7b89-4358-bc33-6d36f39fba9d",
   "metadata": {},
   "outputs": [],
   "source": []
  },
  {
   "cell_type": "code",
   "execution_count": null,
   "id": "aa890c6d-49fd-40f0-9e53-8ac32c8c5a6a",
   "metadata": {},
   "outputs": [],
   "source": [
    "predictions.loc[1, 'F_change_in_price']"
   ]
  },
  {
   "cell_type": "code",
   "execution_count": null,
   "id": "da3464e7-c97c-4ef3-a2e9-d96334556eaa",
   "metadata": {},
   "outputs": [],
   "source": [
    "df_close.iloc[-5:] "
   ]
  },
  {
   "cell_type": "code",
   "execution_count": null,
   "id": "2f40064b-0a35-4e74-8ff9-475a8d968f55",
   "metadata": {},
   "outputs": [],
   "source": [
    "forecast = []"
   ]
  },
  {
   "cell_type": "code",
   "execution_count": null,
   "id": "69096694-50b8-413f-9f4d-219c080481bc",
   "metadata": {},
   "outputs": [],
   "source": [
    "for i in predictions.index:\n",
    "    forecast.append(df_close[i - 1] + )"
   ]
  },
  {
   "cell_type": "code",
   "execution_count": null,
   "id": "51ade454-fc4f-41a4-8a7e-5cd47c7846f4",
   "metadata": {},
   "outputs": [],
   "source": [
    "for t in prediction_cols:\n",
    "    for i in VAR_change_in_price.index:\n",
    "        if i == 1232:\n",
    "        VAR_change_in_price[i] =\n",
    "for i in VAR_change_in_price.index:\n",
    "    "
   ]
  }
 ],
 "metadata": {
  "kernelspec": {
   "display_name": "equity_vs_commodity",
   "language": "python",
   "name": "equity_vs_commodity"
  },
  "language_info": {
   "codemirror_mode": {
    "name": "ipython",
    "version": 3
   },
   "file_extension": ".py",
   "mimetype": "text/x-python",
   "name": "python",
   "nbconvert_exporter": "python",
   "pygments_lexer": "ipython3",
   "version": "3.12.6"
  }
 },
 "nbformat": 4,
 "nbformat_minor": 5
}

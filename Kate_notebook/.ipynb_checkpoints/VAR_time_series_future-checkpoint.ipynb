{
 "cells": [
  {
   "cell_type": "markdown",
   "id": "7028ce41-4663-4cde-96c1-b1da9f672e0c",
   "metadata": {},
   "source": [
    "# Implement VAR to yahoo finance Week 2"
   ]
  },
  {
   "cell_type": "code",
   "execution_count": 1,
   "id": "f6ca768b-3e07-4f45-819e-a5caee5ba34b",
   "metadata": {},
   "outputs": [],
   "source": [
    "import pandas as pd\n",
    "import numpy as np\n",
    "\n",
    "## Plotting\n",
    "import matplotlib.pyplot as plt\n",
    "import seaborn as sns\n",
    "\n",
    "from datetime import datetime\n",
    "from sklearn.metrics import mean_squared_error\n",
    "\n",
    "from statsmodels.tsa.api import VAR\n",
    "from statsmodels.tsa.stattools import acf, pacf, grangercausalitytests\n",
    "from statsmodels.tsa.statespace.varmax import VARMAX\n",
    "\n",
    "## Import TimeSeriesSplit\n",
    "from sklearn.model_selection import TimeSeriesSplit\n",
    "from sklearn.preprocessing import StandardScaler\n",
    "\n",
    "import yfinance as yf\n",
    "\n",
    "from statsmodels.tsa.stattools import adfuller\n",
    "from statsmodels.tsa.stattools import kpss"
   ]
  },
  {
   "cell_type": "markdown",
   "id": "b86e4bd7-b995-488d-bc1e-41157ce6e735",
   "metadata": {},
   "source": [
    "## def of prediction_class"
   ]
  },
  {
   "cell_type": "code",
   "execution_count": 2,
   "id": "8fb591c4-1fad-4594-9394-afd7c1e4e915",
   "metadata": {},
   "outputs": [],
   "source": [
    "def prediction_class(df):\n",
    "    df['Prediction'] = np.where(df['Close'] < df['Close'].shift(-1), 1, 0)\n",
    "    return df"
   ]
  },
  {
   "cell_type": "markdown",
   "id": "67a1468a-0617-4566-9a88-92a24d9a9cdf",
   "metadata": {},
   "source": [
    "## Import from Yahoo Finance"
   ]
  },
  {
   "cell_type": "code",
   "execution_count": 3,
   "id": "704218d3-f9f8-4bca-b5b2-ed67c762e50d",
   "metadata": {},
   "outputs": [
    {
     "name": "stderr",
     "output_type": "stream",
     "text": [
      "[*********************100%***********************]  1 of 1 completed\n"
     ]
    }
   ],
   "source": [
    "Ford = yf.download('F', period=\"3mo\")"
   ]
  },
  {
   "cell_type": "code",
   "execution_count": 4,
   "id": "06e01a30-66da-4fc6-abd9-0166bc7e5f6f",
   "metadata": {},
   "outputs": [
    {
     "data": {
      "text/html": [
       "<div>\n",
       "<style scoped>\n",
       "    .dataframe tbody tr th:only-of-type {\n",
       "        vertical-align: middle;\n",
       "    }\n",
       "\n",
       "    .dataframe tbody tr th {\n",
       "        vertical-align: top;\n",
       "    }\n",
       "\n",
       "    .dataframe thead th {\n",
       "        text-align: right;\n",
       "    }\n",
       "</style>\n",
       "<table border=\"1\" class=\"dataframe\">\n",
       "  <thead>\n",
       "    <tr style=\"text-align: right;\">\n",
       "      <th></th>\n",
       "      <th>Open</th>\n",
       "      <th>High</th>\n",
       "      <th>Low</th>\n",
       "      <th>Close</th>\n",
       "      <th>Adj Close</th>\n",
       "      <th>Volume</th>\n",
       "      <th>change_in_price</th>\n",
       "    </tr>\n",
       "    <tr>\n",
       "      <th>Date</th>\n",
       "      <th></th>\n",
       "      <th></th>\n",
       "      <th></th>\n",
       "      <th></th>\n",
       "      <th></th>\n",
       "      <th></th>\n",
       "      <th></th>\n",
       "    </tr>\n",
       "  </thead>\n",
       "  <tbody>\n",
       "    <tr>\n",
       "      <th>2024-08-16</th>\n",
       "      <td>10.40</td>\n",
       "      <td>10.52</td>\n",
       "      <td>10.37</td>\n",
       "      <td>10.51</td>\n",
       "      <td>10.369115</td>\n",
       "      <td>34142600</td>\n",
       "      <td>NaN</td>\n",
       "    </tr>\n",
       "    <tr>\n",
       "      <th>2024-08-19</th>\n",
       "      <td>10.56</td>\n",
       "      <td>10.75</td>\n",
       "      <td>10.54</td>\n",
       "      <td>10.72</td>\n",
       "      <td>10.576301</td>\n",
       "      <td>41066300</td>\n",
       "      <td>0.210000</td>\n",
       "    </tr>\n",
       "    <tr>\n",
       "      <th>2024-08-20</th>\n",
       "      <td>10.70</td>\n",
       "      <td>10.79</td>\n",
       "      <td>10.61</td>\n",
       "      <td>10.68</td>\n",
       "      <td>10.536837</td>\n",
       "      <td>32468000</td>\n",
       "      <td>-0.040000</td>\n",
       "    </tr>\n",
       "    <tr>\n",
       "      <th>2024-08-21</th>\n",
       "      <td>10.84</td>\n",
       "      <td>10.97</td>\n",
       "      <td>10.75</td>\n",
       "      <td>10.85</td>\n",
       "      <td>10.704557</td>\n",
       "      <td>48943900</td>\n",
       "      <td>0.170000</td>\n",
       "    </tr>\n",
       "    <tr>\n",
       "      <th>2024-08-22</th>\n",
       "      <td>10.85</td>\n",
       "      <td>11.01</td>\n",
       "      <td>10.84</td>\n",
       "      <td>10.92</td>\n",
       "      <td>10.773619</td>\n",
       "      <td>50885400</td>\n",
       "      <td>0.070000</td>\n",
       "    </tr>\n",
       "    <tr>\n",
       "      <th>...</th>\n",
       "      <td>...</td>\n",
       "      <td>...</td>\n",
       "      <td>...</td>\n",
       "      <td>...</td>\n",
       "      <td>...</td>\n",
       "      <td>...</td>\n",
       "      <td>...</td>\n",
       "    </tr>\n",
       "    <tr>\n",
       "      <th>2024-11-11</th>\n",
       "      <td>11.07</td>\n",
       "      <td>11.32</td>\n",
       "      <td>11.02</td>\n",
       "      <td>11.23</td>\n",
       "      <td>11.230000</td>\n",
       "      <td>56630500</td>\n",
       "      <td>0.259999</td>\n",
       "    </tr>\n",
       "    <tr>\n",
       "      <th>2024-11-12</th>\n",
       "      <td>11.14</td>\n",
       "      <td>11.30</td>\n",
       "      <td>10.95</td>\n",
       "      <td>11.10</td>\n",
       "      <td>11.100000</td>\n",
       "      <td>44921400</td>\n",
       "      <td>-0.129999</td>\n",
       "    </tr>\n",
       "    <tr>\n",
       "      <th>2024-11-13</th>\n",
       "      <td>11.12</td>\n",
       "      <td>11.17</td>\n",
       "      <td>11.02</td>\n",
       "      <td>11.10</td>\n",
       "      <td>11.100000</td>\n",
       "      <td>55150900</td>\n",
       "      <td>0.000000</td>\n",
       "    </tr>\n",
       "    <tr>\n",
       "      <th>2024-11-14</th>\n",
       "      <td>11.13</td>\n",
       "      <td>11.23</td>\n",
       "      <td>11.02</td>\n",
       "      <td>11.07</td>\n",
       "      <td>11.070000</td>\n",
       "      <td>56780900</td>\n",
       "      <td>-0.030001</td>\n",
       "    </tr>\n",
       "    <tr>\n",
       "      <th>2024-11-15</th>\n",
       "      <td>11.05</td>\n",
       "      <td>11.15</td>\n",
       "      <td>10.98</td>\n",
       "      <td>11.01</td>\n",
       "      <td>11.010000</td>\n",
       "      <td>58857800</td>\n",
       "      <td>-0.059999</td>\n",
       "    </tr>\n",
       "  </tbody>\n",
       "</table>\n",
       "<p>65 rows × 7 columns</p>\n",
       "</div>"
      ],
      "text/plain": [
       "             Open   High    Low  Close  Adj Close    Volume  change_in_price\n",
       "Date                                                                        \n",
       "2024-08-16  10.40  10.52  10.37  10.51  10.369115  34142600              NaN\n",
       "2024-08-19  10.56  10.75  10.54  10.72  10.576301  41066300         0.210000\n",
       "2024-08-20  10.70  10.79  10.61  10.68  10.536837  32468000        -0.040000\n",
       "2024-08-21  10.84  10.97  10.75  10.85  10.704557  48943900         0.170000\n",
       "2024-08-22  10.85  11.01  10.84  10.92  10.773619  50885400         0.070000\n",
       "...           ...    ...    ...    ...        ...       ...              ...\n",
       "2024-11-11  11.07  11.32  11.02  11.23  11.230000  56630500         0.259999\n",
       "2024-11-12  11.14  11.30  10.95  11.10  11.100000  44921400        -0.129999\n",
       "2024-11-13  11.12  11.17  11.02  11.10  11.100000  55150900         0.000000\n",
       "2024-11-14  11.13  11.23  11.02  11.07  11.070000  56780900        -0.030001\n",
       "2024-11-15  11.05  11.15  10.98  11.01  11.010000  58857800        -0.059999\n",
       "\n",
       "[65 rows x 7 columns]"
      ]
     },
     "execution_count": 4,
     "metadata": {},
     "output_type": "execute_result"
    }
   ],
   "source": [
    "Ford['change_in_price'] = Ford['Close'].diff()\n",
    "Ford"
   ]
  },
  {
   "cell_type": "code",
   "execution_count": 5,
   "id": "4de35dab-2679-489c-a79b-5e6618891bd8",
   "metadata": {},
   "outputs": [
    {
     "name": "stderr",
     "output_type": "stream",
     "text": [
      "[*********************100%***********************]  1 of 1 completed\n"
     ]
    }
   ],
   "source": [
    "Toyota = yf.download('TM', period=\"3mo\")\n",
    "Toyota['change_in_price'] = Toyota['Close'].diff()"
   ]
  },
  {
   "cell_type": "markdown",
   "id": "d9769575-54b5-4037-8ba3-3aec57493a27",
   "metadata": {},
   "source": [
    "## Split the data"
   ]
  },
  {
   "cell_type": "code",
   "execution_count": 6,
   "id": "6ae5a9e5-11ab-494e-b9a9-e2475381caa5",
   "metadata": {},
   "outputs": [],
   "source": [
    "#df_F_test = Ford[-5:].copy()\n",
    "#df_F_test"
   ]
  },
  {
   "cell_type": "code",
   "execution_count": 7,
   "id": "a214bdd5-992f-437b-9853-c8c2dcb7c9a4",
   "metadata": {},
   "outputs": [],
   "source": [
    "df = pd.concat([Ford['change_in_price'], Toyota['change_in_price']], axis = 1)"
   ]
  },
  {
   "cell_type": "code",
   "execution_count": 8,
   "id": "77c88b3e-dcf6-4983-9d0d-fa341746554d",
   "metadata": {},
   "outputs": [],
   "source": [
    "df.columns = ['F_change_in_price', 'TM_change_in_price']"
   ]
  },
  {
   "cell_type": "code",
   "execution_count": 9,
   "id": "89d6cb45-ec0a-4c06-b189-ae877aa02f7b",
   "metadata": {},
   "outputs": [
    {
     "data": {
      "text/html": [
       "<div>\n",
       "<style scoped>\n",
       "    .dataframe tbody tr th:only-of-type {\n",
       "        vertical-align: middle;\n",
       "    }\n",
       "\n",
       "    .dataframe tbody tr th {\n",
       "        vertical-align: top;\n",
       "    }\n",
       "\n",
       "    .dataframe thead th {\n",
       "        text-align: right;\n",
       "    }\n",
       "</style>\n",
       "<table border=\"1\" class=\"dataframe\">\n",
       "  <thead>\n",
       "    <tr style=\"text-align: right;\">\n",
       "      <th></th>\n",
       "      <th>F_change_in_price</th>\n",
       "      <th>TM_change_in_price</th>\n",
       "    </tr>\n",
       "    <tr>\n",
       "      <th>Date</th>\n",
       "      <th></th>\n",
       "      <th></th>\n",
       "    </tr>\n",
       "  </thead>\n",
       "  <tbody>\n",
       "    <tr>\n",
       "      <th>2024-08-16</th>\n",
       "      <td>NaN</td>\n",
       "      <td>NaN</td>\n",
       "    </tr>\n",
       "    <tr>\n",
       "      <th>2024-08-19</th>\n",
       "      <td>0.210000</td>\n",
       "      <td>1.029999</td>\n",
       "    </tr>\n",
       "    <tr>\n",
       "      <th>2024-08-20</th>\n",
       "      <td>-0.040000</td>\n",
       "      <td>-2.360001</td>\n",
       "    </tr>\n",
       "    <tr>\n",
       "      <th>2024-08-21</th>\n",
       "      <td>0.170000</td>\n",
       "      <td>2.279999</td>\n",
       "    </tr>\n",
       "    <tr>\n",
       "      <th>2024-08-22</th>\n",
       "      <td>0.070000</td>\n",
       "      <td>-2.119995</td>\n",
       "    </tr>\n",
       "    <tr>\n",
       "      <th>...</th>\n",
       "      <td>...</td>\n",
       "      <td>...</td>\n",
       "    </tr>\n",
       "    <tr>\n",
       "      <th>2024-11-11</th>\n",
       "      <td>0.259999</td>\n",
       "      <td>2.070007</td>\n",
       "    </tr>\n",
       "    <tr>\n",
       "      <th>2024-11-12</th>\n",
       "      <td>-0.129999</td>\n",
       "      <td>0.889999</td>\n",
       "    </tr>\n",
       "    <tr>\n",
       "      <th>2024-11-13</th>\n",
       "      <td>0.000000</td>\n",
       "      <td>-2.639999</td>\n",
       "    </tr>\n",
       "    <tr>\n",
       "      <th>2024-11-14</th>\n",
       "      <td>-0.030001</td>\n",
       "      <td>1.129990</td>\n",
       "    </tr>\n",
       "    <tr>\n",
       "      <th>2024-11-15</th>\n",
       "      <td>-0.059999</td>\n",
       "      <td>-0.639999</td>\n",
       "    </tr>\n",
       "  </tbody>\n",
       "</table>\n",
       "<p>65 rows × 2 columns</p>\n",
       "</div>"
      ],
      "text/plain": [
       "            F_change_in_price  TM_change_in_price\n",
       "Date                                             \n",
       "2024-08-16                NaN                 NaN\n",
       "2024-08-19           0.210000            1.029999\n",
       "2024-08-20          -0.040000           -2.360001\n",
       "2024-08-21           0.170000            2.279999\n",
       "2024-08-22           0.070000           -2.119995\n",
       "...                       ...                 ...\n",
       "2024-11-11           0.259999            2.070007\n",
       "2024-11-12          -0.129999            0.889999\n",
       "2024-11-13           0.000000           -2.639999\n",
       "2024-11-14          -0.030001            1.129990\n",
       "2024-11-15          -0.059999           -0.639999\n",
       "\n",
       "[65 rows x 2 columns]"
      ]
     },
     "execution_count": 9,
     "metadata": {},
     "output_type": "execute_result"
    }
   ],
   "source": [
    "df"
   ]
  },
  {
   "cell_type": "markdown",
   "id": "d59ff60d-d6c8-46c1-a4a4-b8ea6cddb02f",
   "metadata": {},
   "source": [
    "## Apply VAR model"
   ]
  },
  {
   "cell_type": "code",
   "execution_count": 10,
   "id": "bdc024d6-6eec-43c9-9a4d-bbc4fed97218",
   "metadata": {},
   "outputs": [
    {
     "name": "stderr",
     "output_type": "stream",
     "text": [
      "C:\\Users\\teres\\anaconda3\\envs\\equity_vs_commodity\\Lib\\site-packages\\statsmodels\\tsa\\base\\tsa_model.py:473: ValueWarning: A date index has been provided, but it has no associated frequency information and so will be ignored when e.g. forecasting.\n",
      "  self._init_dates(dates, freq)\n"
     ]
    }
   ],
   "source": [
    "model = VAR(df.dropna())\n",
    "results = model.fit(22)\n",
    "predictions = results.forecast(df.values[-22:], steps=5)[:, 0]"
   ]
  },
  {
   "cell_type": "code",
   "execution_count": null,
   "id": "176e5f53-daca-4b31-a2bc-791174264265",
   "metadata": {},
   "outputs": [],
   "source": []
  },
  {
   "cell_type": "code",
   "execution_count": 11,
   "id": "172d2270-000d-41fe-a56f-a1c785729a96",
   "metadata": {},
   "outputs": [
    {
     "data": {
      "text/plain": [
       "array([-0.76014287,  0.26254038,  1.06435679,  0.0798689 , -1.21950835])"
      ]
     },
     "execution_count": 11,
     "metadata": {},
     "output_type": "execute_result"
    }
   ],
   "source": [
    "predictions"
   ]
  },
  {
   "cell_type": "code",
   "execution_count": 12,
   "id": "97abd5d3-39f7-43ad-9ede-7afd166fdfc2",
   "metadata": {},
   "outputs": [],
   "source": [
    "#df_F_test"
   ]
  },
  {
   "cell_type": "code",
   "execution_count": 13,
   "id": "a555b7bb-1d27-4d2d-a567-24189d71c33c",
   "metadata": {},
   "outputs": [],
   "source": [
    "#accuracy_TM = sum(predictions*df_F_test['change_in_price'] > 0)/5"
   ]
  },
  {
   "cell_type": "code",
   "execution_count": 14,
   "id": "1ccfbcaa-be5c-49f5-b5b6-abcf75538cbd",
   "metadata": {},
   "outputs": [],
   "source": [
    "#accuracy_TM"
   ]
  },
  {
   "cell_type": "code",
   "execution_count": null,
   "id": "ccb409b0-2ff3-4fd6-a610-915235186c5a",
   "metadata": {},
   "outputs": [],
   "source": []
  }
 ],
 "metadata": {
  "kernelspec": {
   "display_name": "equity_vs_commodity",
   "language": "python",
   "name": "equity_vs_commodity"
  },
  "language_info": {
   "codemirror_mode": {
    "name": "ipython",
    "version": 3
   },
   "file_extension": ".py",
   "mimetype": "text/x-python",
   "name": "python",
   "nbconvert_exporter": "python",
   "pygments_lexer": "ipython3",
   "version": "3.12.6"
  }
 },
 "nbformat": 4,
 "nbformat_minor": 5
}

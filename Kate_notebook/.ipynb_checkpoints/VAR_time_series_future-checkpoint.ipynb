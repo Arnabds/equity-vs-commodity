{
 "cells": [
  {
   "cell_type": "markdown",
   "id": "7028ce41-4663-4cde-96c1-b1da9f672e0c",
   "metadata": {},
   "source": [
    "# Implement VAR to yahoo finance Week 2"
   ]
  },
  {
   "cell_type": "code",
   "execution_count": 1,
   "id": "f6ca768b-3e07-4f45-819e-a5caee5ba34b",
   "metadata": {},
   "outputs": [],
   "source": [
    "import pandas as pd\n",
    "import numpy as np\n",
    "\n",
    "## Plotting\n",
    "import matplotlib.pyplot as plt\n",
    "import seaborn as sns\n",
    "\n",
    "from datetime import datetime\n",
    "from sklearn.metrics import mean_squared_error\n",
    "\n",
    "from statsmodels.tsa.api import VAR\n",
    "from statsmodels.tsa.stattools import acf, pacf, grangercausalitytests\n",
    "from statsmodels.tsa.statespace.varmax import VARMAX\n",
    "\n",
    "## Import TimeSeriesSplit\n",
    "from sklearn.model_selection import TimeSeriesSplit\n",
    "\n",
    "import yfinance as yf\n",
    "\n",
    "from statsmodels.tsa.stattools import adfuller\n",
    "from statsmodels.tsa.stattools import kpss"
   ]
  },
  {
   "cell_type": "markdown",
   "id": "b86e4bd7-b995-488d-bc1e-41157ce6e735",
   "metadata": {},
   "source": [
    "## def of prediction_class"
   ]
  },
  {
   "cell_type": "code",
   "execution_count": 2,
   "id": "8fb591c4-1fad-4594-9394-afd7c1e4e915",
   "metadata": {},
   "outputs": [],
   "source": [
    "def prediction_class(df):\n",
    "    df['Prediction'] = np.where(df['Close'] < df['Close'].shift(-1), 1, 0)\n",
    "    return df"
   ]
  },
  {
   "cell_type": "markdown",
   "id": "67a1468a-0617-4566-9a88-92a24d9a9cdf",
   "metadata": {},
   "source": [
    "## Import from Yahoo Finance"
   ]
  },
  {
   "cell_type": "code",
   "execution_count": 3,
   "id": "704218d3-f9f8-4bca-b5b2-ed67c762e50d",
   "metadata": {},
   "outputs": [
    {
     "name": "stderr",
     "output_type": "stream",
     "text": [
      "[*********************100%***********************]  1 of 1 completed\n"
     ]
    }
   ],
   "source": [
    "Ford = yf.download('F', period=\"3mo\")"
   ]
  },
  {
   "cell_type": "code",
   "execution_count": 4,
   "id": "06e01a30-66da-4fc6-abd9-0166bc7e5f6f",
   "metadata": {},
   "outputs": [
    {
     "data": {
      "text/html": [
       "<div>\n",
       "<style scoped>\n",
       "    .dataframe tbody tr th:only-of-type {\n",
       "        vertical-align: middle;\n",
       "    }\n",
       "\n",
       "    .dataframe tbody tr th {\n",
       "        vertical-align: top;\n",
       "    }\n",
       "\n",
       "    .dataframe thead th {\n",
       "        text-align: right;\n",
       "    }\n",
       "</style>\n",
       "<table border=\"1\" class=\"dataframe\">\n",
       "  <thead>\n",
       "    <tr style=\"text-align: right;\">\n",
       "      <th></th>\n",
       "      <th>Open</th>\n",
       "      <th>High</th>\n",
       "      <th>Low</th>\n",
       "      <th>Close</th>\n",
       "      <th>Adj Close</th>\n",
       "      <th>Volume</th>\n",
       "      <th>change_in_price</th>\n",
       "    </tr>\n",
       "    <tr>\n",
       "      <th>Date</th>\n",
       "      <th></th>\n",
       "      <th></th>\n",
       "      <th></th>\n",
       "      <th></th>\n",
       "      <th></th>\n",
       "      <th></th>\n",
       "      <th></th>\n",
       "    </tr>\n",
       "  </thead>\n",
       "  <tbody>\n",
       "    <tr>\n",
       "      <th>2024-08-09</th>\n",
       "      <td>10.08</td>\n",
       "      <td>10.17</td>\n",
       "      <td>9.97</td>\n",
       "      <td>10.10</td>\n",
       "      <td>9.964611</td>\n",
       "      <td>48860800</td>\n",
       "      <td>NaN</td>\n",
       "    </tr>\n",
       "    <tr>\n",
       "      <th>2024-08-12</th>\n",
       "      <td>10.10</td>\n",
       "      <td>10.10</td>\n",
       "      <td>9.84</td>\n",
       "      <td>9.86</td>\n",
       "      <td>9.727828</td>\n",
       "      <td>56118700</td>\n",
       "      <td>-0.240001</td>\n",
       "    </tr>\n",
       "    <tr>\n",
       "      <th>2024-08-13</th>\n",
       "      <td>9.92</td>\n",
       "      <td>10.15</td>\n",
       "      <td>9.77</td>\n",
       "      <td>10.14</td>\n",
       "      <td>10.004075</td>\n",
       "      <td>44766100</td>\n",
       "      <td>0.280001</td>\n",
       "    </tr>\n",
       "    <tr>\n",
       "      <th>2024-08-14</th>\n",
       "      <td>10.16</td>\n",
       "      <td>10.24</td>\n",
       "      <td>10.05</td>\n",
       "      <td>10.18</td>\n",
       "      <td>10.043539</td>\n",
       "      <td>37026400</td>\n",
       "      <td>0.040000</td>\n",
       "    </tr>\n",
       "    <tr>\n",
       "      <th>2024-08-15</th>\n",
       "      <td>10.37</td>\n",
       "      <td>10.50</td>\n",
       "      <td>10.37</td>\n",
       "      <td>10.46</td>\n",
       "      <td>10.319785</td>\n",
       "      <td>41597900</td>\n",
       "      <td>0.280000</td>\n",
       "    </tr>\n",
       "    <tr>\n",
       "      <th>...</th>\n",
       "      <td>...</td>\n",
       "      <td>...</td>\n",
       "      <td>...</td>\n",
       "      <td>...</td>\n",
       "      <td>...</td>\n",
       "      <td>...</td>\n",
       "      <td>...</td>\n",
       "    </tr>\n",
       "    <tr>\n",
       "      <th>2024-11-04</th>\n",
       "      <td>10.23</td>\n",
       "      <td>10.57</td>\n",
       "      <td>10.23</td>\n",
       "      <td>10.36</td>\n",
       "      <td>10.221126</td>\n",
       "      <td>55323800</td>\n",
       "      <td>0.139999</td>\n",
       "    </tr>\n",
       "    <tr>\n",
       "      <th>2024-11-05</th>\n",
       "      <td>10.33</td>\n",
       "      <td>10.64</td>\n",
       "      <td>10.30</td>\n",
       "      <td>10.60</td>\n",
       "      <td>10.457909</td>\n",
       "      <td>49309000</td>\n",
       "      <td>0.240001</td>\n",
       "    </tr>\n",
       "    <tr>\n",
       "      <th>2024-11-06</th>\n",
       "      <td>10.95</td>\n",
       "      <td>11.23</td>\n",
       "      <td>10.84</td>\n",
       "      <td>11.19</td>\n",
       "      <td>11.039999</td>\n",
       "      <td>100781800</td>\n",
       "      <td>0.589999</td>\n",
       "    </tr>\n",
       "    <tr>\n",
       "      <th>2024-11-07</th>\n",
       "      <td>11.01</td>\n",
       "      <td>11.11</td>\n",
       "      <td>10.83</td>\n",
       "      <td>10.96</td>\n",
       "      <td>10.960000</td>\n",
       "      <td>55407900</td>\n",
       "      <td>-0.230000</td>\n",
       "    </tr>\n",
       "    <tr>\n",
       "      <th>2024-11-08</th>\n",
       "      <td>10.93</td>\n",
       "      <td>10.97</td>\n",
       "      <td>10.86</td>\n",
       "      <td>10.97</td>\n",
       "      <td>10.970000</td>\n",
       "      <td>45359200</td>\n",
       "      <td>0.010000</td>\n",
       "    </tr>\n",
       "  </tbody>\n",
       "</table>\n",
       "<p>65 rows × 7 columns</p>\n",
       "</div>"
      ],
      "text/plain": [
       "             Open   High    Low  Close  Adj Close     Volume  change_in_price\n",
       "Date                                                                         \n",
       "2024-08-09  10.08  10.17   9.97  10.10   9.964611   48860800              NaN\n",
       "2024-08-12  10.10  10.10   9.84   9.86   9.727828   56118700        -0.240001\n",
       "2024-08-13   9.92  10.15   9.77  10.14  10.004075   44766100         0.280001\n",
       "2024-08-14  10.16  10.24  10.05  10.18  10.043539   37026400         0.040000\n",
       "2024-08-15  10.37  10.50  10.37  10.46  10.319785   41597900         0.280000\n",
       "...           ...    ...    ...    ...        ...        ...              ...\n",
       "2024-11-04  10.23  10.57  10.23  10.36  10.221126   55323800         0.139999\n",
       "2024-11-05  10.33  10.64  10.30  10.60  10.457909   49309000         0.240001\n",
       "2024-11-06  10.95  11.23  10.84  11.19  11.039999  100781800         0.589999\n",
       "2024-11-07  11.01  11.11  10.83  10.96  10.960000   55407900        -0.230000\n",
       "2024-11-08  10.93  10.97  10.86  10.97  10.970000   45359200         0.010000\n",
       "\n",
       "[65 rows x 7 columns]"
      ]
     },
     "execution_count": 4,
     "metadata": {},
     "output_type": "execute_result"
    }
   ],
   "source": [
    "Ford['change_in_price'] = Ford['Close'].diff()\n",
    "Ford"
   ]
  },
  {
   "cell_type": "code",
   "execution_count": 5,
   "id": "4de35dab-2679-489c-a79b-5e6618891bd8",
   "metadata": {},
   "outputs": [
    {
     "name": "stderr",
     "output_type": "stream",
     "text": [
      "[*********************100%***********************]  1 of 1 completed\n"
     ]
    }
   ],
   "source": [
    "Toyota = yf.download('TM', period=\"3mo\")\n",
    "Toyota['change_in_price'] = Toyota['Close'].diff()"
   ]
  },
  {
   "cell_type": "markdown",
   "id": "d9769575-54b5-4037-8ba3-3aec57493a27",
   "metadata": {},
   "source": [
    "## Split the data"
   ]
  },
  {
   "cell_type": "code",
   "execution_count": 6,
   "id": "6ae5a9e5-11ab-494e-b9a9-e2475381caa5",
   "metadata": {},
   "outputs": [],
   "source": [
    "#df_F_test = Ford[-5:].copy()\n",
    "#df_F_test"
   ]
  },
  {
   "cell_type": "code",
   "execution_count": 7,
   "id": "a214bdd5-992f-437b-9853-c8c2dcb7c9a4",
   "metadata": {},
   "outputs": [],
   "source": [
    "df = pd.concat([Ford['change_in_price'], Toyota['change_in_price']], axis = 1)"
   ]
  },
  {
   "cell_type": "code",
   "execution_count": 8,
   "id": "77c88b3e-dcf6-4983-9d0d-fa341746554d",
   "metadata": {},
   "outputs": [],
   "source": [
    "df.columns = ['F_change_in_price', 'TM_change_in_price']"
   ]
  },
  {
   "cell_type": "code",
   "execution_count": 9,
   "id": "89d6cb45-ec0a-4c06-b189-ae877aa02f7b",
   "metadata": {},
   "outputs": [
    {
     "data": {
      "text/html": [
       "<div>\n",
       "<style scoped>\n",
       "    .dataframe tbody tr th:only-of-type {\n",
       "        vertical-align: middle;\n",
       "    }\n",
       "\n",
       "    .dataframe tbody tr th {\n",
       "        vertical-align: top;\n",
       "    }\n",
       "\n",
       "    .dataframe thead th {\n",
       "        text-align: right;\n",
       "    }\n",
       "</style>\n",
       "<table border=\"1\" class=\"dataframe\">\n",
       "  <thead>\n",
       "    <tr style=\"text-align: right;\">\n",
       "      <th></th>\n",
       "      <th>F_change_in_price</th>\n",
       "      <th>TM_change_in_price</th>\n",
       "    </tr>\n",
       "    <tr>\n",
       "      <th>Date</th>\n",
       "      <th></th>\n",
       "      <th></th>\n",
       "    </tr>\n",
       "  </thead>\n",
       "  <tbody>\n",
       "    <tr>\n",
       "      <th>2024-08-09</th>\n",
       "      <td>NaN</td>\n",
       "      <td>NaN</td>\n",
       "    </tr>\n",
       "    <tr>\n",
       "      <th>2024-08-12</th>\n",
       "      <td>-0.240001</td>\n",
       "      <td>-0.619995</td>\n",
       "    </tr>\n",
       "    <tr>\n",
       "      <th>2024-08-13</th>\n",
       "      <td>0.280001</td>\n",
       "      <td>4.419998</td>\n",
       "    </tr>\n",
       "    <tr>\n",
       "      <th>2024-08-14</th>\n",
       "      <td>0.040000</td>\n",
       "      <td>4.619995</td>\n",
       "    </tr>\n",
       "    <tr>\n",
       "      <th>2024-08-15</th>\n",
       "      <td>0.280000</td>\n",
       "      <td>4.779999</td>\n",
       "    </tr>\n",
       "    <tr>\n",
       "      <th>...</th>\n",
       "      <td>...</td>\n",
       "      <td>...</td>\n",
       "    </tr>\n",
       "    <tr>\n",
       "      <th>2024-11-04</th>\n",
       "      <td>0.139999</td>\n",
       "      <td>-0.130005</td>\n",
       "    </tr>\n",
       "    <tr>\n",
       "      <th>2024-11-05</th>\n",
       "      <td>0.240001</td>\n",
       "      <td>2.029999</td>\n",
       "    </tr>\n",
       "    <tr>\n",
       "      <th>2024-11-06</th>\n",
       "      <td>0.589999</td>\n",
       "      <td>0.419998</td>\n",
       "    </tr>\n",
       "    <tr>\n",
       "      <th>2024-11-07</th>\n",
       "      <td>-0.230000</td>\n",
       "      <td>3.300003</td>\n",
       "    </tr>\n",
       "    <tr>\n",
       "      <th>2024-11-08</th>\n",
       "      <td>0.010000</td>\n",
       "      <td>-6.419998</td>\n",
       "    </tr>\n",
       "  </tbody>\n",
       "</table>\n",
       "<p>65 rows × 2 columns</p>\n",
       "</div>"
      ],
      "text/plain": [
       "            F_change_in_price  TM_change_in_price\n",
       "Date                                             \n",
       "2024-08-09                NaN                 NaN\n",
       "2024-08-12          -0.240001           -0.619995\n",
       "2024-08-13           0.280001            4.419998\n",
       "2024-08-14           0.040000            4.619995\n",
       "2024-08-15           0.280000            4.779999\n",
       "...                       ...                 ...\n",
       "2024-11-04           0.139999           -0.130005\n",
       "2024-11-05           0.240001            2.029999\n",
       "2024-11-06           0.589999            0.419998\n",
       "2024-11-07          -0.230000            3.300003\n",
       "2024-11-08           0.010000           -6.419998\n",
       "\n",
       "[65 rows x 2 columns]"
      ]
     },
     "execution_count": 9,
     "metadata": {},
     "output_type": "execute_result"
    }
   ],
   "source": [
    "df"
   ]
  },
  {
   "cell_type": "markdown",
   "id": "d59ff60d-d6c8-46c1-a4a4-b8ea6cddb02f",
   "metadata": {},
   "source": [
    "## Apply VAR model"
   ]
  },
  {
   "cell_type": "code",
   "execution_count": 10,
   "id": "bdc024d6-6eec-43c9-9a4d-bbc4fed97218",
   "metadata": {},
   "outputs": [
    {
     "name": "stderr",
     "output_type": "stream",
     "text": [
      "C:\\Users\\teres\\anaconda3\\envs\\equity_vs_commodity\\Lib\\site-packages\\statsmodels\\tsa\\base\\tsa_model.py:473: ValueWarning: A date index has been provided, but it has no associated frequency information and so will be ignored when e.g. forecasting.\n",
      "  self._init_dates(dates, freq)\n"
     ]
    }
   ],
   "source": [
    "model = VAR(df.dropna())\n",
    "results = model.fit(22)\n",
    "predictions = results.forecast(df.values[-22:], steps=5)[:, 0]"
   ]
  },
  {
   "cell_type": "code",
   "execution_count": null,
   "id": "176e5f53-daca-4b31-a2bc-791174264265",
   "metadata": {},
   "outputs": [],
   "source": []
  },
  {
   "cell_type": "code",
   "execution_count": 11,
   "id": "172d2270-000d-41fe-a56f-a1c785729a96",
   "metadata": {},
   "outputs": [
    {
     "data": {
      "text/plain": [
       "array([ 0.22152799, -0.11808836, -1.06068103, -0.0756956 ,  0.53894765])"
      ]
     },
     "execution_count": 11,
     "metadata": {},
     "output_type": "execute_result"
    }
   ],
   "source": [
    "predictions"
   ]
  },
  {
   "cell_type": "code",
   "execution_count": 12,
   "id": "97abd5d3-39f7-43ad-9ede-7afd166fdfc2",
   "metadata": {},
   "outputs": [],
   "source": [
    "#df_F_test"
   ]
  },
  {
   "cell_type": "code",
   "execution_count": 13,
   "id": "a555b7bb-1d27-4d2d-a567-24189d71c33c",
   "metadata": {},
   "outputs": [],
   "source": [
    "#accuracy_TM = sum(predictions*df_F_test['change_in_price'] > 0)/5"
   ]
  },
  {
   "cell_type": "code",
   "execution_count": 14,
   "id": "1ccfbcaa-be5c-49f5-b5b6-abcf75538cbd",
   "metadata": {},
   "outputs": [],
   "source": [
    "#accuracy_TM"
   ]
  },
  {
   "cell_type": "code",
   "execution_count": null,
   "id": "ccb409b0-2ff3-4fd6-a610-915235186c5a",
   "metadata": {},
   "outputs": [],
   "source": []
  }
 ],
 "metadata": {
  "kernelspec": {
   "display_name": "equity_vs_commodity",
   "language": "python",
   "name": "equity_vs_commodity"
  },
  "language_info": {
   "codemirror_mode": {
    "name": "ipython",
    "version": 3
   },
   "file_extension": ".py",
   "mimetype": "text/x-python",
   "name": "python",
   "nbconvert_exporter": "python",
   "pygments_lexer": "ipython3",
   "version": "3.12.6"
  }
 },
 "nbformat": 4,
 "nbformat_minor": 5
}

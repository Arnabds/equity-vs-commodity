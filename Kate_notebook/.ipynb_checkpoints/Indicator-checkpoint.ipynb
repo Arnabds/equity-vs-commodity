{
 "cells": [
  {
   "cell_type": "markdown",
   "id": "aaf19dd4-b831-4a39-9d04-6b207b2c3c27",
   "metadata": {},
   "source": [
    "# Why do we use indicators?"
   ]
  },
  {
   "cell_type": "markdown",
   "id": "923df018-32dd-4b1e-b701-48637266c52a",
   "metadata": {},
   "source": [
    "In trading classification, traders often use indicators instead of just relying on the open, high, low, and close prices because \n",
    "- indicators can provide additional insights by mathematically calculating patterns and relationships within the price data, which can be harder to identify just by looking at raw price points alone.\n",
    "- indicators help interpret the raw price information and provide a more nuanced view of the market."
   ]
  },
  {
   "cell_type": "markdown",
   "id": "dc8ca144-0e20-47e4-bc6f-db94db954121",
   "metadata": {},
   "source": [
    "## Technical indicators (from Predicting the direction of stock market prices using random forest)"
   ]
  },
  {
   "cell_type": "markdown",
   "id": "340a80ea-5669-4ca3-bfa0-cdaf5dff263a",
   "metadata": {},
   "source": [
    "### Relative Strength Index"
   ]
  },
  {
   "cell_type": "markdown",
   "id": "a35dc97a-68f2-46ef-ba15-183219d1b5b8",
   "metadata": {},
   "source": [
    "- RSI determines whether the stock is overbought or oversold.\n",
    "- Overbought:\n",
    "  + demand unjustifiably pushes the price upwards\n",
    "  + a sign that the stock is overvalued and the price is likely to go down.\n",
    "- Oversold:\n",
    "  + price goes down sharply to a level below its true value\n",
    "  + result caused due to panic selling\n",
    "\n",
    "$$ RSI = 100 - \\frac{100}{1 + RS} $$\n",
    "\n",
    "where\n",
    "\n",
    "$$ RS = \\frac{\\text{Average Gain Over Past 14 days}}{\\text{Average Loss Over past 14 days}} $$\n",
    "\n",
    "- RSI ranges from 0 to 100.\n",
    "  + RSI > 70: overbought\n",
    "  + RSI < 30: oversold"
   ]
  },
  {
   "cell_type": "markdown",
   "id": "416c68f3-874a-4366-82c2-ec818ff89422",
   "metadata": {},
   "source": [
    "### Stochastic Oscillator"
   ]
  },
  {
   "cell_type": "markdown",
   "id": "f4f5d55b-73bf-4926-a803-9c32040941e0",
   "metadata": {},
   "source": [
    "- Measures the level of the closing price relative to low-high range over a period of time.\n",
    "- Stochastic Oscillator follows the speed of the momentum of the price.\n",
    "- Momentum changes before the price changes.\n",
    "\n",
    "$$ \\%K = 100 \\cdot \\frac{C - L14}{H14 - L14} $$\n",
    "\n",
    "where\n",
    "$$ C = \\text{Current Closing Price} $$\n",
    "$$ L14 = \\text{Lowest Low over the past 14 days} $$\n",
    "$$ H14 = \\text{Highest High over the past 14 days} $$"
   ]
  },
  {
   "cell_type": "markdown",
   "id": "aef8a7cd-1f44-4c57-891e-cec421550069",
   "metadata": {},
   "source": [
    "### William %R"
   ]
  },
  {
   "cell_type": "markdown",
   "id": "db49cd1e-c4b3-4437-a64d-5cdccf65ecce",
   "metadata": {},
   "source": [
    "- Indicates sell signal and buy signal\n",
    "\n",
    "$$ \\%R = -100 \\cdot \\frac{H14 - C}{H14 - L14} $$\n",
    "\n",
    "where\n",
    "$$ C = \\text{Current Closing Price} $$\n",
    "$$ L14 = \\text{Lowest Low over the past 14 days} $$\n",
    "$$ H14 = \\text{Highest High over the past 14 days} $$\n",
    "\n",
    "- %R ranges from -100 to 0.\n",
    "  + %R > -20: sell signal\n",
    "  + %R < -80: buy signal"
   ]
  },
  {
   "cell_type": "markdown",
   "id": "de988a19-5c4c-452c-930d-4ef93855dde4",
   "metadata": {},
   "source": [
    "### Moving Average Convergence Divergence (MACD)"
   ]
  },
  {
   "cell_type": "markdown",
   "id": "12623e67-936b-479c-8a89-fa302c0f22d8",
   "metadata": {},
   "source": [
    "- Also indicates sell signal and buy signal.\n",
    "\n",
    "$$ \\text{MACD} = \\text{EMA}_{12}(C) - \\text{EMA}_{26}(C) $$ \n",
    "\n",
    "and \n",
    "\n",
    "$$ \\text{Signal Line} = \\text{EMA}_9 (\\text{MACD}) $$\n",
    " \n",
    "where \n",
    "$$ \\text{MACD} = \\text{Moving Average Convergence Divergence} $$\n",
    "$$ C = \\text{Closing Price series} $$\n",
    "$$ \\text{EMA}_n = n \\hspace{1mm} \\text{day Exponential Moving Average} $$\n",
    "- EMA stands for Exponential Moving Average.\n",
    "- MACD < Signal Line: sell signal\n",
    "- MACD > Signal Line: buy signal"
   ]
  },
  {
   "cell_type": "markdown",
   "id": "64129045-4da2-4296-8e24-629ef58cdded",
   "metadata": {},
   "source": [
    "### Price Rate of Change"
   ]
  },
  {
   "cell_type": "markdown",
   "id": "6729c569-5ddd-4102-b4ce-286577c77714",
   "metadata": {},
   "source": [
    "- Measures the most recent change in price with respect to the price in n days ago.\n",
    "\n",
    "$$ \\text{PROC} = \\frac{C(t) - C(t - n)}{C(t - n)} $$\n",
    "\n",
    "where \n",
    "$$ \\text{PROC}(t) = \\text{Price Rate of Change at time} \\hspace{1mm} t $$\n",
    "$$ C(t) = \\text{Closing Price at time} \\hspace{1mm} t $$"
   ]
  },
  {
   "cell_type": "markdown",
   "id": "be7ad4e5-96b9-4978-bcb8-d6a2846c5924",
   "metadata": {},
   "source": [
    "### On Balance Volume"
   ]
  },
  {
   "cell_type": "markdown",
   "id": "678154ad-f815-4800-930d-ed4538d8859b",
   "metadata": {},
   "source": [
    "- Finds buying and selling trends of a stock\n",
    "\n",
    "$$ \\text{OBV}(t) = \\left\\{\n",
    "\\begin{array}{ll}\n",
    "      \\text{OBV}(t - 1) + \\text{Vol}(t) & \\text{if} \\hspace{1mm} C(t) > C(t - 1) \\\\\n",
    "      \\text{OBV}(t - 1) - \\text{Vol}(t) & \\text{if} \\hspace{1mm} C(t) < C(t - 1) \\\\\n",
    "      \\text{OBV}(t - 1) & \\text{if} \\hspace{1mm} C(t) = C(t - 1) \\\\\n",
    "\\end{array} \n",
    "\\right. $$\n",
    "\n",
    "where\n",
    "\n",
    "$$ \\text{OBV}(t) = \\text{On Balance Volume at time} \\hspace{1mm} t $$\n",
    "$$ \\text{Vol}(t) = \\text{Trading Volume at time} \\hspace{1mm} t $$\n",
    "$$ C(t) = \\text{Closing Price at time} \\hspace{1mm} t $$"
   ]
  },
  {
   "cell_type": "code",
   "execution_count": null,
   "id": "df6e03a8-dcb5-40ca-af9e-19de1a9551ad",
   "metadata": {},
   "outputs": [],
   "source": []
  }
 ],
 "metadata": {
  "kernelspec": {
   "display_name": "Python 3 (ipykernel)",
   "language": "python",
   "name": "python3"
  },
  "language_info": {
   "codemirror_mode": {
    "name": "ipython",
    "version": 3
   },
   "file_extension": ".py",
   "mimetype": "text/x-python",
   "name": "python",
   "nbconvert_exporter": "python",
   "pygments_lexer": "ipython3",
   "version": "3.12.6"
  }
 },
 "nbformat": 4,
 "nbformat_minor": 5
}

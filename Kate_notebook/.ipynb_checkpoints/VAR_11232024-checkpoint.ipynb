{
 "cells": [
  {
   "cell_type": "markdown",
   "id": "2f8ae948-bc4c-4237-8e7a-fb24b5c09ed0",
   "metadata": {},
   "source": [
    "# VAR with backtesting"
   ]
  },
  {
   "cell_type": "markdown",
   "id": "a9811048-e8c3-4227-856d-8a7156cbf7e3",
   "metadata": {},
   "source": [
    "## Import library"
   ]
  },
  {
   "cell_type": "code",
   "execution_count": 1,
   "id": "3e95519f-24ff-4fab-8877-503e774dc88d",
   "metadata": {},
   "outputs": [],
   "source": [
    "import pandas as pd\n",
    "import numpy as np\n",
    "\n",
    "## Plotting\n",
    "import matplotlib.pyplot as plt\n",
    "import seaborn as sns\n",
    "\n",
    "from sklearn.metrics import mean_squared_error\n",
    "from statsmodels.tsa.api import VAR\n",
    "from statsmodels.tsa.stattools import acf, pacf, grangercausalitytests\n",
    "from sklearn.pipeline import Pipeline\n",
    "\n",
    "## Import TimeSeriesSplit\n",
    "from sklearn.model_selection import TimeSeriesSplit\n",
    "from sklearn.preprocessing import StandardScaler\n",
    "\n",
    "import yfinance as yf\n",
    "\n",
    "from statsmodels.tsa.stattools import adfuller\n",
    "from statsmodels.tsa.stattools import kpss\n",
    "\n",
    "## Import random\n",
    "import random"
   ]
  },
  {
   "cell_type": "markdown",
   "id": "1a08cffd-de46-4833-a72b-5eb3c51f4744",
   "metadata": {},
   "source": [
    "## Read file"
   ]
  },
  {
   "cell_type": "code",
   "execution_count": 2,
   "id": "fc1453a9-c290-4f8f-85ca-a144fdeb85d5",
   "metadata": {},
   "outputs": [
    {
     "data": {
      "text/html": [
       "<div>\n",
       "<style scoped>\n",
       "    .dataframe tbody tr th:only-of-type {\n",
       "        vertical-align: middle;\n",
       "    }\n",
       "\n",
       "    .dataframe tbody tr th {\n",
       "        vertical-align: top;\n",
       "    }\n",
       "\n",
       "    .dataframe thead th {\n",
       "        text-align: right;\n",
       "    }\n",
       "</style>\n",
       "<table border=\"1\" class=\"dataframe\">\n",
       "  <thead>\n",
       "    <tr style=\"text-align: right;\">\n",
       "      <th></th>\n",
       "      <th>CADUSD=X_change_in_price</th>\n",
       "      <th>GM_change_in_price</th>\n",
       "      <th>JCI_change_in_price</th>\n",
       "      <th>TM_change_in_price</th>\n",
       "      <th>TRYUSD=X_change_in_price</th>\n",
       "      <th>^IXIC_change_in_price</th>\n",
       "      <th>F_change_in_price</th>\n",
       "    </tr>\n",
       "  </thead>\n",
       "  <tbody>\n",
       "    <tr>\n",
       "      <th>0</th>\n",
       "      <td>-0.000418</td>\n",
       "      <td>0.099998</td>\n",
       "      <td>0.330002</td>\n",
       "      <td>-0.569992</td>\n",
       "      <td>-0.000812</td>\n",
       "      <td>15.439453</td>\n",
       "      <td>0.010000</td>\n",
       "    </tr>\n",
       "    <tr>\n",
       "      <th>1</th>\n",
       "      <td>0.001932</td>\n",
       "      <td>0.230000</td>\n",
       "      <td>0.160000</td>\n",
       "      <td>-0.309998</td>\n",
       "      <td>-0.000532</td>\n",
       "      <td>57.250000</td>\n",
       "      <td>0.090000</td>\n",
       "    </tr>\n",
       "    <tr>\n",
       "      <th>2</th>\n",
       "      <td>-0.000607</td>\n",
       "      <td>-0.139999</td>\n",
       "      <td>-0.279999</td>\n",
       "      <td>-1.449997</td>\n",
       "      <td>0.000039</td>\n",
       "      <td>-39.709961</td>\n",
       "      <td>-0.040000</td>\n",
       "    </tr>\n",
       "    <tr>\n",
       "      <th>3</th>\n",
       "      <td>-0.000238</td>\n",
       "      <td>-0.119999</td>\n",
       "      <td>-0.560001</td>\n",
       "      <td>0.059998</td>\n",
       "      <td>0.000314</td>\n",
       "      <td>-97.479492</td>\n",
       "      <td>-0.050000</td>\n",
       "    </tr>\n",
       "    <tr>\n",
       "      <th>4</th>\n",
       "      <td>-0.001081</td>\n",
       "      <td>-0.350002</td>\n",
       "      <td>-0.480000</td>\n",
       "      <td>0.459991</td>\n",
       "      <td>0.000223</td>\n",
       "      <td>-47.350586</td>\n",
       "      <td>-0.120000</td>\n",
       "    </tr>\n",
       "    <tr>\n",
       "      <th>...</th>\n",
       "      <td>...</td>\n",
       "      <td>...</td>\n",
       "      <td>...</td>\n",
       "      <td>...</td>\n",
       "      <td>...</td>\n",
       "      <td>...</td>\n",
       "      <td>...</td>\n",
       "    </tr>\n",
       "    <tr>\n",
       "      <th>1232</th>\n",
       "      <td>-0.001776</td>\n",
       "      <td>4.799999</td>\n",
       "      <td>-0.529999</td>\n",
       "      <td>0.759995</td>\n",
       "      <td>0.000026</td>\n",
       "      <td>39.759766</td>\n",
       "      <td>0.230000</td>\n",
       "    </tr>\n",
       "    <tr>\n",
       "      <th>1233</th>\n",
       "      <td>0.000905</td>\n",
       "      <td>-0.810001</td>\n",
       "      <td>-0.159996</td>\n",
       "      <td>1.400009</td>\n",
       "      <td>-0.000006</td>\n",
       "      <td>-303.119141</td>\n",
       "      <td>-0.049999</td>\n",
       "    </tr>\n",
       "    <tr>\n",
       "      <th>1234</th>\n",
       "      <td>-0.001072</td>\n",
       "      <td>-0.199997</td>\n",
       "      <td>0.379997</td>\n",
       "      <td>-0.900009</td>\n",
       "      <td>-0.000013</td>\n",
       "      <td>138.839844</td>\n",
       "      <td>0.179999</td>\n",
       "    </tr>\n",
       "    <tr>\n",
       "      <th>1235</th>\n",
       "      <td>-0.000866</td>\n",
       "      <td>-0.650002</td>\n",
       "      <td>-0.120003</td>\n",
       "      <td>1.570007</td>\n",
       "      <td>-0.000016</td>\n",
       "      <td>103.119141</td>\n",
       "      <td>-0.170000</td>\n",
       "    </tr>\n",
       "    <tr>\n",
       "      <th>1236</th>\n",
       "      <td>-0.002197</td>\n",
       "      <td>0.660000</td>\n",
       "      <td>0.990005</td>\n",
       "      <td>4.630005</td>\n",
       "      <td>0.000004</td>\n",
       "      <td>48.580078</td>\n",
       "      <td>0.300000</td>\n",
       "    </tr>\n",
       "  </tbody>\n",
       "</table>\n",
       "<p>1237 rows × 7 columns</p>\n",
       "</div>"
      ],
      "text/plain": [
       "      CADUSD=X_change_in_price  GM_change_in_price  JCI_change_in_price  \\\n",
       "0                    -0.000418            0.099998             0.330002   \n",
       "1                     0.001932            0.230000             0.160000   \n",
       "2                    -0.000607           -0.139999            -0.279999   \n",
       "3                    -0.000238           -0.119999            -0.560001   \n",
       "4                    -0.001081           -0.350002            -0.480000   \n",
       "...                        ...                 ...                  ...   \n",
       "1232                 -0.001776            4.799999            -0.529999   \n",
       "1233                  0.000905           -0.810001            -0.159996   \n",
       "1234                 -0.001072           -0.199997             0.379997   \n",
       "1235                 -0.000866           -0.650002            -0.120003   \n",
       "1236                 -0.002197            0.660000             0.990005   \n",
       "\n",
       "      TM_change_in_price  TRYUSD=X_change_in_price  ^IXIC_change_in_price  \\\n",
       "0              -0.569992                 -0.000812              15.439453   \n",
       "1              -0.309998                 -0.000532              57.250000   \n",
       "2              -1.449997                  0.000039             -39.709961   \n",
       "3               0.059998                  0.000314             -97.479492   \n",
       "4               0.459991                  0.000223             -47.350586   \n",
       "...                  ...                       ...                    ...   \n",
       "1232            0.759995                  0.000026              39.759766   \n",
       "1233            1.400009                 -0.000006            -303.119141   \n",
       "1234           -0.900009                 -0.000013             138.839844   \n",
       "1235            1.570007                 -0.000016             103.119141   \n",
       "1236            4.630005                  0.000004              48.580078   \n",
       "\n",
       "      F_change_in_price  \n",
       "0              0.010000  \n",
       "1              0.090000  \n",
       "2             -0.040000  \n",
       "3             -0.050000  \n",
       "4             -0.120000  \n",
       "...                 ...  \n",
       "1232           0.230000  \n",
       "1233          -0.049999  \n",
       "1234           0.179999  \n",
       "1235          -0.170000  \n",
       "1236           0.300000  \n",
       "\n",
       "[1237 rows x 7 columns]"
      ]
     },
     "execution_count": 2,
     "metadata": {},
     "output_type": "execute_result"
    }
   ],
   "source": [
    "df = pd.read_csv('../Data/dataset_others.csv')\n",
    "# Extract _change_in_price columns\n",
    "change_in_price_cols = [col for col in df.columns if '_change_in_price' in col]\n",
    "df_change = df[change_in_price_cols].copy()\n",
    "df_change"
   ]
  },
  {
   "cell_type": "markdown",
   "id": "81f21103-9341-45e3-9b07-28591f2c81e8",
   "metadata": {},
   "source": [
    "## Create ticker list"
   ]
  },
  {
   "cell_type": "code",
   "execution_count": 3,
   "id": "49c9be0b-6adb-44f0-b3ef-7ff2c4583c22",
   "metadata": {},
   "outputs": [
    {
     "data": {
      "text/plain": [
       "'F'"
      ]
     },
     "execution_count": 3,
     "metadata": {},
     "output_type": "execute_result"
    }
   ],
   "source": [
    "tickers = []\n",
    "for col in df.columns:\n",
    "    if '_RSI' in col:\n",
    "        tickers.append(col.split('_')[0])\n",
    "\n",
    "tickers.pop()"
   ]
  },
  {
   "cell_type": "markdown",
   "id": "cfd208c1-1723-4224-a445-080362a0aac9",
   "metadata": {},
   "source": [
    "## Train - test set"
   ]
  },
  {
   "cell_type": "code",
   "execution_count": 4,
   "id": "89501826-fb5d-4f7e-a42e-494d515f2d26",
   "metadata": {},
   "outputs": [],
   "source": [
    "# Train set for cross-validation\n",
    "train = df_change.iloc[:-5].copy()\n",
    "# Test set is saved for the best model\n",
    "test = df_change.iloc[-5:].copy()"
   ]
  },
  {
   "cell_type": "code",
   "execution_count": 5,
   "id": "42a60cc9-3ca0-4cd7-ba65-1d66925bb145",
   "metadata": {},
   "outputs": [
    {
     "data": {
      "text/html": [
       "<div>\n",
       "<style scoped>\n",
       "    .dataframe tbody tr th:only-of-type {\n",
       "        vertical-align: middle;\n",
       "    }\n",
       "\n",
       "    .dataframe tbody tr th {\n",
       "        vertical-align: top;\n",
       "    }\n",
       "\n",
       "    .dataframe thead th {\n",
       "        text-align: right;\n",
       "    }\n",
       "</style>\n",
       "<table border=\"1\" class=\"dataframe\">\n",
       "  <thead>\n",
       "    <tr style=\"text-align: right;\">\n",
       "      <th></th>\n",
       "      <th>CADUSD=X_change_in_price</th>\n",
       "      <th>GM_change_in_price</th>\n",
       "      <th>JCI_change_in_price</th>\n",
       "      <th>TM_change_in_price</th>\n",
       "      <th>TRYUSD=X_change_in_price</th>\n",
       "      <th>^IXIC_change_in_price</th>\n",
       "      <th>F_change_in_price</th>\n",
       "    </tr>\n",
       "  </thead>\n",
       "  <tbody>\n",
       "    <tr>\n",
       "      <th>0</th>\n",
       "      <td>-0.000418</td>\n",
       "      <td>0.099998</td>\n",
       "      <td>0.330002</td>\n",
       "      <td>-0.569992</td>\n",
       "      <td>-0.000812</td>\n",
       "      <td>15.439453</td>\n",
       "      <td>0.010000</td>\n",
       "    </tr>\n",
       "    <tr>\n",
       "      <th>1</th>\n",
       "      <td>0.001932</td>\n",
       "      <td>0.230000</td>\n",
       "      <td>0.160000</td>\n",
       "      <td>-0.309998</td>\n",
       "      <td>-0.000532</td>\n",
       "      <td>57.250000</td>\n",
       "      <td>0.090000</td>\n",
       "    </tr>\n",
       "    <tr>\n",
       "      <th>2</th>\n",
       "      <td>-0.000607</td>\n",
       "      <td>-0.139999</td>\n",
       "      <td>-0.279999</td>\n",
       "      <td>-1.449997</td>\n",
       "      <td>0.000039</td>\n",
       "      <td>-39.709961</td>\n",
       "      <td>-0.040000</td>\n",
       "    </tr>\n",
       "    <tr>\n",
       "      <th>3</th>\n",
       "      <td>-0.000238</td>\n",
       "      <td>-0.119999</td>\n",
       "      <td>-0.560001</td>\n",
       "      <td>0.059998</td>\n",
       "      <td>0.000314</td>\n",
       "      <td>-97.479492</td>\n",
       "      <td>-0.050000</td>\n",
       "    </tr>\n",
       "    <tr>\n",
       "      <th>4</th>\n",
       "      <td>-0.001081</td>\n",
       "      <td>-0.350002</td>\n",
       "      <td>-0.480000</td>\n",
       "      <td>0.459991</td>\n",
       "      <td>0.000223</td>\n",
       "      <td>-47.350586</td>\n",
       "      <td>-0.120000</td>\n",
       "    </tr>\n",
       "    <tr>\n",
       "      <th>...</th>\n",
       "      <td>...</td>\n",
       "      <td>...</td>\n",
       "      <td>...</td>\n",
       "      <td>...</td>\n",
       "      <td>...</td>\n",
       "      <td>...</td>\n",
       "      <td>...</td>\n",
       "    </tr>\n",
       "    <tr>\n",
       "      <th>1227</th>\n",
       "      <td>-0.001141</td>\n",
       "      <td>-0.780003</td>\n",
       "      <td>-1.080002</td>\n",
       "      <td>-5.550003</td>\n",
       "      <td>0.000020</td>\n",
       "      <td>-187.099609</td>\n",
       "      <td>-0.080000</td>\n",
       "    </tr>\n",
       "    <tr>\n",
       "      <th>1228</th>\n",
       "      <td>0.001146</td>\n",
       "      <td>1.160000</td>\n",
       "      <td>-0.209999</td>\n",
       "      <td>1.949997</td>\n",
       "      <td>0.000049</td>\n",
       "      <td>51.490234</td>\n",
       "      <td>0.190000</td>\n",
       "    </tr>\n",
       "    <tr>\n",
       "      <th>1229</th>\n",
       "      <td>0.001377</td>\n",
       "      <td>0.370003</td>\n",
       "      <td>0.860001</td>\n",
       "      <td>-0.300003</td>\n",
       "      <td>0.000026</td>\n",
       "      <td>6.529297</td>\n",
       "      <td>0.040000</td>\n",
       "    </tr>\n",
       "    <tr>\n",
       "      <th>1230</th>\n",
       "      <td>-0.002145</td>\n",
       "      <td>-0.200001</td>\n",
       "      <td>0.190002</td>\n",
       "      <td>0.330002</td>\n",
       "      <td>-0.000024</td>\n",
       "      <td>115.941406</td>\n",
       "      <td>0.030001</td>\n",
       "    </tr>\n",
       "    <tr>\n",
       "      <th>1231</th>\n",
       "      <td>-0.000205</td>\n",
       "      <td>-0.250000</td>\n",
       "      <td>-0.270004</td>\n",
       "      <td>-2.360001</td>\n",
       "      <td>-0.000072</td>\n",
       "      <td>50.458984</td>\n",
       "      <td>-0.220000</td>\n",
       "    </tr>\n",
       "  </tbody>\n",
       "</table>\n",
       "<p>1232 rows × 7 columns</p>\n",
       "</div>"
      ],
      "text/plain": [
       "      CADUSD=X_change_in_price  GM_change_in_price  JCI_change_in_price  \\\n",
       "0                    -0.000418            0.099998             0.330002   \n",
       "1                     0.001932            0.230000             0.160000   \n",
       "2                    -0.000607           -0.139999            -0.279999   \n",
       "3                    -0.000238           -0.119999            -0.560001   \n",
       "4                    -0.001081           -0.350002            -0.480000   \n",
       "...                        ...                 ...                  ...   \n",
       "1227                 -0.001141           -0.780003            -1.080002   \n",
       "1228                  0.001146            1.160000            -0.209999   \n",
       "1229                  0.001377            0.370003             0.860001   \n",
       "1230                 -0.002145           -0.200001             0.190002   \n",
       "1231                 -0.000205           -0.250000            -0.270004   \n",
       "\n",
       "      TM_change_in_price  TRYUSD=X_change_in_price  ^IXIC_change_in_price  \\\n",
       "0              -0.569992                 -0.000812              15.439453   \n",
       "1              -0.309998                 -0.000532              57.250000   \n",
       "2              -1.449997                  0.000039             -39.709961   \n",
       "3               0.059998                  0.000314             -97.479492   \n",
       "4               0.459991                  0.000223             -47.350586   \n",
       "...                  ...                       ...                    ...   \n",
       "1227           -5.550003                  0.000020            -187.099609   \n",
       "1228            1.949997                  0.000049              51.490234   \n",
       "1229           -0.300003                  0.000026               6.529297   \n",
       "1230            0.330002                 -0.000024             115.941406   \n",
       "1231           -2.360001                 -0.000072              50.458984   \n",
       "\n",
       "      F_change_in_price  \n",
       "0              0.010000  \n",
       "1              0.090000  \n",
       "2             -0.040000  \n",
       "3             -0.050000  \n",
       "4             -0.120000  \n",
       "...                 ...  \n",
       "1227          -0.080000  \n",
       "1228           0.190000  \n",
       "1229           0.040000  \n",
       "1230           0.030001  \n",
       "1231          -0.220000  \n",
       "\n",
       "[1232 rows x 7 columns]"
      ]
     },
     "execution_count": 5,
     "metadata": {},
     "output_type": "execute_result"
    }
   ],
   "source": [
    "train"
   ]
  },
  {
   "cell_type": "code",
   "execution_count": 6,
   "id": "0b8be276-e49b-4250-8590-1445b088ece5",
   "metadata": {},
   "outputs": [
    {
     "data": {
      "text/html": [
       "<div>\n",
       "<style scoped>\n",
       "    .dataframe tbody tr th:only-of-type {\n",
       "        vertical-align: middle;\n",
       "    }\n",
       "\n",
       "    .dataframe tbody tr th {\n",
       "        vertical-align: top;\n",
       "    }\n",
       "\n",
       "    .dataframe thead th {\n",
       "        text-align: right;\n",
       "    }\n",
       "</style>\n",
       "<table border=\"1\" class=\"dataframe\">\n",
       "  <thead>\n",
       "    <tr style=\"text-align: right;\">\n",
       "      <th></th>\n",
       "      <th>F_change_in_price</th>\n",
       "      <th>JCI_change_in_price</th>\n",
       "    </tr>\n",
       "  </thead>\n",
       "  <tbody>\n",
       "    <tr>\n",
       "      <th>0</th>\n",
       "      <td>0.024743</td>\n",
       "      <td>0.300047</td>\n",
       "    </tr>\n",
       "    <tr>\n",
       "      <th>1</th>\n",
       "      <td>0.258327</td>\n",
       "      <td>0.131121</td>\n",
       "    </tr>\n",
       "    <tr>\n",
       "      <th>2</th>\n",
       "      <td>-0.121248</td>\n",
       "      <td>-0.306093</td>\n",
       "    </tr>\n",
       "    <tr>\n",
       "      <th>3</th>\n",
       "      <td>-0.150446</td>\n",
       "      <td>-0.584324</td>\n",
       "    </tr>\n",
       "    <tr>\n",
       "      <th>4</th>\n",
       "      <td>-0.354832</td>\n",
       "      <td>-0.504828</td>\n",
       "    </tr>\n",
       "    <tr>\n",
       "      <th>...</th>\n",
       "      <td>...</td>\n",
       "      <td>...</td>\n",
       "    </tr>\n",
       "    <tr>\n",
       "      <th>1227</th>\n",
       "      <td>-0.238040</td>\n",
       "      <td>-1.101034</td>\n",
       "    </tr>\n",
       "    <tr>\n",
       "      <th>1228</th>\n",
       "      <td>0.550306</td>\n",
       "      <td>-0.236537</td>\n",
       "    </tr>\n",
       "    <tr>\n",
       "      <th>1229</th>\n",
       "      <td>0.112336</td>\n",
       "      <td>0.826692</td>\n",
       "    </tr>\n",
       "    <tr>\n",
       "      <th>1230</th>\n",
       "      <td>0.083141</td>\n",
       "      <td>0.160934</td>\n",
       "    </tr>\n",
       "    <tr>\n",
       "      <th>1231</th>\n",
       "      <td>-0.646813</td>\n",
       "      <td>-0.296162</td>\n",
       "    </tr>\n",
       "  </tbody>\n",
       "</table>\n",
       "<p>1232 rows × 2 columns</p>\n",
       "</div>"
      ],
      "text/plain": [
       "      F_change_in_price  JCI_change_in_price\n",
       "0              0.024743             0.300047\n",
       "1              0.258327             0.131121\n",
       "2             -0.121248            -0.306093\n",
       "3             -0.150446            -0.584324\n",
       "4             -0.354832            -0.504828\n",
       "...                 ...                  ...\n",
       "1227          -0.238040            -1.101034\n",
       "1228           0.550306            -0.236537\n",
       "1229           0.112336             0.826692\n",
       "1230           0.083141             0.160934\n",
       "1231          -0.646813            -0.296162\n",
       "\n",
       "[1232 rows x 2 columns]"
      ]
     },
     "execution_count": 6,
     "metadata": {},
     "output_type": "execute_result"
    }
   ],
   "source": [
    "tr_set = train[['F_change_in_price', 'JCI_change_in_price']].copy()\n",
    "scaler = StandardScaler()\n",
    "scaler_train = pd.DataFrame(scaler.fit_transform(tr_set.values), columns = tr_set.columns)\n",
    "scaler_train"
   ]
  },
  {
   "cell_type": "code",
   "execution_count": 7,
   "id": "8f966b4b-2536-45e4-9b5b-f0ffe659d0a6",
   "metadata": {},
   "outputs": [],
   "source": [
    "count = {}\n",
    "count[0] = [[0 for col in range(4)] for row in range(2)]"
   ]
  },
  {
   "cell_type": "code",
   "execution_count": 8,
   "id": "9ce009c7-db85-48a3-9ecf-089b231bdbec",
   "metadata": {},
   "outputs": [
    {
     "data": {
      "text/plain": [
       "0"
      ]
     },
     "execution_count": 8,
     "metadata": {},
     "output_type": "execute_result"
    }
   ],
   "source": [
    "count[0][0][2]"
   ]
  },
  {
   "cell_type": "code",
   "execution_count": 9,
   "id": "541b3a8b-9dd9-49f8-a92e-6afc1ac624ca",
   "metadata": {},
   "outputs": [],
   "source": [
    "MSE = {}\n",
    "acc = {}\n",
    "cv = TimeSeriesSplit(10, test_size=5)\n",
    "\n",
    "#for i in range(1):\n",
    "for i in range(len(change_in_price_cols) - 1):\n",
    "    tr_set = train[[change_in_price_cols[-1], change_in_price_cols[i]]].copy()\n",
    "    MSE[change_in_price_cols[i]] = [[0 for col in range(40)] for row in range(10)]\n",
    "    acc[change_in_price_cols[i]] = [[0 for col in range(40)] for row in range(10)]\n",
    "    scaler = StandardScaler()\n",
    "    scaled_train = pd.DataFrame(scaler.fit_transform(tr_set), columns = tr_set.columns)\n",
    "\n",
    "    k = 0\n",
    "    for train_index, test_index in cv.split(train):\n",
    "        t_tt = scaled_train.iloc[train_index]\n",
    "        t_ho = scaled_train.iloc[test_index]\n",
    "\n",
    "        model = VAR(t_tt)\n",
    "        for j in range(1, 41):\n",
    "            var_model = model.fit(j)\n",
    "            pred = var_model.forecast(t_tt[-j:].values, steps=5)\n",
    "            MSE[change_in_price_cols[i]][k][j - 1] = np.sqrt(mean_squared_error(t_ho['F_change_in_price'].values, pred[:, 0]))\n",
    "            acc[change_in_price_cols[i]][k][j - 1] = sum(pred[:, 0]*t_ho['F_change_in_price'] > 0)/len(t_ho)\n",
    "        k += 1"
   ]
  },
  {
   "cell_type": "code",
   "execution_count": 10,
   "id": "044659a5-d1e9-4121-b933-2c95de238102",
   "metadata": {},
   "outputs": [],
   "source": [
    "MSE_mean = {}\n",
    "acc_mean = {}\n",
    "MSE_order = {}\n",
    "acc_order = {}\n",
    "\n",
    "for i in range(len(change_in_price_cols) - 1):\n",
    "    MSE_mean[change_in_price_cols[i]] = []\n",
    "    acc_mean[change_in_price_cols[i]] = []\n",
    "    MSE_mean[change_in_price_cols[i]].append(np.mean(MSE[change_in_price_cols[i]], axis=0))\n",
    "    acc_mean[change_in_price_cols[i]].append(np.mean(acc[change_in_price_cols[i]], axis=0))\n",
    "    MSE_order[change_in_price_cols[i]] = np.argmin(np.mean(MSE[change_in_price_cols[i]], axis=0)) + 1\n",
    "    acc_order[change_in_price_cols[i]] = np.argmax(np.mean(acc[change_in_price_cols[i]], axis=0)) + 1"
   ]
  },
  {
   "cell_type": "code",
   "execution_count": 11,
   "id": "fd2fdbbd-e02d-44f2-96a0-b854524fe4b0",
   "metadata": {},
   "outputs": [
    {
     "data": {
      "text/plain": [
       "{'CADUSD=X_change_in_price': np.int64(5),\n",
       " 'GM_change_in_price': np.int64(6),\n",
       " 'JCI_change_in_price': np.int64(15),\n",
       " 'TM_change_in_price': np.int64(4),\n",
       " 'TRYUSD=X_change_in_price': np.int64(17),\n",
       " '^IXIC_change_in_price': np.int64(3)}"
      ]
     },
     "execution_count": 11,
     "metadata": {},
     "output_type": "execute_result"
    }
   ],
   "source": [
    "MSE_order"
   ]
  },
  {
   "cell_type": "code",
   "execution_count": 12,
   "id": "0448b249-7df6-4c87-a587-1339e7ae6463",
   "metadata": {},
   "outputs": [
    {
     "data": {
      "text/plain": [
       "{'CADUSD=X_change_in_price': np.int64(2),\n",
       " 'GM_change_in_price': np.int64(6),\n",
       " 'JCI_change_in_price': np.int64(33),\n",
       " 'TM_change_in_price': np.int64(5),\n",
       " 'TRYUSD=X_change_in_price': np.int64(15),\n",
       " '^IXIC_change_in_price': np.int64(35)}"
      ]
     },
     "execution_count": 12,
     "metadata": {},
     "output_type": "execute_result"
    }
   ],
   "source": [
    "acc_order"
   ]
  },
  {
   "cell_type": "code",
   "execution_count": 13,
   "id": "41b7d9c0-d217-4230-aff0-e2ac68668d81",
   "metadata": {},
   "outputs": [
    {
     "data": {
      "text/plain": [
       "np.int64(1)"
      ]
     },
     "execution_count": 13,
     "metadata": {},
     "output_type": "execute_result"
    }
   ],
   "source": [
    "np.argmax(np.mean(acc[change_in_price_cols[0]], axis=0))"
   ]
  },
  {
   "cell_type": "markdown",
   "id": "70fda5e9-bcd0-40c0-87b1-6127e9d94459",
   "metadata": {},
   "source": [
    "## Create a table of optimal order"
   ]
  },
  {
   "cell_type": "code",
   "execution_count": 14,
   "id": "74daaa15-4699-4f6a-9491-220ed2e8ba60",
   "metadata": {},
   "outputs": [
    {
     "data": {
      "text/html": [
       "<div>\n",
       "<style scoped>\n",
       "    .dataframe tbody tr th:only-of-type {\n",
       "        vertical-align: middle;\n",
       "    }\n",
       "\n",
       "    .dataframe tbody tr th {\n",
       "        vertical-align: top;\n",
       "    }\n",
       "\n",
       "    .dataframe thead th {\n",
       "        text-align: right;\n",
       "    }\n",
       "</style>\n",
       "<table border=\"1\" class=\"dataframe\">\n",
       "  <thead>\n",
       "    <tr style=\"text-align: right;\">\n",
       "      <th></th>\n",
       "      <th>Ticker</th>\n",
       "      <th>Optimal order</th>\n",
       "    </tr>\n",
       "  </thead>\n",
       "  <tbody>\n",
       "    <tr>\n",
       "      <th>0</th>\n",
       "      <td>CADUSD=X</td>\n",
       "      <td>NaN</td>\n",
       "    </tr>\n",
       "    <tr>\n",
       "      <th>1</th>\n",
       "      <td>GM</td>\n",
       "      <td>NaN</td>\n",
       "    </tr>\n",
       "    <tr>\n",
       "      <th>2</th>\n",
       "      <td>JCI</td>\n",
       "      <td>NaN</td>\n",
       "    </tr>\n",
       "    <tr>\n",
       "      <th>3</th>\n",
       "      <td>TM</td>\n",
       "      <td>NaN</td>\n",
       "    </tr>\n",
       "    <tr>\n",
       "      <th>4</th>\n",
       "      <td>TRYUSD=X</td>\n",
       "      <td>NaN</td>\n",
       "    </tr>\n",
       "    <tr>\n",
       "      <th>5</th>\n",
       "      <td>^IXIC</td>\n",
       "      <td>NaN</td>\n",
       "    </tr>\n",
       "  </tbody>\n",
       "</table>\n",
       "</div>"
      ],
      "text/plain": [
       "     Ticker Optimal order\n",
       "0  CADUSD=X           NaN\n",
       "1        GM           NaN\n",
       "2       JCI           NaN\n",
       "3        TM           NaN\n",
       "4  TRYUSD=X           NaN\n",
       "5     ^IXIC           NaN"
      ]
     },
     "execution_count": 14,
     "metadata": {},
     "output_type": "execute_result"
    }
   ],
   "source": [
    "c = ['Ticker', 'Optimal order']\n",
    "optimal_order = pd.DataFrame(columns=c)\n",
    "for i, t in enumerate(tickers):\n",
    "    optimal_order.loc[i, 'Ticker'] = t.split('_')[0]\n",
    "optimal_order"
   ]
  },
  {
   "cell_type": "code",
   "execution_count": 15,
   "id": "757f4ae7-c0c9-4205-b697-7dcd652c3bf9",
   "metadata": {},
   "outputs": [],
   "source": [
    "for i in range(len(change_in_price_cols) - 1):\n",
    "    optimal_order.loc[i, 'Optimal order'] = (max(MSE_order[change_in_price_cols[i]], acc_order[change_in_price_cols[i]]))"
   ]
  },
  {
   "cell_type": "code",
   "execution_count": 16,
   "id": "7255b54c-8f96-4b66-860c-088b91f48d5f",
   "metadata": {},
   "outputs": [
    {
     "data": {
      "text/html": [
       "<div>\n",
       "<style scoped>\n",
       "    .dataframe tbody tr th:only-of-type {\n",
       "        vertical-align: middle;\n",
       "    }\n",
       "\n",
       "    .dataframe tbody tr th {\n",
       "        vertical-align: top;\n",
       "    }\n",
       "\n",
       "    .dataframe thead th {\n",
       "        text-align: right;\n",
       "    }\n",
       "</style>\n",
       "<table border=\"1\" class=\"dataframe\">\n",
       "  <thead>\n",
       "    <tr style=\"text-align: right;\">\n",
       "      <th></th>\n",
       "      <th>Ticker</th>\n",
       "      <th>Optimal order</th>\n",
       "    </tr>\n",
       "  </thead>\n",
       "  <tbody>\n",
       "    <tr>\n",
       "      <th>0</th>\n",
       "      <td>CADUSD=X</td>\n",
       "      <td>5</td>\n",
       "    </tr>\n",
       "    <tr>\n",
       "      <th>1</th>\n",
       "      <td>GM</td>\n",
       "      <td>6</td>\n",
       "    </tr>\n",
       "    <tr>\n",
       "      <th>2</th>\n",
       "      <td>JCI</td>\n",
       "      <td>33</td>\n",
       "    </tr>\n",
       "    <tr>\n",
       "      <th>3</th>\n",
       "      <td>TM</td>\n",
       "      <td>5</td>\n",
       "    </tr>\n",
       "    <tr>\n",
       "      <th>4</th>\n",
       "      <td>TRYUSD=X</td>\n",
       "      <td>17</td>\n",
       "    </tr>\n",
       "    <tr>\n",
       "      <th>5</th>\n",
       "      <td>^IXIC</td>\n",
       "      <td>35</td>\n",
       "    </tr>\n",
       "  </tbody>\n",
       "</table>\n",
       "</div>"
      ],
      "text/plain": [
       "     Ticker Optimal order\n",
       "0  CADUSD=X             5\n",
       "1        GM             6\n",
       "2       JCI            33\n",
       "3        TM             5\n",
       "4  TRYUSD=X            17\n",
       "5     ^IXIC            35"
      ]
     },
     "execution_count": 16,
     "metadata": {},
     "output_type": "execute_result"
    }
   ],
   "source": [
    "optimal_order"
   ]
  },
  {
   "cell_type": "code",
   "execution_count": 17,
   "id": "c905787a-2a4d-4709-b94d-63869177de32",
   "metadata": {},
   "outputs": [
    {
     "data": {
      "text/plain": [
       "np.int64(35)"
      ]
     },
     "execution_count": 17,
     "metadata": {},
     "output_type": "execute_result"
    }
   ],
   "source": [
    "optimal_order.loc[i, 'Optimal order']"
   ]
  },
  {
   "cell_type": "markdown",
   "id": "91290a59-08c3-4879-844e-80710fcec136",
   "metadata": {},
   "source": [
    "## Apply VAR to test set"
   ]
  },
  {
   "cell_type": "code",
   "execution_count": 18,
   "id": "330a9553-02e9-4661-a515-67a6f7d55596",
   "metadata": {},
   "outputs": [],
   "source": [
    "df_close = df[['F_Close_pred']].copy()\n",
    "#df_close"
   ]
  },
  {
   "cell_type": "code",
   "execution_count": 19,
   "id": "c7772ef6-2d85-4953-942d-5dd262367e58",
   "metadata": {},
   "outputs": [],
   "source": [
    "prediction_cols = []\n",
    "for t in tickers:\n",
    "    prediction_cols.append(t + '_VAR')\n",
    "\n",
    "predictions = pd.DataFrame(columns=prediction_cols, index=test.index)\n",
    "#predictions"
   ]
  },
  {
   "cell_type": "code",
   "execution_count": 20,
   "id": "9041091e-9031-4816-a235-6fe96e84b43c",
   "metadata": {},
   "outputs": [],
   "source": [
    "close_predictions = predictions.copy()\n",
    "#close_predictions"
   ]
  },
  {
   "cell_type": "code",
   "execution_count": 21,
   "id": "8014b258-388f-4ef0-9d84-ac42774c7dd4",
   "metadata": {},
   "outputs": [],
   "source": [
    "acc = {}\n",
    "res = {}\n",
    "for i in range(len(change_in_price_cols) - 1):   \n",
    "    train_final = train[[change_in_price_cols[-1], change_in_price_cols[i]]].copy()\n",
    "    test_final = test[[change_in_price_cols[-1], change_in_price_cols[i]]].copy()\n",
    "    scaler = StandardScaler()\n",
    "    scaled_train = pd.DataFrame(scaler.fit_transform(train_final), columns = train_final.columns, index = train_final.index)\n",
    "    scaled_test = pd.DataFrame(scaler.transform(test_final), columns = test_final.columns, index = test_final.index)\n",
    "    #print(scaled_train)\n",
    "    model = VAR(scaled_train)\n",
    "    result = model.fit(optimal_order.loc[i, 'Optimal order'])\n",
    "    k = result.k_ar\n",
    "    pred = result.forecast(scaled_train[-k:].values, steps=5)\n",
    "    predictions.loc[:, prediction_cols[i]] = pred[:, 0]\n",
    "    close_predictions.loc[:, prediction_cols[i]] = df_close.iloc[-6]['F_Close_pred'] + predictions[prediction_cols[i]].cumsum()\n",
    "    acc[change_in_price_cols[i]] = sum(pred[:, 0]*scaled_test['F_change_in_price'] > 0)/len(test_final)\n",
    "    res[change_in_price_cols[i]] = result"
   ]
  },
  {
   "cell_type": "code",
   "execution_count": 22,
   "id": "4eb46d6f-575f-48b8-9554-756f3f56b8c2",
   "metadata": {},
   "outputs": [],
   "source": [
    "predictions = pd.concat([predictions, scaled_test['F_change_in_price']], axis=1)"
   ]
  },
  {
   "cell_type": "code",
   "execution_count": 23,
   "id": "07d9708c-d6aa-4827-b578-91a435a83510",
   "metadata": {},
   "outputs": [
    {
     "data": {
      "text/html": [
       "<div>\n",
       "<style scoped>\n",
       "    .dataframe tbody tr th:only-of-type {\n",
       "        vertical-align: middle;\n",
       "    }\n",
       "\n",
       "    .dataframe tbody tr th {\n",
       "        vertical-align: top;\n",
       "    }\n",
       "\n",
       "    .dataframe thead th {\n",
       "        text-align: right;\n",
       "    }\n",
       "</style>\n",
       "<table border=\"1\" class=\"dataframe\">\n",
       "  <thead>\n",
       "    <tr style=\"text-align: right;\">\n",
       "      <th></th>\n",
       "      <th>CADUSD=X_VAR</th>\n",
       "      <th>GM_VAR</th>\n",
       "      <th>JCI_VAR</th>\n",
       "      <th>TM_VAR</th>\n",
       "      <th>TRYUSD=X_VAR</th>\n",
       "      <th>^IXIC_VAR</th>\n",
       "      <th>F_change_in_price</th>\n",
       "    </tr>\n",
       "  </thead>\n",
       "  <tbody>\n",
       "    <tr>\n",
       "      <th>1232</th>\n",
       "      <td>0.020028</td>\n",
       "      <td>-0.093443</td>\n",
       "      <td>-0.156427</td>\n",
       "      <td>-0.090404</td>\n",
       "      <td>0.043523</td>\n",
       "      <td>0.083584</td>\n",
       "      <td>0.667098</td>\n",
       "    </tr>\n",
       "    <tr>\n",
       "      <th>1233</th>\n",
       "      <td>-0.013446</td>\n",
       "      <td>-0.001961</td>\n",
       "      <td>-0.270984</td>\n",
       "      <td>0.030157</td>\n",
       "      <td>-0.055503</td>\n",
       "      <td>-0.317352</td>\n",
       "      <td>-0.150443</td>\n",
       "    </tr>\n",
       "    <tr>\n",
       "      <th>1234</th>\n",
       "      <td>-0.046734</td>\n",
       "      <td>0.000852</td>\n",
       "      <td>0.106941</td>\n",
       "      <td>-0.016869</td>\n",
       "      <td>0.055096</td>\n",
       "      <td>0.118671</td>\n",
       "      <td>0.521107</td>\n",
       "    </tr>\n",
       "    <tr>\n",
       "      <th>1235</th>\n",
       "      <td>0.02505</td>\n",
       "      <td>-0.031283</td>\n",
       "      <td>0.006105</td>\n",
       "      <td>0.035283</td>\n",
       "      <td>0.04612</td>\n",
       "      <td>-0.15854</td>\n",
       "      <td>-0.500822</td>\n",
       "    </tr>\n",
       "    <tr>\n",
       "      <th>1236</th>\n",
       "      <td>0.004357</td>\n",
       "      <td>0.000051</td>\n",
       "      <td>0.378433</td>\n",
       "      <td>-0.005504</td>\n",
       "      <td>0.001259</td>\n",
       "      <td>0.194957</td>\n",
       "      <td>0.871486</td>\n",
       "    </tr>\n",
       "  </tbody>\n",
       "</table>\n",
       "</div>"
      ],
      "text/plain": [
       "     CADUSD=X_VAR    GM_VAR   JCI_VAR    TM_VAR TRYUSD=X_VAR ^IXIC_VAR  \\\n",
       "1232     0.020028 -0.093443 -0.156427 -0.090404     0.043523  0.083584   \n",
       "1233    -0.013446 -0.001961 -0.270984  0.030157    -0.055503 -0.317352   \n",
       "1234    -0.046734  0.000852  0.106941 -0.016869     0.055096  0.118671   \n",
       "1235      0.02505 -0.031283  0.006105  0.035283      0.04612  -0.15854   \n",
       "1236     0.004357  0.000051  0.378433 -0.005504     0.001259  0.194957   \n",
       "\n",
       "      F_change_in_price  \n",
       "1232           0.667098  \n",
       "1233          -0.150443  \n",
       "1234           0.521107  \n",
       "1235          -0.500822  \n",
       "1236           0.871486  "
      ]
     },
     "execution_count": 23,
     "metadata": {},
     "output_type": "execute_result"
    }
   ],
   "source": [
    "predictions"
   ]
  },
  {
   "cell_type": "code",
   "execution_count": 24,
   "id": "8f4c05ba-ccd5-4d97-be2b-6e14b9390527",
   "metadata": {},
   "outputs": [],
   "source": [
    "close_predictions = pd.concat([close_predictions, df_close[-5:]], axis=1)"
   ]
  },
  {
   "cell_type": "code",
   "execution_count": null,
   "id": "815e884b-0822-475f-a721-f2270469b95c",
   "metadata": {},
   "outputs": [],
   "source": []
  },
  {
   "cell_type": "code",
   "execution_count": 25,
   "id": "8217fe4d-dae4-436b-b3bf-ab7cc08e23c3",
   "metadata": {},
   "outputs": [
    {
     "data": {
      "text/html": [
       "<div>\n",
       "<style scoped>\n",
       "    .dataframe tbody tr th:only-of-type {\n",
       "        vertical-align: middle;\n",
       "    }\n",
       "\n",
       "    .dataframe tbody tr th {\n",
       "        vertical-align: top;\n",
       "    }\n",
       "\n",
       "    .dataframe thead th {\n",
       "        text-align: right;\n",
       "    }\n",
       "</style>\n",
       "<table border=\"1\" class=\"dataframe\">\n",
       "  <thead>\n",
       "    <tr style=\"text-align: right;\">\n",
       "      <th></th>\n",
       "      <th>CADUSD=X_VAR</th>\n",
       "      <th>GM_VAR</th>\n",
       "      <th>JCI_VAR</th>\n",
       "      <th>TM_VAR</th>\n",
       "      <th>TRYUSD=X_VAR</th>\n",
       "      <th>^IXIC_VAR</th>\n",
       "      <th>F_Close_pred</th>\n",
       "    </tr>\n",
       "  </thead>\n",
       "  <tbody>\n",
       "    <tr>\n",
       "      <th>1232</th>\n",
       "      <td>10.900028</td>\n",
       "      <td>10.786557</td>\n",
       "      <td>10.723573</td>\n",
       "      <td>10.789596</td>\n",
       "      <td>10.923523</td>\n",
       "      <td>10.963584</td>\n",
       "      <td>11.11</td>\n",
       "    </tr>\n",
       "    <tr>\n",
       "      <th>1233</th>\n",
       "      <td>10.886582</td>\n",
       "      <td>10.784596</td>\n",
       "      <td>10.452589</td>\n",
       "      <td>10.819753</td>\n",
       "      <td>10.86802</td>\n",
       "      <td>10.646232</td>\n",
       "      <td>11.06</td>\n",
       "    </tr>\n",
       "    <tr>\n",
       "      <th>1234</th>\n",
       "      <td>10.839848</td>\n",
       "      <td>10.785447</td>\n",
       "      <td>10.55953</td>\n",
       "      <td>10.802885</td>\n",
       "      <td>10.923116</td>\n",
       "      <td>10.764904</td>\n",
       "      <td>11.24</td>\n",
       "    </tr>\n",
       "    <tr>\n",
       "      <th>1235</th>\n",
       "      <td>10.864899</td>\n",
       "      <td>10.754165</td>\n",
       "      <td>10.565635</td>\n",
       "      <td>10.838168</td>\n",
       "      <td>10.969237</td>\n",
       "      <td>10.606364</td>\n",
       "      <td>11.07</td>\n",
       "    </tr>\n",
       "    <tr>\n",
       "      <th>1236</th>\n",
       "      <td>10.869255</td>\n",
       "      <td>10.754216</td>\n",
       "      <td>10.944068</td>\n",
       "      <td>10.832664</td>\n",
       "      <td>10.970495</td>\n",
       "      <td>10.801321</td>\n",
       "      <td>11.37</td>\n",
       "    </tr>\n",
       "  </tbody>\n",
       "</table>\n",
       "</div>"
      ],
      "text/plain": [
       "     CADUSD=X_VAR     GM_VAR    JCI_VAR     TM_VAR TRYUSD=X_VAR  ^IXIC_VAR  \\\n",
       "1232    10.900028  10.786557  10.723573  10.789596    10.923523  10.963584   \n",
       "1233    10.886582  10.784596  10.452589  10.819753     10.86802  10.646232   \n",
       "1234    10.839848  10.785447   10.55953  10.802885    10.923116  10.764904   \n",
       "1235    10.864899  10.754165  10.565635  10.838168    10.969237  10.606364   \n",
       "1236    10.869255  10.754216  10.944068  10.832664    10.970495  10.801321   \n",
       "\n",
       "      F_Close_pred  \n",
       "1232         11.11  \n",
       "1233         11.06  \n",
       "1234         11.24  \n",
       "1235         11.07  \n",
       "1236         11.37  "
      ]
     },
     "execution_count": 25,
     "metadata": {},
     "output_type": "execute_result"
    }
   ],
   "source": [
    "close_predictions"
   ]
  },
  {
   "cell_type": "code",
   "execution_count": 26,
   "id": "b531b299-258d-4953-b71d-9e4e48ddadfd",
   "metadata": {},
   "outputs": [
    {
     "data": {
      "text/plain": [
       "{'CADUSD=X_change_in_price': 0.6,\n",
       " 'GM_change_in_price': 0.8,\n",
       " 'JCI_change_in_price': 0.6,\n",
       " 'TM_change_in_price': 0.0,\n",
       " 'TRYUSD=X_change_in_price': 0.8,\n",
       " '^IXIC_change_in_price': 1.0}"
      ]
     },
     "execution_count": 26,
     "metadata": {},
     "output_type": "execute_result"
    }
   ],
   "source": [
    "acc"
   ]
  },
  {
   "cell_type": "markdown",
   "id": "18cf9a11-1cc2-4b06-984f-6833fbc6ac65",
   "metadata": {},
   "source": [
    "## Plot"
   ]
  },
  {
   "cell_type": "code",
   "execution_count": 27,
   "id": "9aa0cb26-d16f-4262-9de5-15c65f92628c",
   "metadata": {},
   "outputs": [],
   "source": [
    "def x_ticks(df, no_of_ticks = 10):\n",
    "    \n",
    "    x = [x for x in range(df.index[0], df.index[-1], int(len(df)/no_of_ticks))]\n",
    "    #x.append(df.index[-1])\n",
    "    dates = pd.to_datetime(df['Date'].copy())\n",
    "    dates = dates.dt.strftime('%d/%m/%Y')\n",
    "    date_ticker = [d for d in dates.loc[x]]\n",
    "\n",
    "    return x, date_ticker"
   ]
  },
  {
   "cell_type": "code",
   "execution_count": 28,
   "id": "e60f376b-0dfb-42e8-a7e6-d05293e480f0",
   "metadata": {},
   "outputs": [
    {
     "data": {
      "image/png": "[encoded data removed]",
      "text/plain": [
       "<Figure size 1500x700 with 1 Axes>"
      ]
     },
     "metadata": {},
     "output_type": "display_data"
    }
   ],
   "source": [
    "x, date_ticker = x_ticks(df[-5:], 5)\n",
    "plt.figure(figsize=(15, 7))\n",
    "plt.plot(df['F_Close_pred'][-5:], color='k', label = 'F')\n",
    "for t in close_predictions.columns:\n",
    "    if t != 'F_Close_pred':\n",
    "        plt.plot(close_predictions[t], label = t)\n",
    "plt.xticks(x, date_ticker)\n",
    "plt.legend(loc='upper right')\n",
    "plt.xlabel('Date', fontsize = 13)\n",
    "plt.ylabel('Close', fontsize = 13)\n",
    "plt.show()"
   ]
  },
  {
   "cell_type": "markdown",
   "id": "6ff4c175-1a89-4b1f-a5b3-87339a9b6ad5",
   "metadata": {},
   "source": [
    "## Backtesting"
   ]
  },
  {
   "cell_type": "markdown",
   "id": "2dc118a3-c7a4-469f-9e2c-cb9477ca9e6a",
   "metadata": {},
   "source": [
    "### Choose 10 sets"
   ]
  },
  {
   "cell_type": "code",
   "execution_count": 29,
   "id": "39acbfdb-a5b8-4c15-9621-3d8e3862806a",
   "metadata": {},
   "outputs": [],
   "source": [
    "size = len(df) // 10\n",
    "forecast_length = 5\n",
    "rng = np.random.RandomState(42)\n",
    "acc_backtest = {}\n",
    "\n",
    "for i in range(len(change_in_price_cols) - 1):\n",
    "    opt_order = optimal_order.loc[i, 'Optimal order']\n",
    "    acc_backtest[change_in_price_cols[i]] = []\n",
    "    for j in range(10):\n",
    "        ch = rng.randint(j*size + (opt_order + forecast_length), (j + 1)*size - (opt_order + forecast_length))\n",
    "        backtest = df_change.iloc[ch: ch + opt_order][['F_change_in_price', change_in_price_cols[i]]].copy()\n",
    "        test_set = df_change.iloc[ch + opt_order: ch + opt_order + 5][['F_change_in_price', change_in_price_cols[i]]].copy()\n",
    "        scaler = StandardScaler()\n",
    "        scaled_train = pd.DataFrame(scaler.fit_transform(backtest), \n",
    "                                    columns = backtest.columns, \n",
    "                                    index = backtest.index)\n",
    "        scaled_test = pd.DataFrame(scaler.transform(test_set), \n",
    "                                   columns = test_set.columns, \n",
    "                                   index = test_set.index)\n",
    "        # Model\n",
    "        result = res[change_in_price_cols[i]]\n",
    "        pred = result.forecast(scaled_train.values, steps=forecast_length)\n",
    "        acc_backtest[change_in_price_cols[i]].append(sum(pred[:, 0]*scaled_test['F_change_in_price'] > 0)/len(test_final))"
   ]
  },
  {
   "cell_type": "code",
   "execution_count": 30,
   "id": "7e44e302-3c6c-4c45-9b4b-b65b798fa34a",
   "metadata": {},
   "outputs": [
    {
     "data": {
      "text/plain": [
       "{'CADUSD=X_change_in_price': [0.4,\n",
       "  0.6,\n",
       "  0.8,\n",
       "  0.6,\n",
       "  0.6,\n",
       "  0.8,\n",
       "  0.6,\n",
       "  1.0,\n",
       "  0.4,\n",
       "  1.0],\n",
       " 'GM_change_in_price': [0.4, 0.4, 0.4, 0.4, 0.8, 0.8, 0.6, 0.2, 0.4, 0.4],\n",
       " 'JCI_change_in_price': [0.4, 0.8, 0.2, 1.0, 1.0, 1.0, 1.0, 0.8, 0.4, 0.8],\n",
       " 'TM_change_in_price': [0.4, 0.8, 0.8, 0.2, 0.6, 0.4, 0.4, 0.8, 0.4, 0.4],\n",
       " 'TRYUSD=X_change_in_price': [0.8,\n",
       "  1.0,\n",
       "  0.6,\n",
       "  0.4,\n",
       "  0.4,\n",
       "  0.6,\n",
       "  0.4,\n",
       "  0.8,\n",
       "  0.6,\n",
       "  0.6],\n",
       " '^IXIC_change_in_price': [0.6, 0.6, 0.4, 0.2, 0.6, 0.2, 0.6, 0.4, 0.6, 0.2]}"
      ]
     },
     "execution_count": 30,
     "metadata": {},
     "output_type": "execute_result"
    }
   ],
   "source": [
    "acc_backtest"
   ]
  },
  {
   "cell_type": "markdown",
   "id": "c4c268f5-bd8d-4a05-8d7b-4e3c9266cd0d",
   "metadata": {},
   "source": [
    "## Plot backtesting"
   ]
  },
  {
   "cell_type": "code",
   "execution_count": 31,
   "id": "ec6d83e7-a9bb-47eb-8234-874a5574cbe9",
   "metadata": {},
   "outputs": [
    {
     "data": {
      "text/html": [
       "<div>\n",
       "<style scoped>\n",
       "    .dataframe tbody tr th:only-of-type {\n",
       "        vertical-align: middle;\n",
       "    }\n",
       "\n",
       "    .dataframe tbody tr th {\n",
       "        vertical-align: top;\n",
       "    }\n",
       "\n",
       "    .dataframe thead th {\n",
       "        text-align: right;\n",
       "    }\n",
       "</style>\n",
       "<table border=\"1\" class=\"dataframe\">\n",
       "  <thead>\n",
       "    <tr style=\"text-align: right;\">\n",
       "      <th></th>\n",
       "      <th>CADUSD=X_change_in_price</th>\n",
       "      <th>GM_change_in_price</th>\n",
       "      <th>JCI_change_in_price</th>\n",
       "      <th>TM_change_in_price</th>\n",
       "      <th>TRYUSD=X_change_in_price</th>\n",
       "      <th>^IXIC_change_in_price</th>\n",
       "    </tr>\n",
       "  </thead>\n",
       "  <tbody>\n",
       "    <tr>\n",
       "      <th>0</th>\n",
       "      <td>0.4</td>\n",
       "      <td>0.4</td>\n",
       "      <td>0.4</td>\n",
       "      <td>0.4</td>\n",
       "      <td>0.8</td>\n",
       "      <td>0.6</td>\n",
       "    </tr>\n",
       "    <tr>\n",
       "      <th>1</th>\n",
       "      <td>0.6</td>\n",
       "      <td>0.4</td>\n",
       "      <td>0.8</td>\n",
       "      <td>0.8</td>\n",
       "      <td>1.0</td>\n",
       "      <td>0.6</td>\n",
       "    </tr>\n",
       "    <tr>\n",
       "      <th>2</th>\n",
       "      <td>0.8</td>\n",
       "      <td>0.4</td>\n",
       "      <td>0.2</td>\n",
       "      <td>0.8</td>\n",
       "      <td>0.6</td>\n",
       "      <td>0.4</td>\n",
       "    </tr>\n",
       "    <tr>\n",
       "      <th>3</th>\n",
       "      <td>0.6</td>\n",
       "      <td>0.4</td>\n",
       "      <td>1.0</td>\n",
       "      <td>0.2</td>\n",
       "      <td>0.4</td>\n",
       "      <td>0.2</td>\n",
       "    </tr>\n",
       "    <tr>\n",
       "      <th>4</th>\n",
       "      <td>0.6</td>\n",
       "      <td>0.8</td>\n",
       "      <td>1.0</td>\n",
       "      <td>0.6</td>\n",
       "      <td>0.4</td>\n",
       "      <td>0.6</td>\n",
       "    </tr>\n",
       "    <tr>\n",
       "      <th>5</th>\n",
       "      <td>0.8</td>\n",
       "      <td>0.8</td>\n",
       "      <td>1.0</td>\n",
       "      <td>0.4</td>\n",
       "      <td>0.6</td>\n",
       "      <td>0.2</td>\n",
       "    </tr>\n",
       "    <tr>\n",
       "      <th>6</th>\n",
       "      <td>0.6</td>\n",
       "      <td>0.6</td>\n",
       "      <td>1.0</td>\n",
       "      <td>0.4</td>\n",
       "      <td>0.4</td>\n",
       "      <td>0.6</td>\n",
       "    </tr>\n",
       "    <tr>\n",
       "      <th>7</th>\n",
       "      <td>1.0</td>\n",
       "      <td>0.2</td>\n",
       "      <td>0.8</td>\n",
       "      <td>0.8</td>\n",
       "      <td>0.8</td>\n",
       "      <td>0.4</td>\n",
       "    </tr>\n",
       "    <tr>\n",
       "      <th>8</th>\n",
       "      <td>0.4</td>\n",
       "      <td>0.4</td>\n",
       "      <td>0.4</td>\n",
       "      <td>0.4</td>\n",
       "      <td>0.6</td>\n",
       "      <td>0.6</td>\n",
       "    </tr>\n",
       "    <tr>\n",
       "      <th>9</th>\n",
       "      <td>1.0</td>\n",
       "      <td>0.4</td>\n",
       "      <td>0.8</td>\n",
       "      <td>0.4</td>\n",
       "      <td>0.6</td>\n",
       "      <td>0.2</td>\n",
       "    </tr>\n",
       "  </tbody>\n",
       "</table>\n",
       "</div>"
      ],
      "text/plain": [
       "   CADUSD=X_change_in_price  GM_change_in_price  JCI_change_in_price  \\\n",
       "0                       0.4                 0.4                  0.4   \n",
       "1                       0.6                 0.4                  0.8   \n",
       "2                       0.8                 0.4                  0.2   \n",
       "3                       0.6                 0.4                  1.0   \n",
       "4                       0.6                 0.8                  1.0   \n",
       "5                       0.8                 0.8                  1.0   \n",
       "6                       0.6                 0.6                  1.0   \n",
       "7                       1.0                 0.2                  0.8   \n",
       "8                       0.4                 0.4                  0.4   \n",
       "9                       1.0                 0.4                  0.8   \n",
       "\n",
       "   TM_change_in_price  TRYUSD=X_change_in_price  ^IXIC_change_in_price  \n",
       "0                 0.4                       0.8                    0.6  \n",
       "1                 0.8                       1.0                    0.6  \n",
       "2                 0.8                       0.6                    0.4  \n",
       "3                 0.2                       0.4                    0.2  \n",
       "4                 0.6                       0.4                    0.6  \n",
       "5                 0.4                       0.6                    0.2  \n",
       "6                 0.4                       0.4                    0.6  \n",
       "7                 0.8                       0.8                    0.4  \n",
       "8                 0.4                       0.6                    0.6  \n",
       "9                 0.4                       0.6                    0.2  "
      ]
     },
     "execution_count": 31,
     "metadata": {},
     "output_type": "execute_result"
    }
   ],
   "source": [
    "acc_backtest_df = pd.DataFrame(acc_backtest)\n",
    "acc_backtest_df"
   ]
  },
  {
   "cell_type": "code",
   "execution_count": 32,
   "id": "6934ca71-792b-4fb7-9f59-51977de16ba5",
   "metadata": {},
   "outputs": [],
   "source": [
    "label_col = []\n",
    "for col in acc_backtest_df.columns:\n",
    "    s = col.split('_')[0]\n",
    "    label_col.append(s)"
   ]
  },
  {
   "cell_type": "code",
   "execution_count": 33,
   "id": "cbf79423-2b32-4189-a4ac-72bb499ba936",
   "metadata": {},
   "outputs": [],
   "source": [
    "x_col = [i for i in range(1, len(label_col) + 1)]"
   ]
  },
  {
   "cell_type": "code",
   "execution_count": 34,
   "id": "7b8f9f2d-b5a4-4ce1-a715-0c6db9527ee9",
   "metadata": {},
   "outputs": [
    {
     "data": {
      "image/png": "[encoded data removed]",
      "text/plain": [
       "<Figure size 1500x700 with 1 Axes>"
      ]
     },
     "metadata": {},
     "output_type": "display_data"
    }
   ],
   "source": [
    "plt.figure(figsize = (15, 7))\n",
    "plt.boxplot(acc_backtest_df)\n",
    "plt.xticks(x_col, label_col)\n",
    "plt.ylabel('Accuracy', fontsize=15)\n",
    "plt.title('Backtesting', fontsize = 15)\n",
    "plt.show()"
   ]
  },
  {
   "cell_type": "markdown",
   "id": "fc5dbda6-f8f0-4b6e-be4f-9dd3ca1d0fc1",
   "metadata": {},
   "source": [
    "## Forward validation"
   ]
  },
  {
   "cell_type": "markdown",
   "id": "c3722bdf-f2f8-4e25-a9b8-d8cc5d9d5833",
   "metadata": {},
   "source": [
    "## Week1: Nov 4 - Nov 8"
   ]
  },
  {
   "cell_type": "code",
   "execution_count": 87,
   "id": "b247adb9-6704-4af7-9a3f-fc1b81bfa632",
   "metadata": {},
   "outputs": [],
   "source": [
    "start = '2024-8-8'\n",
    "end = '2024-11-30'"
   ]
  },
  {
   "cell_type": "code",
   "execution_count": 88,
   "id": "956ba3d4-40be-4499-b6f2-2ba489870c32",
   "metadata": {},
   "outputs": [
    {
     "name": "stderr",
     "output_type": "stream",
     "text": [
      "[*********************100%***********************]  1 of 1 completed\n",
      "[*********************100%***********************]  1 of 1 completed\n",
      "[*********************100%***********************]  1 of 1 completed\n",
      "[*********************100%***********************]  1 of 1 completed\n",
      "[*********************100%***********************]  1 of 1 completed\n",
      "[*********************100%***********************]  1 of 1 completed\n",
      "[*********************100%***********************]  1 of 1 completed\n"
     ]
    }
   ],
   "source": [
    "Ford = yf.download('F', start=start, end=end)\n",
    "CADUSD = yf.download('CADUSD=X', start=start, end=end)\n",
    "GM = yf.download('GM', start=start, end=end)\n",
    "JCI = yf.download('JCI', start=start, end=end)\n",
    "TM = yf.download('TM', start=start, end=end)\n",
    "TRYUSD = yf.download('TRYUSD=X', start=start, end=end)\n",
    "IXIC = yf.download('^IXIC', start=start, end=end)"
   ]
  },
  {
   "cell_type": "code",
   "execution_count": 89,
   "id": "20cb7701-bcf3-4a16-8f00-d84dbadd1b93",
   "metadata": {},
   "outputs": [],
   "source": [
    "Ford['F_change_in_price'] = Ford.Close.diff().dropna()\n",
    "CADUSD['CADUSD=X_change_in_price'] = CADUSD.Close.diff().dropna()\n",
    "GM['GM_change_in_price'] = GM.Close.diff().dropna()\n",
    "JCI['JCI_change_in_price'] = JCI.Close.diff().dropna()\n",
    "TM['TM_change_in_price'] = TM.Close.diff().dropna()\n",
    "TRYUSD['TRYUSD=X_change_in_price'] = TRYUSD.Close.diff().dropna()\n",
    "IXIC['^IXIC_change_in_price'] = IXIC.Close.diff().dropna()"
   ]
  },
  {
   "cell_type": "code",
   "execution_count": 90,
   "id": "3ce90f4c-8686-4375-8d3b-375eda731277",
   "metadata": {},
   "outputs": [
    {
     "data": {
      "text/html": [
       "<div>\n",
       "<style scoped>\n",
       "    .dataframe tbody tr th:only-of-type {\n",
       "        vertical-align: middle;\n",
       "    }\n",
       "\n",
       "    .dataframe tbody tr th {\n",
       "        vertical-align: top;\n",
       "    }\n",
       "\n",
       "    .dataframe thead th {\n",
       "        text-align: right;\n",
       "    }\n",
       "</style>\n",
       "<table border=\"1\" class=\"dataframe\">\n",
       "  <thead>\n",
       "    <tr style=\"text-align: right;\">\n",
       "      <th></th>\n",
       "      <th>Open</th>\n",
       "      <th>High</th>\n",
       "      <th>Low</th>\n",
       "      <th>Close</th>\n",
       "      <th>Adj Close</th>\n",
       "      <th>Volume</th>\n",
       "      <th>CADUSD=X_change_in_price</th>\n",
       "    </tr>\n",
       "    <tr>\n",
       "      <th>Date</th>\n",
       "      <th></th>\n",
       "      <th></th>\n",
       "      <th></th>\n",
       "      <th></th>\n",
       "      <th></th>\n",
       "      <th></th>\n",
       "      <th></th>\n",
       "    </tr>\n",
       "  </thead>\n",
       "  <tbody>\n",
       "    <tr>\n",
       "      <th>2024-08-08</th>\n",
       "      <td>0.727024</td>\n",
       "      <td>0.728597</td>\n",
       "      <td>0.726491</td>\n",
       "      <td>0.727024</td>\n",
       "      <td>0.727024</td>\n",
       "      <td>0</td>\n",
       "      <td>NaN</td>\n",
       "    </tr>\n",
       "    <tr>\n",
       "      <th>2024-08-09</th>\n",
       "      <td>0.728046</td>\n",
       "      <td>0.728969</td>\n",
       "      <td>0.727347</td>\n",
       "      <td>0.728046</td>\n",
       "      <td>0.728046</td>\n",
       "      <td>0</td>\n",
       "      <td>0.001022</td>\n",
       "    </tr>\n",
       "    <tr>\n",
       "      <th>2024-08-12</th>\n",
       "      <td>0.728019</td>\n",
       "      <td>0.728969</td>\n",
       "      <td>0.727442</td>\n",
       "      <td>0.728019</td>\n",
       "      <td>0.728019</td>\n",
       "      <td>0</td>\n",
       "      <td>-0.000026</td>\n",
       "    </tr>\n",
       "    <tr>\n",
       "      <th>2024-08-13</th>\n",
       "      <td>0.727680</td>\n",
       "      <td>0.728847</td>\n",
       "      <td>0.727447</td>\n",
       "      <td>0.727680</td>\n",
       "      <td>0.727680</td>\n",
       "      <td>0</td>\n",
       "      <td>-0.000339</td>\n",
       "    </tr>\n",
       "    <tr>\n",
       "      <th>2024-08-14</th>\n",
       "      <td>0.729442</td>\n",
       "      <td>0.730514</td>\n",
       "      <td>0.728810</td>\n",
       "      <td>0.729442</td>\n",
       "      <td>0.729442</td>\n",
       "      <td>0</td>\n",
       "      <td>0.001762</td>\n",
       "    </tr>\n",
       "    <tr>\n",
       "      <th>...</th>\n",
       "      <td>...</td>\n",
       "      <td>...</td>\n",
       "      <td>...</td>\n",
       "      <td>...</td>\n",
       "      <td>...</td>\n",
       "      <td>...</td>\n",
       "      <td>...</td>\n",
       "    </tr>\n",
       "    <tr>\n",
       "      <th>2024-11-19</th>\n",
       "      <td>0.713145</td>\n",
       "      <td>0.715886</td>\n",
       "      <td>0.712479</td>\n",
       "      <td>0.713145</td>\n",
       "      <td>0.713145</td>\n",
       "      <td>0</td>\n",
       "      <td>0.003215</td>\n",
       "    </tr>\n",
       "    <tr>\n",
       "      <th>2024-11-20</th>\n",
       "      <td>0.716589</td>\n",
       "      <td>0.716897</td>\n",
       "      <td>0.713628</td>\n",
       "      <td>0.716589</td>\n",
       "      <td>0.716589</td>\n",
       "      <td>0</td>\n",
       "      <td>0.003444</td>\n",
       "    </tr>\n",
       "    <tr>\n",
       "      <th>2024-11-21</th>\n",
       "      <td>0.715922</td>\n",
       "      <td>0.717751</td>\n",
       "      <td>0.715436</td>\n",
       "      <td>0.715922</td>\n",
       "      <td>0.715922</td>\n",
       "      <td>0</td>\n",
       "      <td>-0.000667</td>\n",
       "    </tr>\n",
       "    <tr>\n",
       "      <th>2024-11-22</th>\n",
       "      <td>0.715308</td>\n",
       "      <td>0.716379</td>\n",
       "      <td>0.713435</td>\n",
       "      <td>0.715308</td>\n",
       "      <td>0.715308</td>\n",
       "      <td>0</td>\n",
       "      <td>-0.000614</td>\n",
       "    </tr>\n",
       "    <tr>\n",
       "      <th>2024-11-24</th>\n",
       "      <td>0.715308</td>\n",
       "      <td>0.717741</td>\n",
       "      <td>0.715308</td>\n",
       "      <td>0.717674</td>\n",
       "      <td>0.717674</td>\n",
       "      <td>0</td>\n",
       "      <td>0.002367</td>\n",
       "    </tr>\n",
       "  </tbody>\n",
       "</table>\n",
       "<p>78 rows × 7 columns</p>\n",
       "</div>"
      ],
      "text/plain": [
       "                Open      High       Low     Close  Adj Close  Volume  \\\n",
       "Date                                                                    \n",
       "2024-08-08  0.727024  0.728597  0.726491  0.727024   0.727024       0   \n",
       "2024-08-09  0.728046  0.728969  0.727347  0.728046   0.728046       0   \n",
       "2024-08-12  0.728019  0.728969  0.727442  0.728019   0.728019       0   \n",
       "2024-08-13  0.727680  0.728847  0.727447  0.727680   0.727680       0   \n",
       "2024-08-14  0.729442  0.730514  0.728810  0.729442   0.729442       0   \n",
       "...              ...       ...       ...       ...        ...     ...   \n",
       "2024-11-19  0.713145  0.715886  0.712479  0.713145   0.713145       0   \n",
       "2024-11-20  0.716589  0.716897  0.713628  0.716589   0.716589       0   \n",
       "2024-11-21  0.715922  0.717751  0.715436  0.715922   0.715922       0   \n",
       "2024-11-22  0.715308  0.716379  0.713435  0.715308   0.715308       0   \n",
       "2024-11-24  0.715308  0.717741  0.715308  0.717674   0.717674       0   \n",
       "\n",
       "            CADUSD=X_change_in_price  \n",
       "Date                                  \n",
       "2024-08-08                       NaN  \n",
       "2024-08-09                  0.001022  \n",
       "2024-08-12                 -0.000026  \n",
       "2024-08-13                 -0.000339  \n",
       "2024-08-14                  0.001762  \n",
       "...                              ...  \n",
       "2024-11-19                  0.003215  \n",
       "2024-11-20                  0.003444  \n",
       "2024-11-21                 -0.000667  \n",
       "2024-11-22                 -0.000614  \n",
       "2024-11-24                  0.002367  \n",
       "\n",
       "[78 rows x 7 columns]"
      ]
     },
     "execution_count": 90,
     "metadata": {},
     "output_type": "execute_result"
    }
   ],
   "source": [
    "CADUSD"
   ]
  },
  {
   "cell_type": "code",
   "execution_count": 91,
   "id": "34775b55-74bd-46da-ac8f-df43231e9a36",
   "metadata": {},
   "outputs": [],
   "source": [
    "Ford = Ford.reset_index()\n",
    "CADUSD = CADUSD.reset_index()\n",
    "GM = GM.reset_index()\n",
    "JCI = JCI.reset_index()\n",
    "TM = TM.reset_index()\n",
    "TRYUSD = TRYUSD.reset_index()\n",
    "IXIC = IXIC.reset_index()"
   ]
  },
  {
   "cell_type": "code",
   "execution_count": 92,
   "id": "7267aa47-7944-47f6-9f8e-604b5396b965",
   "metadata": {},
   "outputs": [
    {
     "name": "stdout",
     "output_type": "stream",
     "text": [
      "<class 'pandas.core.frame.DataFrame'>\n",
      "RangeIndex: 78 entries, 0 to 77\n",
      "Data columns (total 8 columns):\n",
      " #   Column                    Non-Null Count  Dtype         \n",
      "---  ------                    --------------  -----         \n",
      " 0   Date                      78 non-null     datetime64[ns]\n",
      " 1   Open                      78 non-null     float64       \n",
      " 2   High                      78 non-null     float64       \n",
      " 3   Low                       78 non-null     float64       \n",
      " 4   Close                     78 non-null     float64       \n",
      " 5   Adj Close                 78 non-null     float64       \n",
      " 6   Volume                    78 non-null     int64         \n",
      " 7   CADUSD=X_change_in_price  77 non-null     float64       \n",
      "dtypes: datetime64[ns](1), float64(6), int64(1)\n",
      "memory usage: 5.0 KB\n"
     ]
    }
   ],
   "source": [
    "CADUSD.info()"
   ]
  },
  {
   "cell_type": "code",
   "execution_count": 93,
   "id": "993cc02d-8c26-4567-8d7e-2f450fe3a0a2",
   "metadata": {},
   "outputs": [
    {
     "name": "stdout",
     "output_type": "stream",
     "text": [
      "<class 'pandas.core.frame.DataFrame'>\n",
      "RangeIndex: 76 entries, 0 to 75\n",
      "Data columns (total 8 columns):\n",
      " #   Column             Non-Null Count  Dtype         \n",
      "---  ------             --------------  -----         \n",
      " 0   Date               76 non-null     datetime64[ns]\n",
      " 1   Open               76 non-null     float64       \n",
      " 2   High               76 non-null     float64       \n",
      " 3   Low                76 non-null     float64       \n",
      " 4   Close              76 non-null     float64       \n",
      " 5   Adj Close          76 non-null     float64       \n",
      " 6   Volume             76 non-null     int64         \n",
      " 7   F_change_in_price  75 non-null     float64       \n",
      "dtypes: datetime64[ns](1), float64(6), int64(1)\n",
      "memory usage: 4.9 KB\n"
     ]
    }
   ],
   "source": [
    "Ford.info()"
   ]
  },
  {
   "cell_type": "code",
   "execution_count": 42,
   "id": "2a4fd7fb-71f9-410b-b4a7-f19a542e982d",
   "metadata": {},
   "outputs": [
    {
     "data": {
      "text/plain": [
       "10   2024-08-22\n",
       "11   2024-08-23\n",
       "12   2024-08-26\n",
       "13   2024-08-27\n",
       "14   2024-08-28\n",
       "15   2024-08-29\n",
       "16   2024-08-30\n",
       "17   2024-09-02\n",
       "18   2024-09-03\n",
       "19   2024-09-04\n",
       "Name: Date, dtype: datetime64[ns]"
      ]
     },
     "execution_count": 42,
     "metadata": {},
     "output_type": "execute_result"
    }
   ],
   "source": [
    "CADUSD.Date[10:20]"
   ]
  },
  {
   "cell_type": "code",
   "execution_count": 43,
   "id": "529febf2-629a-4ce2-b3f8-a775a26c9388",
   "metadata": {},
   "outputs": [
    {
     "data": {
      "text/plain": [
       "10   2024-08-22\n",
       "11   2024-08-23\n",
       "12   2024-08-26\n",
       "13   2024-08-27\n",
       "14   2024-08-28\n",
       "15   2024-08-29\n",
       "16   2024-08-30\n",
       "17   2024-09-03\n",
       "18   2024-09-04\n",
       "19   2024-09-05\n",
       "Name: Date, dtype: datetime64[ns]"
      ]
     },
     "execution_count": 43,
     "metadata": {},
     "output_type": "execute_result"
    }
   ],
   "source": [
    "Ford.Date[10:20]"
   ]
  },
  {
   "cell_type": "code",
   "execution_count": 94,
   "id": "a5639d34-9531-48d7-89db-942eb5479fbd",
   "metadata": {},
   "outputs": [
    {
     "data": {
      "text/html": [
       "<div>\n",
       "<style scoped>\n",
       "    .dataframe tbody tr th:only-of-type {\n",
       "        vertical-align: middle;\n",
       "    }\n",
       "\n",
       "    .dataframe tbody tr th {\n",
       "        vertical-align: top;\n",
       "    }\n",
       "\n",
       "    .dataframe thead th {\n",
       "        text-align: right;\n",
       "    }\n",
       "</style>\n",
       "<table border=\"1\" class=\"dataframe\">\n",
       "  <thead>\n",
       "    <tr style=\"text-align: right;\">\n",
       "      <th></th>\n",
       "      <th>Date</th>\n",
       "      <th>F_change_in_price</th>\n",
       "      <th>CADUSD=X_change_in_price</th>\n",
       "      <th>GM_change_in_price</th>\n",
       "      <th>JCI_change_in_price</th>\n",
       "      <th>TM_change_in_price</th>\n",
       "      <th>TRYUSD=X_change_in_price</th>\n",
       "      <th>^IXIC_change_in_price</th>\n",
       "    </tr>\n",
       "  </thead>\n",
       "  <tbody>\n",
       "    <tr>\n",
       "      <th>0</th>\n",
       "      <td>2024-08-08</td>\n",
       "      <td>NaN</td>\n",
       "      <td>NaN</td>\n",
       "      <td>NaN</td>\n",
       "      <td>NaN</td>\n",
       "      <td>NaN</td>\n",
       "      <td>NaN</td>\n",
       "      <td>NaN</td>\n",
       "    </tr>\n",
       "    <tr>\n",
       "      <th>1</th>\n",
       "      <td>2024-08-09</td>\n",
       "      <td>-0.030000</td>\n",
       "      <td>0.001022</td>\n",
       "      <td>0.750000</td>\n",
       "      <td>-0.119995</td>\n",
       "      <td>-0.779999</td>\n",
       "      <td>-0.000018</td>\n",
       "      <td>85.281250</td>\n",
       "    </tr>\n",
       "    <tr>\n",
       "      <th>2</th>\n",
       "      <td>2024-08-12</td>\n",
       "      <td>-0.240001</td>\n",
       "      <td>-0.000026</td>\n",
       "      <td>-0.489998</td>\n",
       "      <td>-1.090004</td>\n",
       "      <td>-0.619995</td>\n",
       "      <td>0.000008</td>\n",
       "      <td>35.308594</td>\n",
       "    </tr>\n",
       "    <tr>\n",
       "      <th>3</th>\n",
       "      <td>2024-08-13</td>\n",
       "      <td>0.280001</td>\n",
       "      <td>-0.000339</td>\n",
       "      <td>0.329998</td>\n",
       "      <td>1.260002</td>\n",
       "      <td>4.419998</td>\n",
       "      <td>0.000062</td>\n",
       "      <td>407.000000</td>\n",
       "    </tr>\n",
       "    <tr>\n",
       "      <th>4</th>\n",
       "      <td>2024-08-14</td>\n",
       "      <td>0.040000</td>\n",
       "      <td>0.001762</td>\n",
       "      <td>0.290001</td>\n",
       "      <td>0.680000</td>\n",
       "      <td>4.619995</td>\n",
       "      <td>-0.000050</td>\n",
       "      <td>4.990234</td>\n",
       "    </tr>\n",
       "    <tr>\n",
       "      <th>...</th>\n",
       "      <td>...</td>\n",
       "      <td>...</td>\n",
       "      <td>...</td>\n",
       "      <td>...</td>\n",
       "      <td>...</td>\n",
       "      <td>...</td>\n",
       "      <td>...</td>\n",
       "      <td>...</td>\n",
       "    </tr>\n",
       "    <tr>\n",
       "      <th>71</th>\n",
       "      <td>2024-11-18</td>\n",
       "      <td>0.200000</td>\n",
       "      <td>-0.003497</td>\n",
       "      <td>-0.790001</td>\n",
       "      <td>-0.750000</td>\n",
       "      <td>1.940002</td>\n",
       "      <td>0.000041</td>\n",
       "      <td>111.691406</td>\n",
       "    </tr>\n",
       "    <tr>\n",
       "      <th>72</th>\n",
       "      <td>2024-11-19</td>\n",
       "      <td>-0.160000</td>\n",
       "      <td>-0.001232</td>\n",
       "      <td>-1.139999</td>\n",
       "      <td>-0.120003</td>\n",
       "      <td>0.610001</td>\n",
       "      <td>-0.000045</td>\n",
       "      <td>195.660156</td>\n",
       "    </tr>\n",
       "    <tr>\n",
       "      <th>73</th>\n",
       "      <td>2024-11-20</td>\n",
       "      <td>-0.320001</td>\n",
       "      <td>0.003215</td>\n",
       "      <td>-0.240002</td>\n",
       "      <td>-0.549995</td>\n",
       "      <td>-2.479996</td>\n",
       "      <td>-0.000188</td>\n",
       "      <td>-21.330078</td>\n",
       "    </tr>\n",
       "    <tr>\n",
       "      <th>74</th>\n",
       "      <td>2024-11-21</td>\n",
       "      <td>0.070001</td>\n",
       "      <td>0.003444</td>\n",
       "      <td>0.810001</td>\n",
       "      <td>1.009995</td>\n",
       "      <td>0.470001</td>\n",
       "      <td>0.000061</td>\n",
       "      <td>6.279297</td>\n",
       "    </tr>\n",
       "    <tr>\n",
       "      <th>75</th>\n",
       "      <td>2024-11-22</td>\n",
       "      <td>0.380000</td>\n",
       "      <td>-0.000667</td>\n",
       "      <td>2.849998</td>\n",
       "      <td>-0.540001</td>\n",
       "      <td>1.019989</td>\n",
       "      <td>0.000025</td>\n",
       "      <td>31.230469</td>\n",
       "    </tr>\n",
       "  </tbody>\n",
       "</table>\n",
       "<p>76 rows × 8 columns</p>\n",
       "</div>"
      ],
      "text/plain": [
       "         Date  F_change_in_price  CADUSD=X_change_in_price  \\\n",
       "0  2024-08-08                NaN                       NaN   \n",
       "1  2024-08-09          -0.030000                  0.001022   \n",
       "2  2024-08-12          -0.240001                 -0.000026   \n",
       "3  2024-08-13           0.280001                 -0.000339   \n",
       "4  2024-08-14           0.040000                  0.001762   \n",
       "..        ...                ...                       ...   \n",
       "71 2024-11-18           0.200000                 -0.003497   \n",
       "72 2024-11-19          -0.160000                 -0.001232   \n",
       "73 2024-11-20          -0.320001                  0.003215   \n",
       "74 2024-11-21           0.070001                  0.003444   \n",
       "75 2024-11-22           0.380000                 -0.000667   \n",
       "\n",
       "    GM_change_in_price  JCI_change_in_price  TM_change_in_price  \\\n",
       "0                  NaN                  NaN                 NaN   \n",
       "1             0.750000            -0.119995           -0.779999   \n",
       "2            -0.489998            -1.090004           -0.619995   \n",
       "3             0.329998             1.260002            4.419998   \n",
       "4             0.290001             0.680000            4.619995   \n",
       "..                 ...                  ...                 ...   \n",
       "71           -0.790001            -0.750000            1.940002   \n",
       "72           -1.139999            -0.120003            0.610001   \n",
       "73           -0.240002            -0.549995           -2.479996   \n",
       "74            0.810001             1.009995            0.470001   \n",
       "75            2.849998            -0.540001            1.019989   \n",
       "\n",
       "    TRYUSD=X_change_in_price  ^IXIC_change_in_price  \n",
       "0                        NaN                    NaN  \n",
       "1                  -0.000018              85.281250  \n",
       "2                   0.000008              35.308594  \n",
       "3                   0.000062             407.000000  \n",
       "4                  -0.000050               4.990234  \n",
       "..                       ...                    ...  \n",
       "71                  0.000041             111.691406  \n",
       "72                 -0.000045             195.660156  \n",
       "73                 -0.000188             -21.330078  \n",
       "74                  0.000061               6.279297  \n",
       "75                  0.000025              31.230469  \n",
       "\n",
       "[76 rows x 8 columns]"
      ]
     },
     "execution_count": 94,
     "metadata": {},
     "output_type": "execute_result"
    }
   ],
   "source": [
    "df_forward = pd.DataFrame(Ford.Date.copy())\n",
    "df_forward = pd.concat([df_forward, Ford.F_change_in_price.copy(),\n",
    "                           CADUSD['CADUSD=X_change_in_price'].copy(),\n",
    "                           GM['GM_change_in_price'].copy(),\n",
    "                           JCI['JCI_change_in_price'].copy(),\n",
    "                           TM['TM_change_in_price'].copy(),\n",
    "                           TRYUSD['TRYUSD=X_change_in_price'].copy(),\n",
    "                           IXIC['^IXIC_change_in_price'].copy()], axis=1, join='inner') # Remove US holidays\n",
    "df_forward"
   ]
  },
  {
   "cell_type": "code",
   "execution_count": 60,
   "id": "47979940-8faa-4252-8097-911368654d2f",
   "metadata": {},
   "outputs": [
    {
     "data": {
      "text/html": [
       "<div>\n",
       "<style scoped>\n",
       "    .dataframe tbody tr th:only-of-type {\n",
       "        vertical-align: middle;\n",
       "    }\n",
       "\n",
       "    .dataframe tbody tr th {\n",
       "        vertical-align: top;\n",
       "    }\n",
       "\n",
       "    .dataframe thead th {\n",
       "        text-align: right;\n",
       "    }\n",
       "</style>\n",
       "<table border=\"1\" class=\"dataframe\">\n",
       "  <thead>\n",
       "    <tr style=\"text-align: right;\">\n",
       "      <th></th>\n",
       "      <th>F_change_in_price</th>\n",
       "      <th>CADUSD=X_change_in_price</th>\n",
       "    </tr>\n",
       "  </thead>\n",
       "  <tbody>\n",
       "    <tr>\n",
       "      <th>61</th>\n",
       "      <td>0.139999</td>\n",
       "      <td>-0.001403</td>\n",
       "    </tr>\n",
       "  </tbody>\n",
       "</table>\n",
       "</div>"
      ],
      "text/plain": [
       "    F_change_in_price  CADUSD=X_change_in_price\n",
       "61           0.139999                 -0.001403"
      ]
     },
     "execution_count": 60,
     "metadata": {},
     "output_type": "execute_result"
    }
   ],
   "source": [
    "df_forward[df_forward.Date == '2024-11-04'][['F_change_in_price', change_in_price_cols[0]]]"
   ]
  },
  {
   "cell_type": "code",
   "execution_count": 105,
   "id": "99df829f-4872-49bf-9f37-159a80b2d037",
   "metadata": {},
   "outputs": [
    {
     "data": {
      "text/html": [
       "<div>\n",
       "<style scoped>\n",
       "    .dataframe tbody tr th:only-of-type {\n",
       "        vertical-align: middle;\n",
       "    }\n",
       "\n",
       "    .dataframe tbody tr th {\n",
       "        vertical-align: top;\n",
       "    }\n",
       "\n",
       "    .dataframe thead th {\n",
       "        text-align: right;\n",
       "    }\n",
       "</style>\n",
       "<table border=\"1\" class=\"dataframe\">\n",
       "  <thead>\n",
       "    <tr style=\"text-align: right;\">\n",
       "      <th></th>\n",
       "      <th>Date</th>\n",
       "      <th>F_change_in_price</th>\n",
       "      <th>CADUSD=X_change_in_price</th>\n",
       "    </tr>\n",
       "  </thead>\n",
       "  <tbody>\n",
       "    <tr>\n",
       "      <th>61</th>\n",
       "      <td>2024-11-04</td>\n",
       "      <td>0.139999</td>\n",
       "      <td>-0.001403</td>\n",
       "    </tr>\n",
       "    <tr>\n",
       "      <th>62</th>\n",
       "      <td>2024-11-05</td>\n",
       "      <td>0.240001</td>\n",
       "      <td>0.000846</td>\n",
       "    </tr>\n",
       "    <tr>\n",
       "      <th>63</th>\n",
       "      <td>2024-11-06</td>\n",
       "      <td>0.589999</td>\n",
       "      <td>0.000935</td>\n",
       "    </tr>\n",
       "    <tr>\n",
       "      <th>64</th>\n",
       "      <td>2024-11-07</td>\n",
       "      <td>-0.230000</td>\n",
       "      <td>0.003521</td>\n",
       "    </tr>\n",
       "    <tr>\n",
       "      <th>65</th>\n",
       "      <td>2024-11-08</td>\n",
       "      <td>0.010000</td>\n",
       "      <td>-0.005971</td>\n",
       "    </tr>\n",
       "  </tbody>\n",
       "</table>\n",
       "</div>"
      ],
      "text/plain": [
       "         Date  F_change_in_price  CADUSD=X_change_in_price\n",
       "61 2024-11-04           0.139999                 -0.001403\n",
       "62 2024-11-05           0.240001                  0.000846\n",
       "63 2024-11-06           0.589999                  0.000935\n",
       "64 2024-11-07          -0.230000                  0.003521\n",
       "65 2024-11-08           0.010000                 -0.005971"
      ]
     },
     "execution_count": 105,
     "metadata": {},
     "output_type": "execute_result"
    }
   ],
   "source": [
    "df_forward.iloc[61:66][['Date','F_change_in_price', change_in_price_cols[0]]]"
   ]
  },
  {
   "cell_type": "code",
   "execution_count": 95,
   "id": "e3132f7a-4c62-457f-8385-b69a3423c142",
   "metadata": {},
   "outputs": [
    {
     "data": {
      "text/plain": [
       "(array([], dtype=int64),)"
      ]
     },
     "execution_count": 95,
     "metadata": {},
     "output_type": "execute_result"
    }
   ],
   "source": [
    "np.where(df_forward.Date == '2024-09-02')"
   ]
  },
  {
   "cell_type": "code",
   "execution_count": 130,
   "id": "2872cd32-6178-481e-8fb9-03980a1cd6eb",
   "metadata": {},
   "outputs": [],
   "source": [
    "acc_forward = {}\n",
    "pred_forward = {}\n",
    "\n",
    "for i in range(len(change_in_price_cols) - 1):\n",
    "    opt_order = optimal_order.loc[i, 'Optimal order']\n",
    "    acc_forward[change_in_price_cols[i]] = []\n",
    "    pred_forward[change_in_price_cols[i]] = []\n",
    "    ch = np.where(df_forward.Date == '2024-11-04')[0][0]\n",
    "    train_forward = df_forward.iloc[ch - opt_order: ch][['F_change_in_price', change_in_price_cols[i]]]\n",
    "    test_forward = df_forward.iloc[ch: ch + forecast_length][['F_change_in_price', change_in_price_cols[i]]]\n",
    "    scaler = StandardScaler()\n",
    "    scaled_train = pd.DataFrame(scaler.fit_transform(train_forward), \n",
    "                                    columns = train_forward.columns, \n",
    "                                    index = train_forward.index)\n",
    "    scaled_test = pd.DataFrame(scaler.transform(test_forward), \n",
    "                                   columns = test_forward.columns, \n",
    "                                   index = test_forward.index)\n",
    "    # Model\n",
    "    result = res[change_in_price_cols[i]]\n",
    "    pred = result.forecast(scaled_train.values, steps=5)\n",
    "    pred_forward[change_in_price_cols[i]].append(pred[:,0])\n",
    "    acc_forward[change_in_price_cols[i]].append(sum(pred[:, 0]*scaled_test['F_change_in_price'] > 0)/len(scaled_test))"
   ]
  },
  {
   "cell_type": "code",
   "execution_count": 131,
   "id": "9203206f-a224-46a5-ac69-8e46c2ea137f",
   "metadata": {},
   "outputs": [
    {
     "data": {
      "text/plain": [
       "{'CADUSD=X_change_in_price': [0.4],\n",
       " 'GM_change_in_price': [0.6],\n",
       " 'JCI_change_in_price': [0.4],\n",
       " 'TM_change_in_price': [0.6],\n",
       " 'TRYUSD=X_change_in_price': [0.6],\n",
       " '^IXIC_change_in_price': [0.2]}"
      ]
     },
     "execution_count": 131,
     "metadata": {},
     "output_type": "execute_result"
    }
   ],
   "source": [
    "acc_forward"
   ]
  },
  {
   "cell_type": "code",
   "execution_count": 132,
   "id": "7fa72655-39c2-4725-a955-b0bda963a7fd",
   "metadata": {},
   "outputs": [
    {
     "data": {
      "text/plain": [
       "{'CADUSD=X_change_in_price': [array([ 0.09584633,  0.0844921 , -0.04822136,  0.04029509, -0.05150928])],\n",
       " 'GM_change_in_price': [array([-0.1371369 , -0.02913282,  0.08035548, -0.04258115,  0.0255456 ])],\n",
       " 'JCI_change_in_price': [array([-0.35065181,  0.24059351, -0.14187215, -0.25828055, -0.45023435])],\n",
       " 'TM_change_in_price': [array([-0.01455466,  0.0503725 ,  0.07077059,  0.03403024,  0.01598521])],\n",
       " 'TRYUSD=X_change_in_price': [array([-0.02801164,  0.18570887,  0.1015555 , -0.39080991, -0.08559965])],\n",
       " '^IXIC_change_in_price': [array([-0.19943331,  0.2089175 , -0.04522145,  0.01126992, -0.06267862])]}"
      ]
     },
     "execution_count": 132,
     "metadata": {},
     "output_type": "execute_result"
    }
   ],
   "source": [
    "pred_forward"
   ]
  },
  {
   "cell_type": "code",
   "execution_count": 133,
   "id": "74764791-5316-491f-987c-7bb97f6900d1",
   "metadata": {},
   "outputs": [
    {
     "data": {
      "text/html": [
       "<div>\n",
       "<style scoped>\n",
       "    .dataframe tbody tr th:only-of-type {\n",
       "        vertical-align: middle;\n",
       "    }\n",
       "\n",
       "    .dataframe tbody tr th {\n",
       "        vertical-align: top;\n",
       "    }\n",
       "\n",
       "    .dataframe thead th {\n",
       "        text-align: right;\n",
       "    }\n",
       "</style>\n",
       "<table border=\"1\" class=\"dataframe\">\n",
       "  <thead>\n",
       "    <tr style=\"text-align: right;\">\n",
       "      <th></th>\n",
       "      <th>F_change_in_price</th>\n",
       "      <th>^IXIC_change_in_price</th>\n",
       "    </tr>\n",
       "  </thead>\n",
       "  <tbody>\n",
       "    <tr>\n",
       "      <th>61</th>\n",
       "      <td>0.139999</td>\n",
       "      <td>-59.939453</td>\n",
       "    </tr>\n",
       "    <tr>\n",
       "      <th>62</th>\n",
       "      <td>0.240001</td>\n",
       "      <td>259.189453</td>\n",
       "    </tr>\n",
       "    <tr>\n",
       "      <th>63</th>\n",
       "      <td>0.589999</td>\n",
       "      <td>544.300781</td>\n",
       "    </tr>\n",
       "    <tr>\n",
       "      <th>64</th>\n",
       "      <td>-0.230000</td>\n",
       "      <td>285.990234</td>\n",
       "    </tr>\n",
       "    <tr>\n",
       "      <th>65</th>\n",
       "      <td>0.010000</td>\n",
       "      <td>17.318359</td>\n",
       "    </tr>\n",
       "  </tbody>\n",
       "</table>\n",
       "</div>"
      ],
      "text/plain": [
       "    F_change_in_price  ^IXIC_change_in_price\n",
       "61           0.139999             -59.939453\n",
       "62           0.240001             259.189453\n",
       "63           0.589999             544.300781\n",
       "64          -0.230000             285.990234\n",
       "65           0.010000              17.318359"
      ]
     },
     "execution_count": 133,
     "metadata": {},
     "output_type": "execute_result"
    }
   ],
   "source": [
    "test_forward"
   ]
  },
  {
   "cell_type": "code",
   "execution_count": 123,
   "id": "1d8c1e62-dac7-47f3-931c-4f49ed2e03da",
   "metadata": {},
   "outputs": [],
   "source": [
    "def forward_validation(d='2024-11-04'):\n",
    "    acc_forward = {}\n",
    "    for i in range(len(change_in_price_cols) - 1):\n",
    "        opt_order = optimal_order.loc[i, 'Optimal order']\n",
    "        acc_forward[change_in_price_cols[i]] = []\n",
    "        ch = np.where(df_forward.Date == d)[0][0]\n",
    "        train_forward = df_forward.iloc[ch - opt_order: ch][['F_change_in_price', change_in_price_cols[i]]]\n",
    "        test_forward = df_forward.iloc[ch: ch + forecast_length][['F_change_in_price', change_in_price_cols[i]]]\n",
    "        scaler = StandardScaler()\n",
    "        scaled_train = pd.DataFrame(scaler.fit_transform(train_forward), \n",
    "                                        columns = train_forward.columns, \n",
    "                                        index = train_forward.index)\n",
    "        scaled_test = pd.DataFrame(scaler.transform(test_forward), \n",
    "                                       columns = test_forward.columns, \n",
    "                                       index = test_forward.index)\n",
    "        # Model\n",
    "        result = res[change_in_price_cols[i]]\n",
    "        pred = result.forecast(scaled_train.values, steps=5)\n",
    "        acc_forward[change_in_price_cols[i]].append(sum(pred[:, 0]*scaled_test['F_change_in_price'] > 0)/len(scaled_test))\n",
    "\n",
    "    return acc_forward"
   ]
  },
  {
   "cell_type": "code",
   "execution_count": 124,
   "id": "87b9fab5-e6ad-48a1-9b2e-bd5443cd42f8",
   "metadata": {},
   "outputs": [],
   "source": [
    "acc_forward_1 = forward_validation('2024-11-04')"
   ]
  },
  {
   "cell_type": "code",
   "execution_count": 125,
   "id": "7878e779-1c60-4fed-b41c-3b9dd8d9d51e",
   "metadata": {},
   "outputs": [
    {
     "data": {
      "text/plain": [
       "{'CADUSD=X_change_in_price': [0.4],\n",
       " 'GM_change_in_price': [0.6],\n",
       " 'JCI_change_in_price': [0.4],\n",
       " 'TM_change_in_price': [0.6],\n",
       " 'TRYUSD=X_change_in_price': [0.6],\n",
       " '^IXIC_change_in_price': [0.2]}"
      ]
     },
     "execution_count": 125,
     "metadata": {},
     "output_type": "execute_result"
    }
   ],
   "source": [
    "acc_forward_1"
   ]
  },
  {
   "cell_type": "code",
   "execution_count": 126,
   "id": "03e96225-bec8-4be8-a616-05886bfba7d9",
   "metadata": {},
   "outputs": [],
   "source": [
    "# Week 2\n",
    "acc_forward_2 = forward_validation('2024-11-11')"
   ]
  },
  {
   "cell_type": "code",
   "execution_count": 117,
   "id": "e54807ec-f95c-495e-a921-f7740c80ae94",
   "metadata": {},
   "outputs": [
    {
     "data": {
      "text/plain": [
       "{'CADUSD=X_change_in_price': [0.4],\n",
       " 'GM_change_in_price': [0.6],\n",
       " 'JCI_change_in_price': [0.2],\n",
       " 'TM_change_in_price': [0.4],\n",
       " 'TRYUSD=X_change_in_price': [0.6],\n",
       " '^IXIC_change_in_price': [0.8]}"
      ]
     },
     "execution_count": 117,
     "metadata": {},
     "output_type": "execute_result"
    }
   ],
   "source": [
    "acc_forward_2"
   ]
  },
  {
   "cell_type": "code",
   "execution_count": 127,
   "id": "8e6c0285-9d33-4819-aa7e-153fc3268fe5",
   "metadata": {},
   "outputs": [],
   "source": [
    "# Week 3\n",
    "acc_forward_3 = forward_validation('2024-11-18')"
   ]
  },
  {
   "cell_type": "code",
   "execution_count": 119,
   "id": "91377846-a0b6-4111-b66a-b5e32df35f2f",
   "metadata": {},
   "outputs": [
    {
     "data": {
      "text/plain": [
       "{'CADUSD=X_change_in_price': [0.4],\n",
       " 'GM_change_in_price': [0.6],\n",
       " 'JCI_change_in_price': [0.6],\n",
       " 'TM_change_in_price': [0.4],\n",
       " 'TRYUSD=X_change_in_price': [0.6],\n",
       " '^IXIC_change_in_price': [0.4]}"
      ]
     },
     "execution_count": 119,
     "metadata": {},
     "output_type": "execute_result"
    }
   ],
   "source": [
    "acc_forward_3"
   ]
  },
  {
   "cell_type": "code",
   "execution_count": 128,
   "id": "2dd802f9-a4b0-488e-a043-b4de9906a7a4",
   "metadata": {},
   "outputs": [
    {
     "data": {
      "text/plain": [
       "np.float64(0.4666666666666666)"
      ]
     },
     "execution_count": 128,
     "metadata": {},
     "output_type": "execute_result"
    }
   ],
   "source": [
    "np.mean((acc_forward_1['^IXIC_change_in_price'] + acc_forward_2['^IXIC_change_in_price'] + acc_forward_3['^IXIC_change_in_price']))"
   ]
  },
  {
   "cell_type": "code",
   "execution_count": 129,
   "id": "4644b80d-15c6-4257-8e74-8b9177ac325b",
   "metadata": {},
   "outputs": [
    {
     "data": {
      "text/plain": [
       "np.float64(0.6)"
      ]
     },
     "execution_count": 129,
     "metadata": {},
     "output_type": "execute_result"
    }
   ],
   "source": [
    "np.mean((acc_forward_1['GM_change_in_price'] + acc_forward_2['GM_change_in_price'] + acc_forward_3['GM_change_in_price']))"
   ]
  },
  {
   "cell_type": "code",
   "execution_count": null,
   "id": "a893e90f-bc6b-4b2a-a871-1e7522beed3e",
   "metadata": {},
   "outputs": [],
   "source": []
  }
 ],
 "metadata": {
  "kernelspec": {
   "display_name": "equity_vs_commodity",
   "language": "python",
   "name": "equity_vs_commodity"
  },
  "language_info": {
   "codemirror_mode": {
    "name": "ipython",
    "version": 3
   },
   "file_extension": ".py",
   "mimetype": "text/x-python",
   "name": "python",
   "nbconvert_exporter": "python",
   "pygments_lexer": "ipython3",
   "version": "3.12.6"
  }
 },
 "nbformat": 4,
 "nbformat_minor": 5
}

{
 "cells": [
  {
   "cell_type": "markdown",
   "id": "458df05c-1395-4349-b66e-5f60b83fff64",
   "metadata": {},
   "source": [
    "## Applying KNN with Time Series Split, Hyperparameter Tuning, and Dynamic Time Warping (DTW) on Stock Data\n"
   ]
  },
  {
   "cell_type": "markdown",
   "id": "037cb29a-404b-4cb0-a2ae-00c6116e4c42",
   "metadata": {},
   "source": [
    "This guide outlines the process of building an KNN model to classify stock behavior. The model's predictive performance can be enhanced by incorporating exploratory data analysis techniques, such as leveraging multiple tickers that are correlated with the target ticker and applying advanced statistical preprocessing methods."
   ]
  },
  {
   "cell_type": "markdown",
   "id": "f8597340",
   "metadata": {},
   "source": [
    "# KNN with Time Series Split, Hyperparameter Tuning, and DTW\n",
    "\n",
    "## 1. Introduction\n",
    "This study explores the application of the K-Nearest Neighbors (KNN) algorithm for predicting stock price movements. It focuses on:\n",
    "\n",
    "- Preprocessing the time series data with `TimeSeriesSplit`.\n",
    "- Hyperparameter tuning for KNN using metrics like accuracy.\n",
    "- Applying **Dynamic Time Warping (DTW)** to analyze and compare the last 60 days of stock movements.\n",
    "\n",
    "---\n",
    "\n",
    "## 2. Data Description\n",
    "The dataset contains:\n",
    "\n",
    "- Daily stock prices and technical indicators.\n",
    "- A `F_prediction` column, indicating whether the F stock price increases (1) or decreases (0) the following day.\n",
    "\n",
    "---\n",
    "\n",
    "## 3. Methodology\n",
    "\n",
    "### 3.1 Data Preprocessing\n",
    "1. **Features and Target**: Extract relevant features such as technical indicators (`SMA`, `EMA`, `MACD`, etc.) and define the target as price direction (0 or 1).\n",
    "2. **Scaling**: Normalize the features using `StandardScaler`.\n",
    "3. **Time Series Split**: Implement `TimeSeriesSplit` to ensure the training set always precedes the test set, preserving temporal order.\n",
    "\n",
    "---\n",
    "\n",
    "### 3.2 KNN Model\n",
    "1. **Baseline KNN**: Use KNN for binary classification to predict stock price movement.\n",
    "2. **Hyperparameter Tuning**: Perform grid search over:\n",
    "   - **Number of neighbors (\\( k \\))**: 3, 5, 7, etc.\n",
    "   - **Distance metrics**: `euclidean`, `manhattan`.\n",
    "   - **Weighting schemes**: `uniform`, `distance`.\n",
    "\n",
    "---\n",
    "\n",
    "### 3.3 Dynamic Time Warping (DTW)\n",
    "1. **Application on Last 60 Days**: Use DTW to measure the similarity between the last 60 days of stock prices and historical trends.\n",
    "2. **Insights**: Identify patterns and correlations for potential decision-making.\n",
    "\n",
    "\n",
    "# Dynamic Time Warping vs Euclidean Distance\n",
    "\n",
    "Dynamic Time Warping (DTW) and Euclidean Distance are two methods used to measure similarity between time series data. The following image illustrates the difference between these methods:\n",
    "\n",
    "![Dynamic Time Warping vs Euclidean Matching](image.png)\n",
    "\n",
    "**Key Points**:\n",
    "1. **Euclidean Matching**: Compares points in a one-to-one straight-line fashion, which is sensitive to distortions in time series alignment.\n",
    "2. **Dynamic Time Warping (DTW)**: Allows flexible matching of points, accommodating time distortions and non-linear alignments, making it better for complex time series comparisons.\n",
    "\n",
    "\n",
    "\n",
    "---\n",
    "\n",
    "## 4. Results\n",
    "1. **Performance Metrics**: Accuracy and performance for each split.\n",
    "2. **Hyperparameter Tuning Results**: Optimal \\( k \\), distance metric, and weighting scheme.\n",
    "3. **DTW Analysis**: Patterns identified in the last 60 days of data.\n",
    "\n",
    "---\n",
    "\n",
    "## 5. Conclusion\n",
    "This study demonstrates the utility of KNN for short-term stock movement prediction and DTW for similarity analysis. The combination of these methods provides a robust framework for financial time series analysis.\n"
   ]
  }
 ],
 "metadata": {
  "kernelspec": {
   "display_name": "Python 3 (ipykernel)",
   "language": "python",
   "name": "python3"
  },
  "language_info": {
   "codemirror_mode": {
    "name": "ipython",
    "version": 3
   },
   "file_extension": ".py",
   "mimetype": "text/x-python",
   "name": "python",
   "nbconvert_exporter": "python",
   "pygments_lexer": "ipython3",
   "version": "3.11.5"
  }
 },
 "nbformat": 4,
 "nbformat_minor": 5
}
